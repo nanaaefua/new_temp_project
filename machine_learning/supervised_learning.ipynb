{
 "cells": [
  {
   "cell_type": "code",
   "execution_count": 1,
   "metadata": {},
   "outputs": [],
   "source": [
    "import warnings\n",
    "warnings.filterwarnings('ignore')"
   ]
  },
  {
   "cell_type": "code",
   "execution_count": 2,
   "metadata": {},
   "outputs": [],
   "source": [
    "import numpy as np\n",
    "import pandas as pd\n",
    "from pathlib import Path\n",
    "from collections import Counter\n",
    "import matplotlib.pyplot as plt\n",
    "from sklearn.model_selection import train_test_split"
   ]
  },
  {
   "cell_type": "code",
   "execution_count": 3,
   "metadata": {},
   "outputs": [],
   "source": [
    "credits_df = pd.read_csv('../Resources/cleaned_credits.csv')"
   ]
  },
  {
   "cell_type": "code",
   "execution_count": 4,
   "metadata": {},
   "outputs": [],
   "source": [
    "titles_df = pd.read_csv('../Resources/cleaned_movie_db.csv')"
   ]
  },
  {
   "cell_type": "code",
   "execution_count": 5,
   "metadata": {},
   "outputs": [
    {
     "data": {
      "text/html": [
       "<div>\n",
       "<style scoped>\n",
       "    .dataframe tbody tr th:only-of-type {\n",
       "        vertical-align: middle;\n",
       "    }\n",
       "\n",
       "    .dataframe tbody tr th {\n",
       "        vertical-align: top;\n",
       "    }\n",
       "\n",
       "    .dataframe thead th {\n",
       "        text-align: right;\n",
       "    }\n",
       "</style>\n",
       "<table border=\"1\" class=\"dataframe\">\n",
       "  <thead>\n",
       "    <tr style=\"text-align: right;\">\n",
       "      <th></th>\n",
       "      <th>index_x</th>\n",
       "      <th>person_id</th>\n",
       "      <th>id</th>\n",
       "      <th>name</th>\n",
       "      <th>role</th>\n",
       "      <th>index_y</th>\n",
       "      <th>title</th>\n",
       "      <th>movie</th>\n",
       "      <th>release_year</th>\n",
       "      <th>age_certification</th>\n",
       "      <th>runtime</th>\n",
       "      <th>genres</th>\n",
       "      <th>production_countries</th>\n",
       "      <th>imdb_id</th>\n",
       "      <th>imdb_score</th>\n",
       "      <th>imdb_votes</th>\n",
       "      <th>tmdb_popularity</th>\n",
       "      <th>tmdb_score</th>\n",
       "    </tr>\n",
       "  </thead>\n",
       "  <tbody>\n",
       "    <tr>\n",
       "      <th>0</th>\n",
       "      <td>0</td>\n",
       "      <td>3748</td>\n",
       "      <td>tm84618</td>\n",
       "      <td>Robert De Niro</td>\n",
       "      <td>ACTOR</td>\n",
       "      <td>1</td>\n",
       "      <td>Taxi Driver</td>\n",
       "      <td>MOVIE</td>\n",
       "      <td>1976</td>\n",
       "      <td>R</td>\n",
       "      <td>113</td>\n",
       "      <td>[''crime'', ''drama'']</td>\n",
       "      <td>['US']</td>\n",
       "      <td>tt0075314</td>\n",
       "      <td>8.3</td>\n",
       "      <td>795222.0</td>\n",
       "      <td>27.612</td>\n",
       "      <td>8.2</td>\n",
       "    </tr>\n",
       "    <tr>\n",
       "      <th>1</th>\n",
       "      <td>1</td>\n",
       "      <td>14658</td>\n",
       "      <td>tm84618</td>\n",
       "      <td>Jodie Foster</td>\n",
       "      <td>ACTOR</td>\n",
       "      <td>1</td>\n",
       "      <td>Taxi Driver</td>\n",
       "      <td>MOVIE</td>\n",
       "      <td>1976</td>\n",
       "      <td>R</td>\n",
       "      <td>113</td>\n",
       "      <td>[''crime'', ''drama'']</td>\n",
       "      <td>['US']</td>\n",
       "      <td>tt0075314</td>\n",
       "      <td>8.3</td>\n",
       "      <td>795222.0</td>\n",
       "      <td>27.612</td>\n",
       "      <td>8.2</td>\n",
       "    </tr>\n",
       "    <tr>\n",
       "      <th>2</th>\n",
       "      <td>2</td>\n",
       "      <td>7064</td>\n",
       "      <td>tm84618</td>\n",
       "      <td>Albert Brooks</td>\n",
       "      <td>ACTOR</td>\n",
       "      <td>1</td>\n",
       "      <td>Taxi Driver</td>\n",
       "      <td>MOVIE</td>\n",
       "      <td>1976</td>\n",
       "      <td>R</td>\n",
       "      <td>113</td>\n",
       "      <td>[''crime'', ''drama'']</td>\n",
       "      <td>['US']</td>\n",
       "      <td>tt0075314</td>\n",
       "      <td>8.3</td>\n",
       "      <td>795222.0</td>\n",
       "      <td>27.612</td>\n",
       "      <td>8.2</td>\n",
       "    </tr>\n",
       "    <tr>\n",
       "      <th>3</th>\n",
       "      <td>3</td>\n",
       "      <td>3739</td>\n",
       "      <td>tm84618</td>\n",
       "      <td>Harvey Keitel</td>\n",
       "      <td>ACTOR</td>\n",
       "      <td>1</td>\n",
       "      <td>Taxi Driver</td>\n",
       "      <td>MOVIE</td>\n",
       "      <td>1976</td>\n",
       "      <td>R</td>\n",
       "      <td>113</td>\n",
       "      <td>[''crime'', ''drama'']</td>\n",
       "      <td>['US']</td>\n",
       "      <td>tt0075314</td>\n",
       "      <td>8.3</td>\n",
       "      <td>795222.0</td>\n",
       "      <td>27.612</td>\n",
       "      <td>8.2</td>\n",
       "    </tr>\n",
       "    <tr>\n",
       "      <th>4</th>\n",
       "      <td>4</td>\n",
       "      <td>48933</td>\n",
       "      <td>tm84618</td>\n",
       "      <td>Cybill Shepherd</td>\n",
       "      <td>ACTOR</td>\n",
       "      <td>1</td>\n",
       "      <td>Taxi Driver</td>\n",
       "      <td>MOVIE</td>\n",
       "      <td>1976</td>\n",
       "      <td>R</td>\n",
       "      <td>113</td>\n",
       "      <td>[''crime'', ''drama'']</td>\n",
       "      <td>['US']</td>\n",
       "      <td>tt0075314</td>\n",
       "      <td>8.3</td>\n",
       "      <td>795222.0</td>\n",
       "      <td>27.612</td>\n",
       "      <td>8.2</td>\n",
       "    </tr>\n",
       "    <tr>\n",
       "      <th>...</th>\n",
       "      <td>...</td>\n",
       "      <td>...</td>\n",
       "      <td>...</td>\n",
       "      <td>...</td>\n",
       "      <td>...</td>\n",
       "      <td>...</td>\n",
       "      <td>...</td>\n",
       "      <td>...</td>\n",
       "      <td>...</td>\n",
       "      <td>...</td>\n",
       "      <td>...</td>\n",
       "      <td>...</td>\n",
       "      <td>...</td>\n",
       "      <td>...</td>\n",
       "      <td>...</td>\n",
       "      <td>...</td>\n",
       "      <td>...</td>\n",
       "      <td>...</td>\n",
       "    </tr>\n",
       "    <tr>\n",
       "      <th>34128</th>\n",
       "      <td>76497</td>\n",
       "      <td>1185475</td>\n",
       "      <td>tm1019084</td>\n",
       "      <td>Antonia Gentry</td>\n",
       "      <td>ACTOR</td>\n",
       "      <td>5720</td>\n",
       "      <td>Ginny &amp; Georgia - The Afterparty</td>\n",
       "      <td>MOVIE</td>\n",
       "      <td>2021</td>\n",
       "      <td>R</td>\n",
       "      <td>35</td>\n",
       "      <td>[]</td>\n",
       "      <td>[''US'', ''CA'']</td>\n",
       "      <td>NaN</td>\n",
       "      <td>NaN</td>\n",
       "      <td>NaN</td>\n",
       "      <td>7.610</td>\n",
       "      <td>7.8</td>\n",
       "    </tr>\n",
       "    <tr>\n",
       "      <th>34129</th>\n",
       "      <td>76498</td>\n",
       "      <td>57076</td>\n",
       "      <td>tm1019084</td>\n",
       "      <td>Jennifer Robertson</td>\n",
       "      <td>ACTOR</td>\n",
       "      <td>5720</td>\n",
       "      <td>Ginny &amp; Georgia - The Afterparty</td>\n",
       "      <td>MOVIE</td>\n",
       "      <td>2021</td>\n",
       "      <td>R</td>\n",
       "      <td>35</td>\n",
       "      <td>[]</td>\n",
       "      <td>[''US'', ''CA'']</td>\n",
       "      <td>NaN</td>\n",
       "      <td>NaN</td>\n",
       "      <td>NaN</td>\n",
       "      <td>7.610</td>\n",
       "      <td>7.8</td>\n",
       "    </tr>\n",
       "    <tr>\n",
       "      <th>34130</th>\n",
       "      <td>76499</td>\n",
       "      <td>85368</td>\n",
       "      <td>tm1019084</td>\n",
       "      <td>Sara Waisglass</td>\n",
       "      <td>ACTOR</td>\n",
       "      <td>5720</td>\n",
       "      <td>Ginny &amp; Georgia - The Afterparty</td>\n",
       "      <td>MOVIE</td>\n",
       "      <td>2021</td>\n",
       "      <td>R</td>\n",
       "      <td>35</td>\n",
       "      <td>[]</td>\n",
       "      <td>[''US'', ''CA'']</td>\n",
       "      <td>NaN</td>\n",
       "      <td>NaN</td>\n",
       "      <td>NaN</td>\n",
       "      <td>7.610</td>\n",
       "      <td>7.8</td>\n",
       "    </tr>\n",
       "    <tr>\n",
       "      <th>34131</th>\n",
       "      <td>77011</td>\n",
       "      <td>2040919</td>\n",
       "      <td>tm1094060</td>\n",
       "      <td>Robin Wiltshire</td>\n",
       "      <td>ACTOR</td>\n",
       "      <td>5777</td>\n",
       "      <td>My Heroes Were Cowboys</td>\n",
       "      <td>MOVIE</td>\n",
       "      <td>2021</td>\n",
       "      <td>PG</td>\n",
       "      <td>23</td>\n",
       "      <td>['documentation']</td>\n",
       "      <td>['US']</td>\n",
       "      <td>tt15084326</td>\n",
       "      <td>NaN</td>\n",
       "      <td>NaN</td>\n",
       "      <td>3.688</td>\n",
       "      <td>7.7</td>\n",
       "    </tr>\n",
       "    <tr>\n",
       "      <th>34132</th>\n",
       "      <td>77012</td>\n",
       "      <td>2044574</td>\n",
       "      <td>tm1094060</td>\n",
       "      <td>Tyler Greco</td>\n",
       "      <td>DIRECTOR</td>\n",
       "      <td>5777</td>\n",
       "      <td>My Heroes Were Cowboys</td>\n",
       "      <td>MOVIE</td>\n",
       "      <td>2021</td>\n",
       "      <td>PG</td>\n",
       "      <td>23</td>\n",
       "      <td>['documentation']</td>\n",
       "      <td>['US']</td>\n",
       "      <td>tt15084326</td>\n",
       "      <td>NaN</td>\n",
       "      <td>NaN</td>\n",
       "      <td>3.688</td>\n",
       "      <td>7.7</td>\n",
       "    </tr>\n",
       "  </tbody>\n",
       "</table>\n",
       "<p>34133 rows × 18 columns</p>\n",
       "</div>"
      ],
      "text/plain": [
       "       index_x  person_id         id                name      role  index_y  \\\n",
       "0            0       3748    tm84618      Robert De Niro     ACTOR        1   \n",
       "1            1      14658    tm84618        Jodie Foster     ACTOR        1   \n",
       "2            2       7064    tm84618       Albert Brooks     ACTOR        1   \n",
       "3            3       3739    tm84618       Harvey Keitel     ACTOR        1   \n",
       "4            4      48933    tm84618     Cybill Shepherd     ACTOR        1   \n",
       "...        ...        ...        ...                 ...       ...      ...   \n",
       "34128    76497    1185475  tm1019084      Antonia Gentry     ACTOR     5720   \n",
       "34129    76498      57076  tm1019084  Jennifer Robertson     ACTOR     5720   \n",
       "34130    76499      85368  tm1019084      Sara Waisglass     ACTOR     5720   \n",
       "34131    77011    2040919  tm1094060     Robin Wiltshire     ACTOR     5777   \n",
       "34132    77012    2044574  tm1094060         Tyler Greco  DIRECTOR     5777   \n",
       "\n",
       "                                  title  movie  release_year  \\\n",
       "0                           Taxi Driver  MOVIE          1976   \n",
       "1                           Taxi Driver  MOVIE          1976   \n",
       "2                           Taxi Driver  MOVIE          1976   \n",
       "3                           Taxi Driver  MOVIE          1976   \n",
       "4                           Taxi Driver  MOVIE          1976   \n",
       "...                                 ...    ...           ...   \n",
       "34128  Ginny & Georgia - The Afterparty  MOVIE          2021   \n",
       "34129  Ginny & Georgia - The Afterparty  MOVIE          2021   \n",
       "34130  Ginny & Georgia - The Afterparty  MOVIE          2021   \n",
       "34131            My Heroes Were Cowboys  MOVIE          2021   \n",
       "34132            My Heroes Were Cowboys  MOVIE          2021   \n",
       "\n",
       "      age_certification  runtime                  genres production_countries  \\\n",
       "0                     R      113  [''crime'', ''drama'']               ['US']   \n",
       "1                     R      113  [''crime'', ''drama'']               ['US']   \n",
       "2                     R      113  [''crime'', ''drama'']               ['US']   \n",
       "3                     R      113  [''crime'', ''drama'']               ['US']   \n",
       "4                     R      113  [''crime'', ''drama'']               ['US']   \n",
       "...                 ...      ...                     ...                  ...   \n",
       "34128                 R       35                      []     [''US'', ''CA'']   \n",
       "34129                 R       35                      []     [''US'', ''CA'']   \n",
       "34130                 R       35                      []     [''US'', ''CA'']   \n",
       "34131                PG       23       ['documentation']               ['US']   \n",
       "34132                PG       23       ['documentation']               ['US']   \n",
       "\n",
       "          imdb_id  imdb_score  imdb_votes  tmdb_popularity  tmdb_score  \n",
       "0       tt0075314         8.3    795222.0           27.612         8.2  \n",
       "1       tt0075314         8.3    795222.0           27.612         8.2  \n",
       "2       tt0075314         8.3    795222.0           27.612         8.2  \n",
       "3       tt0075314         8.3    795222.0           27.612         8.2  \n",
       "4       tt0075314         8.3    795222.0           27.612         8.2  \n",
       "...           ...         ...         ...              ...         ...  \n",
       "34128         NaN         NaN         NaN            7.610         7.8  \n",
       "34129         NaN         NaN         NaN            7.610         7.8  \n",
       "34130         NaN         NaN         NaN            7.610         7.8  \n",
       "34131  tt15084326         NaN         NaN            3.688         7.7  \n",
       "34132  tt15084326         NaN         NaN            3.688         7.7  \n",
       "\n",
       "[34133 rows x 18 columns]"
      ]
     },
     "execution_count": 5,
     "metadata": {},
     "output_type": "execute_result"
    }
   ],
   "source": [
    "merged_df = credits_df.merge(titles_df, on= \"id\")\n",
    "merged_df"
   ]
  },
  {
   "cell_type": "code",
   "execution_count": 6,
   "metadata": {},
   "outputs": [
    {
     "data": {
      "text/plain": [
       "Fred Armisen                15\n",
       "Marcus Raboy                15\n",
       "Jay Karas                   15\n",
       "Fred Tatasciore             15\n",
       "Adam Sandler                14\n",
       "                            ..\n",
       "AnnaCorey                    1\n",
       "Moises Amaya                 1\n",
       "Natalie Stephany Aguilar     1\n",
       "Derek W. Adam                1\n",
       "Tyler Greco                  1\n",
       "Name: name, Length: 26012, dtype: int64"
      ]
     },
     "execution_count": 6,
     "metadata": {},
     "output_type": "execute_result"
    }
   ],
   "source": [
    "merged_df.name.value_counts()"
   ]
  },
  {
   "cell_type": "code",
   "execution_count": 7,
   "metadata": {},
   "outputs": [
    {
     "data": {
      "text/html": [
       "<div>\n",
       "<style scoped>\n",
       "    .dataframe tbody tr th:only-of-type {\n",
       "        vertical-align: middle;\n",
       "    }\n",
       "\n",
       "    .dataframe tbody tr th {\n",
       "        vertical-align: top;\n",
       "    }\n",
       "\n",
       "    .dataframe thead th {\n",
       "        text-align: right;\n",
       "    }\n",
       "</style>\n",
       "<table border=\"1\" class=\"dataframe\">\n",
       "  <thead>\n",
       "    <tr style=\"text-align: right;\">\n",
       "      <th></th>\n",
       "      <th>name</th>\n",
       "      <th>role</th>\n",
       "      <th>title</th>\n",
       "      <th>release_year</th>\n",
       "      <th>age_certification</th>\n",
       "      <th>runtime</th>\n",
       "      <th>genres</th>\n",
       "      <th>production_countries</th>\n",
       "      <th>imdb_score</th>\n",
       "      <th>imdb_votes</th>\n",
       "      <th>tmdb_popularity</th>\n",
       "      <th>tmdb_score</th>\n",
       "    </tr>\n",
       "  </thead>\n",
       "  <tbody>\n",
       "    <tr>\n",
       "      <th>0</th>\n",
       "      <td>Robert De Niro</td>\n",
       "      <td>ACTOR</td>\n",
       "      <td>Taxi Driver</td>\n",
       "      <td>1976</td>\n",
       "      <td>R</td>\n",
       "      <td>113</td>\n",
       "      <td>[''crime'', ''drama'']</td>\n",
       "      <td>['US']</td>\n",
       "      <td>8.3</td>\n",
       "      <td>795222.0</td>\n",
       "      <td>27.612</td>\n",
       "      <td>8.2</td>\n",
       "    </tr>\n",
       "    <tr>\n",
       "      <th>1</th>\n",
       "      <td>Jodie Foster</td>\n",
       "      <td>ACTOR</td>\n",
       "      <td>Taxi Driver</td>\n",
       "      <td>1976</td>\n",
       "      <td>R</td>\n",
       "      <td>113</td>\n",
       "      <td>[''crime'', ''drama'']</td>\n",
       "      <td>['US']</td>\n",
       "      <td>8.3</td>\n",
       "      <td>795222.0</td>\n",
       "      <td>27.612</td>\n",
       "      <td>8.2</td>\n",
       "    </tr>\n",
       "    <tr>\n",
       "      <th>2</th>\n",
       "      <td>Albert Brooks</td>\n",
       "      <td>ACTOR</td>\n",
       "      <td>Taxi Driver</td>\n",
       "      <td>1976</td>\n",
       "      <td>R</td>\n",
       "      <td>113</td>\n",
       "      <td>[''crime'', ''drama'']</td>\n",
       "      <td>['US']</td>\n",
       "      <td>8.3</td>\n",
       "      <td>795222.0</td>\n",
       "      <td>27.612</td>\n",
       "      <td>8.2</td>\n",
       "    </tr>\n",
       "    <tr>\n",
       "      <th>3</th>\n",
       "      <td>Harvey Keitel</td>\n",
       "      <td>ACTOR</td>\n",
       "      <td>Taxi Driver</td>\n",
       "      <td>1976</td>\n",
       "      <td>R</td>\n",
       "      <td>113</td>\n",
       "      <td>[''crime'', ''drama'']</td>\n",
       "      <td>['US']</td>\n",
       "      <td>8.3</td>\n",
       "      <td>795222.0</td>\n",
       "      <td>27.612</td>\n",
       "      <td>8.2</td>\n",
       "    </tr>\n",
       "    <tr>\n",
       "      <th>4</th>\n",
       "      <td>Cybill Shepherd</td>\n",
       "      <td>ACTOR</td>\n",
       "      <td>Taxi Driver</td>\n",
       "      <td>1976</td>\n",
       "      <td>R</td>\n",
       "      <td>113</td>\n",
       "      <td>[''crime'', ''drama'']</td>\n",
       "      <td>['US']</td>\n",
       "      <td>8.3</td>\n",
       "      <td>795222.0</td>\n",
       "      <td>27.612</td>\n",
       "      <td>8.2</td>\n",
       "    </tr>\n",
       "    <tr>\n",
       "      <th>...</th>\n",
       "      <td>...</td>\n",
       "      <td>...</td>\n",
       "      <td>...</td>\n",
       "      <td>...</td>\n",
       "      <td>...</td>\n",
       "      <td>...</td>\n",
       "      <td>...</td>\n",
       "      <td>...</td>\n",
       "      <td>...</td>\n",
       "      <td>...</td>\n",
       "      <td>...</td>\n",
       "      <td>...</td>\n",
       "    </tr>\n",
       "    <tr>\n",
       "      <th>34128</th>\n",
       "      <td>Antonia Gentry</td>\n",
       "      <td>ACTOR</td>\n",
       "      <td>Ginny &amp; Georgia - The Afterparty</td>\n",
       "      <td>2021</td>\n",
       "      <td>R</td>\n",
       "      <td>35</td>\n",
       "      <td>[]</td>\n",
       "      <td>[''US'', ''CA'']</td>\n",
       "      <td>NaN</td>\n",
       "      <td>NaN</td>\n",
       "      <td>7.610</td>\n",
       "      <td>7.8</td>\n",
       "    </tr>\n",
       "    <tr>\n",
       "      <th>34129</th>\n",
       "      <td>Jennifer Robertson</td>\n",
       "      <td>ACTOR</td>\n",
       "      <td>Ginny &amp; Georgia - The Afterparty</td>\n",
       "      <td>2021</td>\n",
       "      <td>R</td>\n",
       "      <td>35</td>\n",
       "      <td>[]</td>\n",
       "      <td>[''US'', ''CA'']</td>\n",
       "      <td>NaN</td>\n",
       "      <td>NaN</td>\n",
       "      <td>7.610</td>\n",
       "      <td>7.8</td>\n",
       "    </tr>\n",
       "    <tr>\n",
       "      <th>34130</th>\n",
       "      <td>Sara Waisglass</td>\n",
       "      <td>ACTOR</td>\n",
       "      <td>Ginny &amp; Georgia - The Afterparty</td>\n",
       "      <td>2021</td>\n",
       "      <td>R</td>\n",
       "      <td>35</td>\n",
       "      <td>[]</td>\n",
       "      <td>[''US'', ''CA'']</td>\n",
       "      <td>NaN</td>\n",
       "      <td>NaN</td>\n",
       "      <td>7.610</td>\n",
       "      <td>7.8</td>\n",
       "    </tr>\n",
       "    <tr>\n",
       "      <th>34131</th>\n",
       "      <td>Robin Wiltshire</td>\n",
       "      <td>ACTOR</td>\n",
       "      <td>My Heroes Were Cowboys</td>\n",
       "      <td>2021</td>\n",
       "      <td>PG</td>\n",
       "      <td>23</td>\n",
       "      <td>['documentation']</td>\n",
       "      <td>['US']</td>\n",
       "      <td>NaN</td>\n",
       "      <td>NaN</td>\n",
       "      <td>3.688</td>\n",
       "      <td>7.7</td>\n",
       "    </tr>\n",
       "    <tr>\n",
       "      <th>34132</th>\n",
       "      <td>Tyler Greco</td>\n",
       "      <td>DIRECTOR</td>\n",
       "      <td>My Heroes Were Cowboys</td>\n",
       "      <td>2021</td>\n",
       "      <td>PG</td>\n",
       "      <td>23</td>\n",
       "      <td>['documentation']</td>\n",
       "      <td>['US']</td>\n",
       "      <td>NaN</td>\n",
       "      <td>NaN</td>\n",
       "      <td>3.688</td>\n",
       "      <td>7.7</td>\n",
       "    </tr>\n",
       "  </tbody>\n",
       "</table>\n",
       "<p>34133 rows × 12 columns</p>\n",
       "</div>"
      ],
      "text/plain": [
       "                     name      role                             title  \\\n",
       "0          Robert De Niro     ACTOR                       Taxi Driver   \n",
       "1            Jodie Foster     ACTOR                       Taxi Driver   \n",
       "2           Albert Brooks     ACTOR                       Taxi Driver   \n",
       "3           Harvey Keitel     ACTOR                       Taxi Driver   \n",
       "4         Cybill Shepherd     ACTOR                       Taxi Driver   \n",
       "...                   ...       ...                               ...   \n",
       "34128      Antonia Gentry     ACTOR  Ginny & Georgia - The Afterparty   \n",
       "34129  Jennifer Robertson     ACTOR  Ginny & Georgia - The Afterparty   \n",
       "34130      Sara Waisglass     ACTOR  Ginny & Georgia - The Afterparty   \n",
       "34131     Robin Wiltshire     ACTOR            My Heroes Were Cowboys   \n",
       "34132         Tyler Greco  DIRECTOR            My Heroes Were Cowboys   \n",
       "\n",
       "       release_year age_certification  runtime                  genres  \\\n",
       "0              1976                 R      113  [''crime'', ''drama'']   \n",
       "1              1976                 R      113  [''crime'', ''drama'']   \n",
       "2              1976                 R      113  [''crime'', ''drama'']   \n",
       "3              1976                 R      113  [''crime'', ''drama'']   \n",
       "4              1976                 R      113  [''crime'', ''drama'']   \n",
       "...             ...               ...      ...                     ...   \n",
       "34128          2021                 R       35                      []   \n",
       "34129          2021                 R       35                      []   \n",
       "34130          2021                 R       35                      []   \n",
       "34131          2021                PG       23       ['documentation']   \n",
       "34132          2021                PG       23       ['documentation']   \n",
       "\n",
       "      production_countries  imdb_score  imdb_votes  tmdb_popularity  \\\n",
       "0                   ['US']         8.3    795222.0           27.612   \n",
       "1                   ['US']         8.3    795222.0           27.612   \n",
       "2                   ['US']         8.3    795222.0           27.612   \n",
       "3                   ['US']         8.3    795222.0           27.612   \n",
       "4                   ['US']         8.3    795222.0           27.612   \n",
       "...                    ...         ...         ...              ...   \n",
       "34128     [''US'', ''CA'']         NaN         NaN            7.610   \n",
       "34129     [''US'', ''CA'']         NaN         NaN            7.610   \n",
       "34130     [''US'', ''CA'']         NaN         NaN            7.610   \n",
       "34131               ['US']         NaN         NaN            3.688   \n",
       "34132               ['US']         NaN         NaN            3.688   \n",
       "\n",
       "       tmdb_score  \n",
       "0             8.2  \n",
       "1             8.2  \n",
       "2             8.2  \n",
       "3             8.2  \n",
       "4             8.2  \n",
       "...           ...  \n",
       "34128         7.8  \n",
       "34129         7.8  \n",
       "34130         7.8  \n",
       "34131         7.7  \n",
       "34132         7.7  \n",
       "\n",
       "[34133 rows x 12 columns]"
      ]
     },
     "execution_count": 7,
     "metadata": {},
     "output_type": "execute_result"
    }
   ],
   "source": [
    "mdf= merged_df.drop(columns=[\"index_x\",\"index_y\", \"id\", \"movie\", \"person_id\", \"imdb_id\"])\n",
    "mdf"
   ]
  },
  {
   "cell_type": "code",
   "execution_count": 8,
   "metadata": {},
   "outputs": [],
   "source": [
    "cleaned_df = mdf.dropna()"
   ]
  },
  {
   "cell_type": "code",
   "execution_count": 9,
   "metadata": {},
   "outputs": [
    {
     "data": {
      "text/plain": [
       "325132.0    208\n",
       "371209.0    174\n",
       "128190.0    150\n",
       "7013.0      139\n",
       "300074.0    137\n",
       "           ... \n",
       "166.0         2\n",
       "3970.0        2\n",
       "48.0          1\n",
       "10266.0       1\n",
       "157.0         1\n",
       "Name: imdb_votes, Length: 770, dtype: int64"
      ]
     },
     "execution_count": 9,
     "metadata": {},
     "output_type": "execute_result"
    }
   ],
   "source": [
    "imdb_counts = cleaned_df.imdb_votes.value_counts()\n",
    "imdb_counts"
   ]
  },
  {
   "cell_type": "code",
   "execution_count": 10,
   "metadata": {},
   "outputs": [
    {
     "data": {
      "text/plain": [
       "<AxesSubplot:ylabel='Density'>"
      ]
     },
     "execution_count": 10,
     "metadata": {},
     "output_type": "execute_result"
    },
    {
     "data": {
      "image/png": "[encoded data removed]",
      "text/plain": [
       "<Figure size 432x288 with 1 Axes>"
      ]
     },
     "metadata": {
      "needs_background": "light"
     },
     "output_type": "display_data"
    }
   ],
   "source": [
    "imdb_counts.plot.density()"
   ]
  },
  {
   "cell_type": "code",
   "execution_count": 11,
   "metadata": {},
   "outputs": [
    {
     "data": {
      "text/plain": [
       "Less than 50000    10418\n",
       "50000-99999         4393\n",
       "100000-149999       3511\n",
       "350000+             2294\n",
       "150000-199999       1359\n",
       "250000-299999        981\n",
       "200000-249999        944\n",
       "300000-349999        839\n",
       "Name: imdb_votes, dtype: int64"
      ]
     },
     "execution_count": 11,
     "metadata": {},
     "output_type": "execute_result"
    }
   ],
   "source": [
    "from numpy import NaN\n",
    "# Determine which values to replace if greater than 1000.\n",
    "replace_votes = list(imdb_counts[imdb_counts < 10000].index)\n",
    "\n",
    "# Replace in DataFrame\n",
    "for votes in replace_votes:\n",
    "  if votes <= 50000:\n",
    "    cleaned_df.imdb_votes = cleaned_df.imdb_votes.replace(votes,str(\"Less than 50000\"))\n",
    "  elif votes < 100000:\n",
    "    cleaned_df.imdb_votes = cleaned_df.imdb_votes.replace(votes,str(\"50000-99999\"))\n",
    "  elif votes < 150000:\n",
    "    cleaned_df.imdb_votes = cleaned_df.imdb_votes.replace(votes,str(\"100000-149999\"))\n",
    "  elif votes < 200000:\n",
    "    cleaned_df.imdb_votes = cleaned_df.imdb_votes.replace(votes,str(\"150000-199999\"))\n",
    "  elif votes < 250000:\n",
    "    cleaned_df.imdb_votes = cleaned_df.imdb_votes.replace(votes,str(\"200000-249999\"))\n",
    "  elif votes < 300000:\n",
    "    cleaned_df.imdb_votes = cleaned_df.imdb_votes.replace(votes,str(\"250000-299999\"))\n",
    "  elif votes < 350000:\n",
    "    cleaned_df.imdb_votes = cleaned_df.imdb_votes.replace(votes,str(\"300000-349999\"))\n",
    "  else:\n",
    "    cleaned_df.imdb_votes = cleaned_df.imdb_votes.replace(votes,str(\"350000+\"))\n",
    "\n",
    "# mdf.imdb_votes = mdf.imdb_votes.astype(str)\n",
    "\n",
    "# Check if binning was successful\n",
    "cleaned_df.imdb_votes.value_counts()"
   ]
  },
  {
   "cell_type": "code",
   "execution_count": 12,
   "metadata": {},
   "outputs": [
    {
     "data": {
      "text/plain": [
       "bad_score     23630\n",
       "good_score     1109\n",
       "Name: imdb_score, dtype: int64"
      ]
     },
     "execution_count": 12,
     "metadata": {},
     "output_type": "execute_result"
    }
   ],
   "source": [
    "# bin imdb_scores with a cutoff of 8.0 for score\n",
    "scores = cleaned_df['imdb_score'].copy()\n",
    "\n",
    "for score in scores:\n",
    "  if score >= 8.0:\n",
    "    cleaned_df[\"imdb_score\"] = cleaned_df.imdb_score.replace(score,str(\"good_score\"))\n",
    "  else:\n",
    "    cleaned_df[\"imdb_score\"] = cleaned_df.imdb_score.replace(score,str(\"bad_score\"))\n",
    "\n",
    "# check to see if binning was successful\n",
    "cleaned_df.imdb_score.value_counts()"
   ]
  },
  {
   "cell_type": "code",
   "execution_count": 13,
   "metadata": {},
   "outputs": [
    {
     "data": {
      "text/html": [
       "<div>\n",
       "<style scoped>\n",
       "    .dataframe tbody tr th:only-of-type {\n",
       "        vertical-align: middle;\n",
       "    }\n",
       "\n",
       "    .dataframe tbody tr th {\n",
       "        vertical-align: top;\n",
       "    }\n",
       "\n",
       "    .dataframe thead th {\n",
       "        text-align: right;\n",
       "    }\n",
       "</style>\n",
       "<table border=\"1\" class=\"dataframe\">\n",
       "  <thead>\n",
       "    <tr style=\"text-align: right;\">\n",
       "      <th></th>\n",
       "      <th>name</th>\n",
       "      <th>role</th>\n",
       "      <th>title</th>\n",
       "      <th>release_year</th>\n",
       "      <th>age_certification</th>\n",
       "      <th>runtime</th>\n",
       "      <th>genres</th>\n",
       "      <th>production_countries</th>\n",
       "      <th>imdb_score</th>\n",
       "      <th>imdb_votes</th>\n",
       "      <th>tmdb_popularity</th>\n",
       "      <th>tmdb_score</th>\n",
       "    </tr>\n",
       "  </thead>\n",
       "  <tbody>\n",
       "    <tr>\n",
       "      <th>0</th>\n",
       "      <td>Robert De Niro</td>\n",
       "      <td>ACTOR</td>\n",
       "      <td>Taxi Driver</td>\n",
       "      <td>1976</td>\n",
       "      <td>R</td>\n",
       "      <td>113</td>\n",
       "      <td>[''crime'', ''drama'']</td>\n",
       "      <td>['US']</td>\n",
       "      <td>good_score</td>\n",
       "      <td>350000+</td>\n",
       "      <td>27.612</td>\n",
       "      <td>8.2</td>\n",
       "    </tr>\n",
       "    <tr>\n",
       "      <th>1</th>\n",
       "      <td>Jodie Foster</td>\n",
       "      <td>ACTOR</td>\n",
       "      <td>Taxi Driver</td>\n",
       "      <td>1976</td>\n",
       "      <td>R</td>\n",
       "      <td>113</td>\n",
       "      <td>[''crime'', ''drama'']</td>\n",
       "      <td>['US']</td>\n",
       "      <td>good_score</td>\n",
       "      <td>350000+</td>\n",
       "      <td>27.612</td>\n",
       "      <td>8.2</td>\n",
       "    </tr>\n",
       "    <tr>\n",
       "      <th>2</th>\n",
       "      <td>Albert Brooks</td>\n",
       "      <td>ACTOR</td>\n",
       "      <td>Taxi Driver</td>\n",
       "      <td>1976</td>\n",
       "      <td>R</td>\n",
       "      <td>113</td>\n",
       "      <td>[''crime'', ''drama'']</td>\n",
       "      <td>['US']</td>\n",
       "      <td>good_score</td>\n",
       "      <td>350000+</td>\n",
       "      <td>27.612</td>\n",
       "      <td>8.2</td>\n",
       "    </tr>\n",
       "    <tr>\n",
       "      <th>3</th>\n",
       "      <td>Harvey Keitel</td>\n",
       "      <td>ACTOR</td>\n",
       "      <td>Taxi Driver</td>\n",
       "      <td>1976</td>\n",
       "      <td>R</td>\n",
       "      <td>113</td>\n",
       "      <td>[''crime'', ''drama'']</td>\n",
       "      <td>['US']</td>\n",
       "      <td>good_score</td>\n",
       "      <td>350000+</td>\n",
       "      <td>27.612</td>\n",
       "      <td>8.2</td>\n",
       "    </tr>\n",
       "    <tr>\n",
       "      <th>4</th>\n",
       "      <td>Cybill Shepherd</td>\n",
       "      <td>ACTOR</td>\n",
       "      <td>Taxi Driver</td>\n",
       "      <td>1976</td>\n",
       "      <td>R</td>\n",
       "      <td>113</td>\n",
       "      <td>[''crime'', ''drama'']</td>\n",
       "      <td>['US']</td>\n",
       "      <td>good_score</td>\n",
       "      <td>350000+</td>\n",
       "      <td>27.612</td>\n",
       "      <td>8.2</td>\n",
       "    </tr>\n",
       "    <tr>\n",
       "      <th>...</th>\n",
       "      <td>...</td>\n",
       "      <td>...</td>\n",
       "      <td>...</td>\n",
       "      <td>...</td>\n",
       "      <td>...</td>\n",
       "      <td>...</td>\n",
       "      <td>...</td>\n",
       "      <td>...</td>\n",
       "      <td>...</td>\n",
       "      <td>...</td>\n",
       "      <td>...</td>\n",
       "      <td>...</td>\n",
       "    </tr>\n",
       "    <tr>\n",
       "      <th>34109</th>\n",
       "      <td>Tone Grøttjord-Glenne</td>\n",
       "      <td>DIRECTOR</td>\n",
       "      <td>Sisters on Track</td>\n",
       "      <td>2021</td>\n",
       "      <td>PG</td>\n",
       "      <td>96</td>\n",
       "      <td>[''documentation'', ''sport'']</td>\n",
       "      <td>['US']</td>\n",
       "      <td>bad_score</td>\n",
       "      <td>Less than 50000</td>\n",
       "      <td>15.497</td>\n",
       "      <td>7.2</td>\n",
       "    </tr>\n",
       "    <tr>\n",
       "      <th>34120</th>\n",
       "      <td>Wenhua Lin</td>\n",
       "      <td>ACTOR</td>\n",
       "      <td>Convergence: Courage in a Crisis</td>\n",
       "      <td>2021</td>\n",
       "      <td>R</td>\n",
       "      <td>113</td>\n",
       "      <td>['documentation']</td>\n",
       "      <td>[''US'', ''GB'']</td>\n",
       "      <td>bad_score</td>\n",
       "      <td>Less than 50000</td>\n",
       "      <td>9.258</td>\n",
       "      <td>5.2</td>\n",
       "    </tr>\n",
       "    <tr>\n",
       "      <th>34121</th>\n",
       "      <td>Sara Khaki</td>\n",
       "      <td>ACTOR</td>\n",
       "      <td>Convergence: Courage in a Crisis</td>\n",
       "      <td>2021</td>\n",
       "      <td>R</td>\n",
       "      <td>113</td>\n",
       "      <td>['documentation']</td>\n",
       "      <td>[''US'', ''GB'']</td>\n",
       "      <td>bad_score</td>\n",
       "      <td>Less than 50000</td>\n",
       "      <td>9.258</td>\n",
       "      <td>5.2</td>\n",
       "    </tr>\n",
       "    <tr>\n",
       "      <th>34122</th>\n",
       "      <td>Mohammad Rezi Eyni</td>\n",
       "      <td>ACTOR</td>\n",
       "      <td>Convergence: Courage in a Crisis</td>\n",
       "      <td>2021</td>\n",
       "      <td>R</td>\n",
       "      <td>113</td>\n",
       "      <td>['documentation']</td>\n",
       "      <td>[''US'', ''GB'']</td>\n",
       "      <td>bad_score</td>\n",
       "      <td>Less than 50000</td>\n",
       "      <td>9.258</td>\n",
       "      <td>5.2</td>\n",
       "    </tr>\n",
       "    <tr>\n",
       "      <th>34123</th>\n",
       "      <td>Orlando von Einsiedel</td>\n",
       "      <td>DIRECTOR</td>\n",
       "      <td>Convergence: Courage in a Crisis</td>\n",
       "      <td>2021</td>\n",
       "      <td>R</td>\n",
       "      <td>113</td>\n",
       "      <td>['documentation']</td>\n",
       "      <td>[''US'', ''GB'']</td>\n",
       "      <td>bad_score</td>\n",
       "      <td>Less than 50000</td>\n",
       "      <td>9.258</td>\n",
       "      <td>5.2</td>\n",
       "    </tr>\n",
       "  </tbody>\n",
       "</table>\n",
       "<p>24739 rows × 12 columns</p>\n",
       "</div>"
      ],
      "text/plain": [
       "                        name      role                             title  \\\n",
       "0             Robert De Niro     ACTOR                       Taxi Driver   \n",
       "1               Jodie Foster     ACTOR                       Taxi Driver   \n",
       "2              Albert Brooks     ACTOR                       Taxi Driver   \n",
       "3              Harvey Keitel     ACTOR                       Taxi Driver   \n",
       "4            Cybill Shepherd     ACTOR                       Taxi Driver   \n",
       "...                      ...       ...                               ...   \n",
       "34109  Tone Grøttjord-Glenne  DIRECTOR                  Sisters on Track   \n",
       "34120             Wenhua Lin     ACTOR  Convergence: Courage in a Crisis   \n",
       "34121             Sara Khaki     ACTOR  Convergence: Courage in a Crisis   \n",
       "34122     Mohammad Rezi Eyni     ACTOR  Convergence: Courage in a Crisis   \n",
       "34123  Orlando von Einsiedel  DIRECTOR  Convergence: Courage in a Crisis   \n",
       "\n",
       "       release_year age_certification  runtime  \\\n",
       "0              1976                 R      113   \n",
       "1              1976                 R      113   \n",
       "2              1976                 R      113   \n",
       "3              1976                 R      113   \n",
       "4              1976                 R      113   \n",
       "...             ...               ...      ...   \n",
       "34109          2021                PG       96   \n",
       "34120          2021                 R      113   \n",
       "34121          2021                 R      113   \n",
       "34122          2021                 R      113   \n",
       "34123          2021                 R      113   \n",
       "\n",
       "                               genres production_countries  imdb_score  \\\n",
       "0              [''crime'', ''drama'']               ['US']  good_score   \n",
       "1              [''crime'', ''drama'']               ['US']  good_score   \n",
       "2              [''crime'', ''drama'']               ['US']  good_score   \n",
       "3              [''crime'', ''drama'']               ['US']  good_score   \n",
       "4              [''crime'', ''drama'']               ['US']  good_score   \n",
       "...                               ...                  ...         ...   \n",
       "34109  [''documentation'', ''sport'']               ['US']   bad_score   \n",
       "34120               ['documentation']     [''US'', ''GB'']   bad_score   \n",
       "34121               ['documentation']     [''US'', ''GB'']   bad_score   \n",
       "34122               ['documentation']     [''US'', ''GB'']   bad_score   \n",
       "34123               ['documentation']     [''US'', ''GB'']   bad_score   \n",
       "\n",
       "            imdb_votes  tmdb_popularity  tmdb_score  \n",
       "0              350000+           27.612         8.2  \n",
       "1              350000+           27.612         8.2  \n",
       "2              350000+           27.612         8.2  \n",
       "3              350000+           27.612         8.2  \n",
       "4              350000+           27.612         8.2  \n",
       "...                ...              ...         ...  \n",
       "34109  Less than 50000           15.497         7.2  \n",
       "34120  Less than 50000            9.258         5.2  \n",
       "34121  Less than 50000            9.258         5.2  \n",
       "34122  Less than 50000            9.258         5.2  \n",
       "34123  Less than 50000            9.258         5.2  \n",
       "\n",
       "[24739 rows x 12 columns]"
      ]
     },
     "execution_count": 13,
     "metadata": {},
     "output_type": "execute_result"
    }
   ],
   "source": [
    "cleaned_df"
   ]
  },
  {
   "cell_type": "code",
   "execution_count": 14,
   "metadata": {},
   "outputs": [
    {
     "data": {
      "image/png": "[encoded data removed]",
      "text/plain": [
       "<Figure size 432x288 with 1 Axes>"
      ]
     },
     "metadata": {
      "needs_background": "light"
     },
     "output_type": "display_data"
    }
   ],
   "source": [
    "plt.scatter(mdf['imdb_votes'], mdf['imdb_score'])\n",
    "plt.xlabel('imdb_votes')\n",
    "plt.ylabel(\"imdb_score\")\n",
    "plt.xticks(rotation=45)\n",
    "plt.show()"
   ]
  },
  {
   "cell_type": "code",
   "execution_count": 15,
   "metadata": {},
   "outputs": [
    {
     "data": {
      "image/png": "[encoded data removed]",
      "text/plain": [
       "<Figure size 432x288 with 1 Axes>"
      ]
     },
     "metadata": {
      "needs_background": "light"
     },
     "output_type": "display_data"
    }
   ],
   "source": [
    "plt.scatter(mdf['imdb_score'], mdf['runtime'])\n",
    "plt.xlabel('imdb_score')\n",
    "plt.ylabel('runtime')\n",
    "plt.show()"
   ]
  },
  {
   "cell_type": "code",
   "execution_count": 16,
   "metadata": {},
   "outputs": [
    {
     "data": {
      "image/png": "[encoded data removed]",
      "text/plain": [
       "<Figure size 432x288 with 1 Axes>"
      ]
     },
     "metadata": {
      "needs_background": "light"
     },
     "output_type": "display_data"
    }
   ],
   "source": [
    "plt.scatter(mdf['imdb_score'], mdf['tmdb_popularity'])\n",
    "plt.xlabel('imdb_score')\n",
    "plt.ylabel('tmdb_popularity')\n",
    "plt.show()"
   ]
  },
  {
   "cell_type": "code",
   "execution_count": 17,
   "metadata": {},
   "outputs": [
    {
     "data": {
      "image/png": "[encoded data removed]",
      "text/plain": [
       "<Figure size 432x288 with 1 Axes>"
      ]
     },
     "metadata": {
      "needs_background": "light"
     },
     "output_type": "display_data"
    }
   ],
   "source": [
    "plt.scatter(mdf['tmdb_score'], mdf['imdb_score'])\n",
    "plt.xlabel('tmdb_score')\n",
    "plt.ylabel('imdb_score')\n",
    "plt.show()"
   ]
  },
  {
   "cell_type": "code",
   "execution_count": 18,
   "metadata": {},
   "outputs": [
    {
     "data": {
      "image/png": "[encoded data removed]",
      "text/plain": [
       "<Figure size 432x288 with 1 Axes>"
      ]
     },
     "metadata": {
      "needs_background": "light"
     },
     "output_type": "display_data"
    }
   ],
   "source": [
    "plt.scatter(mdf['production_countries'], mdf['imdb_score'])\n",
    "plt.xlabel('production_country')\n",
    "plt.ylabel('imdb_score')\n",
    "plt.xticks(rotation=45)\n",
    "plt.show()"
   ]
  },
  {
   "cell_type": "code",
   "execution_count": 19,
   "metadata": {},
   "outputs": [],
   "source": [
    "X = pd.get_dummies(cleaned_df, columns=[\"name\", \"role\", \"title\", \"age_certification\", \"genres\", \n",
    "                                        \"production_countries\", \"imdb_votes\"]).drop(\"imdb_score\", axis=1)\n",
    "y = cleaned_df[\"imdb_score\"]"
   ]
  },
  {
   "cell_type": "code",
   "execution_count": 20,
   "metadata": {},
   "outputs": [
    {
     "data": {
      "text/plain": [
       "(18554, 21162)"
      ]
     },
     "execution_count": 20,
     "metadata": {},
     "output_type": "execute_result"
    }
   ],
   "source": [
    "X_train, X_test, y_train, y_test = train_test_split(X,\n",
    "    y, random_state=1, stratify=y)\n",
    "X_train.shape"
   ]
  },
  {
   "cell_type": "code",
   "execution_count": 21,
   "metadata": {},
   "outputs": [
    {
     "data": {
      "text/html": [
       "<div>\n",
       "<style scoped>\n",
       "    .dataframe tbody tr th:only-of-type {\n",
       "        vertical-align: middle;\n",
       "    }\n",
       "\n",
       "    .dataframe tbody tr th {\n",
       "        vertical-align: top;\n",
       "    }\n",
       "\n",
       "    .dataframe thead th {\n",
       "        text-align: right;\n",
       "    }\n",
       "</style>\n",
       "<table border=\"1\" class=\"dataframe\">\n",
       "  <thead>\n",
       "    <tr style=\"text-align: right;\">\n",
       "      <th></th>\n",
       "      <th>release_year</th>\n",
       "      <th>runtime</th>\n",
       "      <th>tmdb_popularity</th>\n",
       "      <th>tmdb_score</th>\n",
       "      <th>name_ Michael Hayden</th>\n",
       "      <th>name_'Weird Al' Yankovic</th>\n",
       "      <th>name_50 Cent</th>\n",
       "      <th>name_50-Grand</th>\n",
       "      <th>name_A$AP Rocky</th>\n",
       "      <th>name_A. Frank Ruffo</th>\n",
       "      <th>...</th>\n",
       "      <th>production_countries_[''US'', ''ZA'', ''GB'']</th>\n",
       "      <th>production_countries_['US']</th>\n",
       "      <th>imdb_votes_100000-149999</th>\n",
       "      <th>imdb_votes_150000-199999</th>\n",
       "      <th>imdb_votes_200000-249999</th>\n",
       "      <th>imdb_votes_250000-299999</th>\n",
       "      <th>imdb_votes_300000-349999</th>\n",
       "      <th>imdb_votes_350000+</th>\n",
       "      <th>imdb_votes_50000-99999</th>\n",
       "      <th>imdb_votes_Less than 50000</th>\n",
       "    </tr>\n",
       "  </thead>\n",
       "  <tbody>\n",
       "    <tr>\n",
       "      <th>count</th>\n",
       "      <td>24739.000000</td>\n",
       "      <td>24739.000000</td>\n",
       "      <td>24739.000000</td>\n",
       "      <td>24739.000000</td>\n",
       "      <td>24739.000000</td>\n",
       "      <td>24739.000000</td>\n",
       "      <td>24739.000000</td>\n",
       "      <td>24739.000000</td>\n",
       "      <td>24739.000000</td>\n",
       "      <td>24739.000000</td>\n",
       "      <td>...</td>\n",
       "      <td>24739.000000</td>\n",
       "      <td>24739.000000</td>\n",
       "      <td>24739.000000</td>\n",
       "      <td>24739.000000</td>\n",
       "      <td>24739.000000</td>\n",
       "      <td>24739.000000</td>\n",
       "      <td>24739.000000</td>\n",
       "      <td>24739.000000</td>\n",
       "      <td>24739.000000</td>\n",
       "      <td>24739.000000</td>\n",
       "    </tr>\n",
       "    <tr>\n",
       "      <th>mean</th>\n",
       "      <td>2012.120538</td>\n",
       "      <td>110.534581</td>\n",
       "      <td>33.952299</td>\n",
       "      <td>6.571717</td>\n",
       "      <td>0.000040</td>\n",
       "      <td>0.000040</td>\n",
       "      <td>0.000081</td>\n",
       "      <td>0.000040</td>\n",
       "      <td>0.000040</td>\n",
       "      <td>0.000040</td>\n",
       "      <td>...</td>\n",
       "      <td>0.001859</td>\n",
       "      <td>0.702777</td>\n",
       "      <td>0.141922</td>\n",
       "      <td>0.054934</td>\n",
       "      <td>0.038158</td>\n",
       "      <td>0.039654</td>\n",
       "      <td>0.033914</td>\n",
       "      <td>0.092728</td>\n",
       "      <td>0.177574</td>\n",
       "      <td>0.421116</td>\n",
       "    </tr>\n",
       "    <tr>\n",
       "      <th>std</th>\n",
       "      <td>9.290887</td>\n",
       "      <td>22.491052</td>\n",
       "      <td>49.237333</td>\n",
       "      <td>0.809428</td>\n",
       "      <td>0.006358</td>\n",
       "      <td>0.006358</td>\n",
       "      <td>0.008991</td>\n",
       "      <td>0.006358</td>\n",
       "      <td>0.006358</td>\n",
       "      <td>0.006358</td>\n",
       "      <td>...</td>\n",
       "      <td>0.043082</td>\n",
       "      <td>0.457045</td>\n",
       "      <td>0.348977</td>\n",
       "      <td>0.227855</td>\n",
       "      <td>0.191582</td>\n",
       "      <td>0.195149</td>\n",
       "      <td>0.181012</td>\n",
       "      <td>0.290057</td>\n",
       "      <td>0.382161</td>\n",
       "      <td>0.493748</td>\n",
       "    </tr>\n",
       "    <tr>\n",
       "      <th>min</th>\n",
       "      <td>1964.000000</td>\n",
       "      <td>13.000000</td>\n",
       "      <td>0.600000</td>\n",
       "      <td>2.000000</td>\n",
       "      <td>0.000000</td>\n",
       "      <td>0.000000</td>\n",
       "      <td>0.000000</td>\n",
       "      <td>0.000000</td>\n",
       "      <td>0.000000</td>\n",
       "      <td>0.000000</td>\n",
       "      <td>...</td>\n",
       "      <td>0.000000</td>\n",
       "      <td>0.000000</td>\n",
       "      <td>0.000000</td>\n",
       "      <td>0.000000</td>\n",
       "      <td>0.000000</td>\n",
       "      <td>0.000000</td>\n",
       "      <td>0.000000</td>\n",
       "      <td>0.000000</td>\n",
       "      <td>0.000000</td>\n",
       "      <td>0.000000</td>\n",
       "    </tr>\n",
       "    <tr>\n",
       "      <th>25%</th>\n",
       "      <td>2008.000000</td>\n",
       "      <td>95.000000</td>\n",
       "      <td>13.293000</td>\n",
       "      <td>6.000000</td>\n",
       "      <td>0.000000</td>\n",
       "      <td>0.000000</td>\n",
       "      <td>0.000000</td>\n",
       "      <td>0.000000</td>\n",
       "      <td>0.000000</td>\n",
       "      <td>0.000000</td>\n",
       "      <td>...</td>\n",
       "      <td>0.000000</td>\n",
       "      <td>0.000000</td>\n",
       "      <td>0.000000</td>\n",
       "      <td>0.000000</td>\n",
       "      <td>0.000000</td>\n",
       "      <td>0.000000</td>\n",
       "      <td>0.000000</td>\n",
       "      <td>0.000000</td>\n",
       "      <td>0.000000</td>\n",
       "      <td>0.000000</td>\n",
       "    </tr>\n",
       "    <tr>\n",
       "      <th>50%</th>\n",
       "      <td>2015.000000</td>\n",
       "      <td>107.000000</td>\n",
       "      <td>19.682000</td>\n",
       "      <td>6.600000</td>\n",
       "      <td>0.000000</td>\n",
       "      <td>0.000000</td>\n",
       "      <td>0.000000</td>\n",
       "      <td>0.000000</td>\n",
       "      <td>0.000000</td>\n",
       "      <td>0.000000</td>\n",
       "      <td>...</td>\n",
       "      <td>0.000000</td>\n",
       "      <td>1.000000</td>\n",
       "      <td>0.000000</td>\n",
       "      <td>0.000000</td>\n",
       "      <td>0.000000</td>\n",
       "      <td>0.000000</td>\n",
       "      <td>0.000000</td>\n",
       "      <td>0.000000</td>\n",
       "      <td>0.000000</td>\n",
       "      <td>0.000000</td>\n",
       "    </tr>\n",
       "    <tr>\n",
       "      <th>75%</th>\n",
       "      <td>2019.000000</td>\n",
       "      <td>122.000000</td>\n",
       "      <td>38.136000</td>\n",
       "      <td>7.200000</td>\n",
       "      <td>0.000000</td>\n",
       "      <td>0.000000</td>\n",
       "      <td>0.000000</td>\n",
       "      <td>0.000000</td>\n",
       "      <td>0.000000</td>\n",
       "      <td>0.000000</td>\n",
       "      <td>...</td>\n",
       "      <td>0.000000</td>\n",
       "      <td>1.000000</td>\n",
       "      <td>0.000000</td>\n",
       "      <td>0.000000</td>\n",
       "      <td>0.000000</td>\n",
       "      <td>0.000000</td>\n",
       "      <td>0.000000</td>\n",
       "      <td>0.000000</td>\n",
       "      <td>0.000000</td>\n",
       "      <td>1.000000</td>\n",
       "    </tr>\n",
       "    <tr>\n",
       "      <th>max</th>\n",
       "      <td>2022.000000</td>\n",
       "      <td>229.000000</td>\n",
       "      <td>919.599000</td>\n",
       "      <td>8.500000</td>\n",
       "      <td>1.000000</td>\n",
       "      <td>1.000000</td>\n",
       "      <td>1.000000</td>\n",
       "      <td>1.000000</td>\n",
       "      <td>1.000000</td>\n",
       "      <td>1.000000</td>\n",
       "      <td>...</td>\n",
       "      <td>1.000000</td>\n",
       "      <td>1.000000</td>\n",
       "      <td>1.000000</td>\n",
       "      <td>1.000000</td>\n",
       "      <td>1.000000</td>\n",
       "      <td>1.000000</td>\n",
       "      <td>1.000000</td>\n",
       "      <td>1.000000</td>\n",
       "      <td>1.000000</td>\n",
       "      <td>1.000000</td>\n",
       "    </tr>\n",
       "  </tbody>\n",
       "</table>\n",
       "<p>8 rows × 21162 columns</p>\n",
       "</div>"
      ],
      "text/plain": [
       "       release_year       runtime  tmdb_popularity    tmdb_score  \\\n",
       "count  24739.000000  24739.000000     24739.000000  24739.000000   \n",
       "mean    2012.120538    110.534581        33.952299      6.571717   \n",
       "std        9.290887     22.491052        49.237333      0.809428   \n",
       "min     1964.000000     13.000000         0.600000      2.000000   \n",
       "25%     2008.000000     95.000000        13.293000      6.000000   \n",
       "50%     2015.000000    107.000000        19.682000      6.600000   \n",
       "75%     2019.000000    122.000000        38.136000      7.200000   \n",
       "max     2022.000000    229.000000       919.599000      8.500000   \n",
       "\n",
       "       name_ Michael Hayden  name_'Weird Al' Yankovic  name_50 Cent  \\\n",
       "count          24739.000000              24739.000000  24739.000000   \n",
       "mean               0.000040                  0.000040      0.000081   \n",
       "std                0.006358                  0.006358      0.008991   \n",
       "min                0.000000                  0.000000      0.000000   \n",
       "25%                0.000000                  0.000000      0.000000   \n",
       "50%                0.000000                  0.000000      0.000000   \n",
       "75%                0.000000                  0.000000      0.000000   \n",
       "max                1.000000                  1.000000      1.000000   \n",
       "\n",
       "       name_50-Grand  name_A$AP Rocky  name_A. Frank Ruffo  ...  \\\n",
       "count   24739.000000     24739.000000         24739.000000  ...   \n",
       "mean        0.000040         0.000040             0.000040  ...   \n",
       "std         0.006358         0.006358             0.006358  ...   \n",
       "min         0.000000         0.000000             0.000000  ...   \n",
       "25%         0.000000         0.000000             0.000000  ...   \n",
       "50%         0.000000         0.000000             0.000000  ...   \n",
       "75%         0.000000         0.000000             0.000000  ...   \n",
       "max         1.000000         1.000000             1.000000  ...   \n",
       "\n",
       "       production_countries_[''US'', ''ZA'', ''GB'']  \\\n",
       "count                                   24739.000000   \n",
       "mean                                        0.001859   \n",
       "std                                         0.043082   \n",
       "min                                         0.000000   \n",
       "25%                                         0.000000   \n",
       "50%                                         0.000000   \n",
       "75%                                         0.000000   \n",
       "max                                         1.000000   \n",
       "\n",
       "       production_countries_['US']  imdb_votes_100000-149999  \\\n",
       "count                 24739.000000              24739.000000   \n",
       "mean                      0.702777                  0.141922   \n",
       "std                       0.457045                  0.348977   \n",
       "min                       0.000000                  0.000000   \n",
       "25%                       0.000000                  0.000000   \n",
       "50%                       1.000000                  0.000000   \n",
       "75%                       1.000000                  0.000000   \n",
       "max                       1.000000                  1.000000   \n",
       "\n",
       "       imdb_votes_150000-199999  imdb_votes_200000-249999  \\\n",
       "count              24739.000000              24739.000000   \n",
       "mean                   0.054934                  0.038158   \n",
       "std                    0.227855                  0.191582   \n",
       "min                    0.000000                  0.000000   \n",
       "25%                    0.000000                  0.000000   \n",
       "50%                    0.000000                  0.000000   \n",
       "75%                    0.000000                  0.000000   \n",
       "max                    1.000000                  1.000000   \n",
       "\n",
       "       imdb_votes_250000-299999  imdb_votes_300000-349999  imdb_votes_350000+  \\\n",
       "count              24739.000000              24739.000000        24739.000000   \n",
       "mean                   0.039654                  0.033914            0.092728   \n",
       "std                    0.195149                  0.181012            0.290057   \n",
       "min                    0.000000                  0.000000            0.000000   \n",
       "25%                    0.000000                  0.000000            0.000000   \n",
       "50%                    0.000000                  0.000000            0.000000   \n",
       "75%                    0.000000                  0.000000            0.000000   \n",
       "max                    1.000000                  1.000000            1.000000   \n",
       "\n",
       "       imdb_votes_50000-99999  imdb_votes_Less than 50000  \n",
       "count            24739.000000                24739.000000  \n",
       "mean                 0.177574                    0.421116  \n",
       "std                  0.382161                    0.493748  \n",
       "min                  0.000000                    0.000000  \n",
       "25%                  0.000000                    0.000000  \n",
       "50%                  0.000000                    0.000000  \n",
       "75%                  0.000000                    1.000000  \n",
       "max                  1.000000                    1.000000  \n",
       "\n",
       "[8 rows x 21162 columns]"
      ]
     },
     "execution_count": 21,
     "metadata": {},
     "output_type": "execute_result"
    }
   ],
   "source": [
    "X.describe()"
   ]
  },
  {
   "cell_type": "code",
   "execution_count": 22,
   "metadata": {},
   "outputs": [
    {
     "data": {
      "text/plain": [
       "bad_score     23630\n",
       "good_score     1109\n",
       "Name: imdb_score, dtype: int64"
      ]
     },
     "execution_count": 22,
     "metadata": {},
     "output_type": "execute_result"
    }
   ],
   "source": [
    "y.value_counts()"
   ]
  },
  {
   "cell_type": "code",
   "execution_count": 23,
   "metadata": {},
   "outputs": [
    {
     "data": {
      "text/html": [
       "<style>#sk-container-id-1 {color: black;background-color: white;}#sk-container-id-1 pre{padding: 0;}#sk-container-id-1 div.sk-toggleable {background-color: white;}#sk-container-id-1 label.sk-toggleable__label {cursor: pointer;display: block;width: 100%;margin-bottom: 0;padding: 0.3em;box-sizing: border-box;text-align: center;}#sk-container-id-1 label.sk-toggleable__label-arrow:before {content: \"▸\";float: left;margin-right: 0.25em;color: #696969;}#sk-container-id-1 label.sk-toggleable__label-arrow:hover:before {color: black;}#sk-container-id-1 div.sk-estimator:hover label.sk-toggleable__label-arrow:before {color: black;}#sk-container-id-1 div.sk-toggleable__content {max-height: 0;max-width: 0;overflow: hidden;text-align: left;background-color: #f0f8ff;}#sk-container-id-1 div.sk-toggleable__content pre {margin: 0.2em;color: black;border-radius: 0.25em;background-color: #f0f8ff;}#sk-container-id-1 input.sk-toggleable__control:checked~div.sk-toggleable__content {max-height: 200px;max-width: 100%;overflow: auto;}#sk-container-id-1 input.sk-toggleable__control:checked~label.sk-toggleable__label-arrow:before {content: \"▾\";}#sk-container-id-1 div.sk-estimator input.sk-toggleable__control:checked~label.sk-toggleable__label {background-color: #d4ebff;}#sk-container-id-1 div.sk-label input.sk-toggleable__control:checked~label.sk-toggleable__label {background-color: #d4ebff;}#sk-container-id-1 input.sk-hidden--visually {border: 0;clip: rect(1px 1px 1px 1px);clip: rect(1px, 1px, 1px, 1px);height: 1px;margin: -1px;overflow: hidden;padding: 0;position: absolute;width: 1px;}#sk-container-id-1 div.sk-estimator {font-family: monospace;background-color: #f0f8ff;border: 1px dotted black;border-radius: 0.25em;box-sizing: border-box;margin-bottom: 0.5em;}#sk-container-id-1 div.sk-estimator:hover {background-color: #d4ebff;}#sk-container-id-1 div.sk-parallel-item::after {content: \"\";width: 100%;border-bottom: 1px solid gray;flex-grow: 1;}#sk-container-id-1 div.sk-label:hover label.sk-toggleable__label {background-color: #d4ebff;}#sk-container-id-1 div.sk-serial::before {content: \"\";position: absolute;border-left: 1px solid gray;box-sizing: border-box;top: 0;bottom: 0;left: 50%;z-index: 0;}#sk-container-id-1 div.sk-serial {display: flex;flex-direction: column;align-items: center;background-color: white;padding-right: 0.2em;padding-left: 0.2em;position: relative;}#sk-container-id-1 div.sk-item {position: relative;z-index: 1;}#sk-container-id-1 div.sk-parallel {display: flex;align-items: stretch;justify-content: center;background-color: white;position: relative;}#sk-container-id-1 div.sk-item::before, #sk-container-id-1 div.sk-parallel-item::before {content: \"\";position: absolute;border-left: 1px solid gray;box-sizing: border-box;top: 0;bottom: 0;left: 50%;z-index: -1;}#sk-container-id-1 div.sk-parallel-item {display: flex;flex-direction: column;z-index: 1;position: relative;background-color: white;}#sk-container-id-1 div.sk-parallel-item:first-child::after {align-self: flex-end;width: 50%;}#sk-container-id-1 div.sk-parallel-item:last-child::after {align-self: flex-start;width: 50%;}#sk-container-id-1 div.sk-parallel-item:only-child::after {width: 0;}#sk-container-id-1 div.sk-dashed-wrapped {border: 1px dashed gray;margin: 0 0.4em 0.5em 0.4em;box-sizing: border-box;padding-bottom: 0.4em;background-color: white;}#sk-container-id-1 div.sk-label label {font-family: monospace;font-weight: bold;display: inline-block;line-height: 1.2em;}#sk-container-id-1 div.sk-label-container {text-align: center;}#sk-container-id-1 div.sk-container {/* jupyter's `normalize.less` sets `[hidden] { display: none; }` but bootstrap.min.css set `[hidden] { display: none !important; }` so we also need the `!important` here to be able to override the default hidden behavior on the sphinx rendered scikit-learn.org. See: https://github.com/scikit-learn/scikit-learn/issues/21755 */display: inline-block !important;position: relative;}#sk-container-id-1 div.sk-text-repr-fallback {display: none;}</style><div id=\"sk-container-id-1\" class=\"sk-top-container\"><div class=\"sk-text-repr-fallback\"><pre>BalancedRandomForestClassifier()</pre><b>In a Jupyter environment, please rerun this cell to show the HTML representation or trust the notebook. <br />On GitHub, the HTML representation is unable to render, please try loading this page with nbviewer.org.</b></div><div class=\"sk-container\" hidden><div class=\"sk-item\"><div class=\"sk-estimator sk-toggleable\"><input class=\"sk-toggleable__control sk-hidden--visually\" id=\"sk-estimator-id-1\" type=\"checkbox\" checked><label for=\"sk-estimator-id-1\" class=\"sk-toggleable__label sk-toggleable__label-arrow\">BalancedRandomForestClassifier</label><div class=\"sk-toggleable__content\"><pre>BalancedRandomForestClassifier()</pre></div></div></div></div></div>"
      ],
      "text/plain": [
       "BalancedRandomForestClassifier()"
      ]
     },
     "execution_count": 23,
     "metadata": {},
     "output_type": "execute_result"
    }
   ],
   "source": [
    "# Resample the training data with the BalancedRandomForestClassifier\n",
    "from imblearn.ensemble import BalancedRandomForestClassifier\n",
    "brfc = BalancedRandomForestClassifier()\n",
    "brfc.fit(X_train, y_train)"
   ]
  },
  {
   "cell_type": "code",
   "execution_count": 24,
   "metadata": {},
   "outputs": [
    {
     "data": {
      "text/plain": [
       "0.9981103148395738"
      ]
     },
     "execution_count": 24,
     "metadata": {},
     "output_type": "execute_result"
    }
   ],
   "source": [
    "# Calculated the balanced accuracy score\n",
    "from sklearn.metrics import balanced_accuracy_score\n",
    "y_pred = brfc.predict(X_test)\n",
    "balanced_accuracy_score(y_test, y_pred)"
   ]
  },
  {
   "cell_type": "code",
   "execution_count": 25,
   "metadata": {},
   "outputs": [
    {
     "data": {
      "text/plain": [
       "array([[5907,    1],\n",
       "       [   1,  276]])"
      ]
     },
     "execution_count": 25,
     "metadata": {},
     "output_type": "execute_result"
    }
   ],
   "source": [
    "# Display the confusion matrix\n",
    "from sklearn.metrics import confusion_matrix\n",
    "confusion_matrix(y_test, y_pred)"
   ]
  },
  {
   "cell_type": "code",
   "execution_count": 26,
   "metadata": {},
   "outputs": [
    {
     "name": "stdout",
     "output_type": "stream",
     "text": [
      "                   pre       rec       spe        f1       geo       iba       sup\n",
      "\n",
      "  bad_score       1.00      1.00      1.00      1.00      1.00      1.00      5908\n",
      " good_score       1.00      1.00      1.00      1.00      1.00      1.00       277\n",
      "\n",
      "avg / total       1.00      1.00      1.00      1.00      1.00      1.00      6185\n",
      "\n"
     ]
    }
   ],
   "source": [
    "# Print the imbalanced classification report\n",
    "from imblearn.metrics import classification_report_imbalanced\n",
    "print(classification_report_imbalanced(y_test, y_pred))"
   ]
  },
  {
   "cell_type": "code",
   "execution_count": 27,
   "metadata": {},
   "outputs": [
    {
     "name": "stdout",
     "output_type": "stream",
     "text": [
      "tmdb_score                     0.146838\n",
      "imdb_votes_350000+             0.108559\n",
      "release_year                   0.084700\n",
      "runtime                        0.076290\n",
      "tmdb_popularity                0.051879\n",
      "                                 ...   \n",
      "name_Jaclyn Bethany            0.000000\n",
      "name_Jackson Walker            0.000000\n",
      "name_Jackson Rathbone          0.000000\n",
      "name_Jackson Nicoll            0.000000\n",
      "name_Kenneth William Clarke    0.000000\n",
      "Length: 21162, dtype: float64\n"
     ]
    }
   ],
   "source": [
    "# List the features sorted in descending order by feature importance\n",
    "priority_features = pd.Series(data=brfc.feature_importances_,index=X.columns)\n",
    "priority_features.sort_values(ascending=False,inplace=True)\n",
    "print(priority_features)"
   ]
  },
  {
   "cell_type": "markdown",
   "metadata": {},
   "source": [
    "Undersampling"
   ]
  },
  {
   "cell_type": "code",
   "execution_count": 28,
   "metadata": {},
   "outputs": [
    {
     "data": {
      "text/plain": [
       "Counter({'bad_score': 832, 'good_score': 832})"
      ]
     },
     "execution_count": 28,
     "metadata": {},
     "output_type": "execute_result"
    }
   ],
   "source": [
    "# Resample the data using the ClusterCentroids resampler\n",
    "# Warning: This is a large dataset, and this step may take some time to complete\n",
    "from imblearn.under_sampling import ClusterCentroids\n",
    "cc = ClusterCentroids(random_state=1)\n",
    "X_resampled, y_resampled = cc.fit_resample(X_train, y_train)\n",
    "Counter(y_resampled)"
   ]
  },
  {
   "cell_type": "code",
   "execution_count": 29,
   "metadata": {},
   "outputs": [
    {
     "data": {
      "text/html": [
       "<style>#sk-container-id-2 {color: black;background-color: white;}#sk-container-id-2 pre{padding: 0;}#sk-container-id-2 div.sk-toggleable {background-color: white;}#sk-container-id-2 label.sk-toggleable__label {cursor: pointer;display: block;width: 100%;margin-bottom: 0;padding: 0.3em;box-sizing: border-box;text-align: center;}#sk-container-id-2 label.sk-toggleable__label-arrow:before {content: \"▸\";float: left;margin-right: 0.25em;color: #696969;}#sk-container-id-2 label.sk-toggleable__label-arrow:hover:before {color: black;}#sk-container-id-2 div.sk-estimator:hover label.sk-toggleable__label-arrow:before {color: black;}#sk-container-id-2 div.sk-toggleable__content {max-height: 0;max-width: 0;overflow: hidden;text-align: left;background-color: #f0f8ff;}#sk-container-id-2 div.sk-toggleable__content pre {margin: 0.2em;color: black;border-radius: 0.25em;background-color: #f0f8ff;}#sk-container-id-2 input.sk-toggleable__control:checked~div.sk-toggleable__content {max-height: 200px;max-width: 100%;overflow: auto;}#sk-container-id-2 input.sk-toggleable__control:checked~label.sk-toggleable__label-arrow:before {content: \"▾\";}#sk-container-id-2 div.sk-estimator input.sk-toggleable__control:checked~label.sk-toggleable__label {background-color: #d4ebff;}#sk-container-id-2 div.sk-label input.sk-toggleable__control:checked~label.sk-toggleable__label {background-color: #d4ebff;}#sk-container-id-2 input.sk-hidden--visually {border: 0;clip: rect(1px 1px 1px 1px);clip: rect(1px, 1px, 1px, 1px);height: 1px;margin: -1px;overflow: hidden;padding: 0;position: absolute;width: 1px;}#sk-container-id-2 div.sk-estimator {font-family: monospace;background-color: #f0f8ff;border: 1px dotted black;border-radius: 0.25em;box-sizing: border-box;margin-bottom: 0.5em;}#sk-container-id-2 div.sk-estimator:hover {background-color: #d4ebff;}#sk-container-id-2 div.sk-parallel-item::after {content: \"\";width: 100%;border-bottom: 1px solid gray;flex-grow: 1;}#sk-container-id-2 div.sk-label:hover label.sk-toggleable__label {background-color: #d4ebff;}#sk-container-id-2 div.sk-serial::before {content: \"\";position: absolute;border-left: 1px solid gray;box-sizing: border-box;top: 0;bottom: 0;left: 50%;z-index: 0;}#sk-container-id-2 div.sk-serial {display: flex;flex-direction: column;align-items: center;background-color: white;padding-right: 0.2em;padding-left: 0.2em;position: relative;}#sk-container-id-2 div.sk-item {position: relative;z-index: 1;}#sk-container-id-2 div.sk-parallel {display: flex;align-items: stretch;justify-content: center;background-color: white;position: relative;}#sk-container-id-2 div.sk-item::before, #sk-container-id-2 div.sk-parallel-item::before {content: \"\";position: absolute;border-left: 1px solid gray;box-sizing: border-box;top: 0;bottom: 0;left: 50%;z-index: -1;}#sk-container-id-2 div.sk-parallel-item {display: flex;flex-direction: column;z-index: 1;position: relative;background-color: white;}#sk-container-id-2 div.sk-parallel-item:first-child::after {align-self: flex-end;width: 50%;}#sk-container-id-2 div.sk-parallel-item:last-child::after {align-self: flex-start;width: 50%;}#sk-container-id-2 div.sk-parallel-item:only-child::after {width: 0;}#sk-container-id-2 div.sk-dashed-wrapped {border: 1px dashed gray;margin: 0 0.4em 0.5em 0.4em;box-sizing: border-box;padding-bottom: 0.4em;background-color: white;}#sk-container-id-2 div.sk-label label {font-family: monospace;font-weight: bold;display: inline-block;line-height: 1.2em;}#sk-container-id-2 div.sk-label-container {text-align: center;}#sk-container-id-2 div.sk-container {/* jupyter's `normalize.less` sets `[hidden] { display: none; }` but bootstrap.min.css set `[hidden] { display: none !important; }` so we also need the `!important` here to be able to override the default hidden behavior on the sphinx rendered scikit-learn.org. See: https://github.com/scikit-learn/scikit-learn/issues/21755 */display: inline-block !important;position: relative;}#sk-container-id-2 div.sk-text-repr-fallback {display: none;}</style><div id=\"sk-container-id-2\" class=\"sk-top-container\"><div class=\"sk-text-repr-fallback\"><pre>LogisticRegression(random_state=1)</pre><b>In a Jupyter environment, please rerun this cell to show the HTML representation or trust the notebook. <br />On GitHub, the HTML representation is unable to render, please try loading this page with nbviewer.org.</b></div><div class=\"sk-container\" hidden><div class=\"sk-item\"><div class=\"sk-estimator sk-toggleable\"><input class=\"sk-toggleable__control sk-hidden--visually\" id=\"sk-estimator-id-2\" type=\"checkbox\" checked><label for=\"sk-estimator-id-2\" class=\"sk-toggleable__label sk-toggleable__label-arrow\">LogisticRegression</label><div class=\"sk-toggleable__content\"><pre>LogisticRegression(random_state=1)</pre></div></div></div></div></div>"
      ],
      "text/plain": [
       "LogisticRegression(random_state=1)"
      ]
     },
     "execution_count": 29,
     "metadata": {},
     "output_type": "execute_result"
    }
   ],
   "source": [
    "# Train the Logistic Regression model using the resampled data\n",
    "from sklearn.linear_model import LogisticRegression\n",
    "\n",
    "model = LogisticRegression(solver='lbfgs', random_state=1)\n",
    "model.fit(X_resampled, y_resampled)"
   ]
  },
  {
   "cell_type": "code",
   "execution_count": 30,
   "metadata": {},
   "outputs": [
    {
     "data": {
      "text/plain": [
       "0.968010700781416"
      ]
     },
     "execution_count": 30,
     "metadata": {},
     "output_type": "execute_result"
    }
   ],
   "source": [
    "# Calculated the balanced accuracy score\n",
    "from sklearn.metrics import balanced_accuracy_score\n",
    "y_pred = model.predict(X_test)\n",
    "balanced_accuracy_score(y_test, y_pred)"
   ]
  },
  {
   "cell_type": "code",
   "execution_count": 31,
   "metadata": {},
   "outputs": [
    {
     "data": {
      "text/plain": [
       "array([[5594,  314],\n",
       "       [   3,  274]])"
      ]
     },
     "execution_count": 31,
     "metadata": {},
     "output_type": "execute_result"
    }
   ],
   "source": [
    "# Display the confusion matrix\n",
    "confusion_matrix(y_test, y_pred)"
   ]
  },
  {
   "cell_type": "code",
   "execution_count": 32,
   "metadata": {},
   "outputs": [
    {
     "name": "stdout",
     "output_type": "stream",
     "text": [
      "                   pre       rec       spe        f1       geo       iba       sup\n",
      "\n",
      "  bad_score       1.00      0.95      0.99      0.97      0.97      0.93      5908\n",
      " good_score       0.47      0.99      0.95      0.63      0.97      0.94       277\n",
      "\n",
      "avg / total       0.98      0.95      0.99      0.96      0.97      0.93      6185\n",
      "\n"
     ]
    }
   ],
   "source": [
    "# Print the imbalanced classification report\n",
    "print(classification_report_imbalanced(y_test, y_pred))"
   ]
  },
  {
   "cell_type": "markdown",
   "metadata": {},
   "source": [
    "Random Oversampling"
   ]
  },
  {
   "cell_type": "code",
   "execution_count": 33,
   "metadata": {},
   "outputs": [
    {
     "data": {
      "text/plain": [
       "Counter({'bad_score': 17722, 'good_score': 17722})"
      ]
     },
     "execution_count": 33,
     "metadata": {},
     "output_type": "execute_result"
    }
   ],
   "source": [
    "from collections import Counter\n",
    "# Resample the training data with the RandomOversampler\n",
    "from imblearn.over_sampling import RandomOverSampler\n",
    "ros = RandomOverSampler(random_state=1)\n",
    "X_resampled, y_resampled = ros.fit_resample(X_train, y_train)\n",
    "\n",
    "Counter(y_resampled)"
   ]
  },
  {
   "cell_type": "code",
   "execution_count": 34,
   "metadata": {},
   "outputs": [
    {
     "data": {
      "text/html": [
       "<style>#sk-container-id-3 {color: black;background-color: white;}#sk-container-id-3 pre{padding: 0;}#sk-container-id-3 div.sk-toggleable {background-color: white;}#sk-container-id-3 label.sk-toggleable__label {cursor: pointer;display: block;width: 100%;margin-bottom: 0;padding: 0.3em;box-sizing: border-box;text-align: center;}#sk-container-id-3 label.sk-toggleable__label-arrow:before {content: \"▸\";float: left;margin-right: 0.25em;color: #696969;}#sk-container-id-3 label.sk-toggleable__label-arrow:hover:before {color: black;}#sk-container-id-3 div.sk-estimator:hover label.sk-toggleable__label-arrow:before {color: black;}#sk-container-id-3 div.sk-toggleable__content {max-height: 0;max-width: 0;overflow: hidden;text-align: left;background-color: #f0f8ff;}#sk-container-id-3 div.sk-toggleable__content pre {margin: 0.2em;color: black;border-radius: 0.25em;background-color: #f0f8ff;}#sk-container-id-3 input.sk-toggleable__control:checked~div.sk-toggleable__content {max-height: 200px;max-width: 100%;overflow: auto;}#sk-container-id-3 input.sk-toggleable__control:checked~label.sk-toggleable__label-arrow:before {content: \"▾\";}#sk-container-id-3 div.sk-estimator input.sk-toggleable__control:checked~label.sk-toggleable__label {background-color: #d4ebff;}#sk-container-id-3 div.sk-label input.sk-toggleable__control:checked~label.sk-toggleable__label {background-color: #d4ebff;}#sk-container-id-3 input.sk-hidden--visually {border: 0;clip: rect(1px 1px 1px 1px);clip: rect(1px, 1px, 1px, 1px);height: 1px;margin: -1px;overflow: hidden;padding: 0;position: absolute;width: 1px;}#sk-container-id-3 div.sk-estimator {font-family: monospace;background-color: #f0f8ff;border: 1px dotted black;border-radius: 0.25em;box-sizing: border-box;margin-bottom: 0.5em;}#sk-container-id-3 div.sk-estimator:hover {background-color: #d4ebff;}#sk-container-id-3 div.sk-parallel-item::after {content: \"\";width: 100%;border-bottom: 1px solid gray;flex-grow: 1;}#sk-container-id-3 div.sk-label:hover label.sk-toggleable__label {background-color: #d4ebff;}#sk-container-id-3 div.sk-serial::before {content: \"\";position: absolute;border-left: 1px solid gray;box-sizing: border-box;top: 0;bottom: 0;left: 50%;z-index: 0;}#sk-container-id-3 div.sk-serial {display: flex;flex-direction: column;align-items: center;background-color: white;padding-right: 0.2em;padding-left: 0.2em;position: relative;}#sk-container-id-3 div.sk-item {position: relative;z-index: 1;}#sk-container-id-3 div.sk-parallel {display: flex;align-items: stretch;justify-content: center;background-color: white;position: relative;}#sk-container-id-3 div.sk-item::before, #sk-container-id-3 div.sk-parallel-item::before {content: \"\";position: absolute;border-left: 1px solid gray;box-sizing: border-box;top: 0;bottom: 0;left: 50%;z-index: -1;}#sk-container-id-3 div.sk-parallel-item {display: flex;flex-direction: column;z-index: 1;position: relative;background-color: white;}#sk-container-id-3 div.sk-parallel-item:first-child::after {align-self: flex-end;width: 50%;}#sk-container-id-3 div.sk-parallel-item:last-child::after {align-self: flex-start;width: 50%;}#sk-container-id-3 div.sk-parallel-item:only-child::after {width: 0;}#sk-container-id-3 div.sk-dashed-wrapped {border: 1px dashed gray;margin: 0 0.4em 0.5em 0.4em;box-sizing: border-box;padding-bottom: 0.4em;background-color: white;}#sk-container-id-3 div.sk-label label {font-family: monospace;font-weight: bold;display: inline-block;line-height: 1.2em;}#sk-container-id-3 div.sk-label-container {text-align: center;}#sk-container-id-3 div.sk-container {/* jupyter's `normalize.less` sets `[hidden] { display: none; }` but bootstrap.min.css set `[hidden] { display: none !important; }` so we also need the `!important` here to be able to override the default hidden behavior on the sphinx rendered scikit-learn.org. See: https://github.com/scikit-learn/scikit-learn/issues/21755 */display: inline-block !important;position: relative;}#sk-container-id-3 div.sk-text-repr-fallback {display: none;}</style><div id=\"sk-container-id-3\" class=\"sk-top-container\"><div class=\"sk-text-repr-fallback\"><pre>LogisticRegression(random_state=1)</pre><b>In a Jupyter environment, please rerun this cell to show the HTML representation or trust the notebook. <br />On GitHub, the HTML representation is unable to render, please try loading this page with nbviewer.org.</b></div><div class=\"sk-container\" hidden><div class=\"sk-item\"><div class=\"sk-estimator sk-toggleable\"><input class=\"sk-toggleable__control sk-hidden--visually\" id=\"sk-estimator-id-3\" type=\"checkbox\" checked><label for=\"sk-estimator-id-3\" class=\"sk-toggleable__label sk-toggleable__label-arrow\">LogisticRegression</label><div class=\"sk-toggleable__content\"><pre>LogisticRegression(random_state=1)</pre></div></div></div></div></div>"
      ],
      "text/plain": [
       "LogisticRegression(random_state=1)"
      ]
     },
     "execution_count": 34,
     "metadata": {},
     "output_type": "execute_result"
    }
   ],
   "source": [
    "# Train the Logistic Regression model using the resampled data\n",
    "from sklearn.linear_model import LogisticRegression\n",
    "\n",
    "model = LogisticRegression(solver='lbfgs', random_state=1)\n",
    "model.fit(X_resampled, y_resampled)"
   ]
  },
  {
   "cell_type": "code",
   "execution_count": 35,
   "metadata": {},
   "outputs": [
    {
     "data": {
      "text/plain": [
       "0.9898733040190257"
      ]
     },
     "execution_count": 35,
     "metadata": {},
     "output_type": "execute_result"
    }
   ],
   "source": [
    "y_pred = model.predict(X_test)\n",
    "\n",
    "balanced_accuracy_score(y_test, y_pred)"
   ]
  },
  {
   "cell_type": "code",
   "execution_count": 36,
   "metadata": {},
   "outputs": [
    {
     "data": {
      "text/plain": [
       "array([[5831,   77],\n",
       "       [   2,  275]])"
      ]
     },
     "execution_count": 36,
     "metadata": {},
     "output_type": "execute_result"
    }
   ],
   "source": [
    "# Display the confusion matrix\n",
    "confusion_matrix(y_test, y_pred)"
   ]
  },
  {
   "cell_type": "code",
   "execution_count": 37,
   "metadata": {},
   "outputs": [
    {
     "name": "stdout",
     "output_type": "stream",
     "text": [
      "                   pre       rec       spe        f1       geo       iba       sup\n",
      "\n",
      "  bad_score       1.00      0.99      0.99      0.99      0.99      0.98      5908\n",
      " good_score       0.78      0.99      0.99      0.87      0.99      0.98       277\n",
      "\n",
      "avg / total       0.99      0.99      0.99      0.99      0.99      0.98      6185\n",
      "\n"
     ]
    }
   ],
   "source": [
    "# Print the imbalanced classification report\n",
    "print(classification_report_imbalanced(y_test, y_pred))"
   ]
  },
  {
   "cell_type": "markdown",
   "metadata": {},
   "source": [
    "SMOTE Oversampling"
   ]
  },
  {
   "cell_type": "code",
   "execution_count": 38,
   "metadata": {},
   "outputs": [
    {
     "data": {
      "text/plain": [
       "Counter({'bad_score': 17722, 'good_score': 17722})"
      ]
     },
     "execution_count": 38,
     "metadata": {},
     "output_type": "execute_result"
    }
   ],
   "source": [
    "# Resample the training data with SMOTE\n",
    "from imblearn.over_sampling import SMOTE\n",
    "X_resampled, y_resampled = SMOTE(random_state=1, sampling_strategy='auto').fit_resample(\n",
    "    X_train, y_train\n",
    ")\n",
    "Counter(y_resampled)"
   ]
  },
  {
   "cell_type": "code",
   "execution_count": 39,
   "metadata": {},
   "outputs": [
    {
     "data": {
      "text/html": [
       "<style>#sk-container-id-4 {color: black;background-color: white;}#sk-container-id-4 pre{padding: 0;}#sk-container-id-4 div.sk-toggleable {background-color: white;}#sk-container-id-4 label.sk-toggleable__label {cursor: pointer;display: block;width: 100%;margin-bottom: 0;padding: 0.3em;box-sizing: border-box;text-align: center;}#sk-container-id-4 label.sk-toggleable__label-arrow:before {content: \"▸\";float: left;margin-right: 0.25em;color: #696969;}#sk-container-id-4 label.sk-toggleable__label-arrow:hover:before {color: black;}#sk-container-id-4 div.sk-estimator:hover label.sk-toggleable__label-arrow:before {color: black;}#sk-container-id-4 div.sk-toggleable__content {max-height: 0;max-width: 0;overflow: hidden;text-align: left;background-color: #f0f8ff;}#sk-container-id-4 div.sk-toggleable__content pre {margin: 0.2em;color: black;border-radius: 0.25em;background-color: #f0f8ff;}#sk-container-id-4 input.sk-toggleable__control:checked~div.sk-toggleable__content {max-height: 200px;max-width: 100%;overflow: auto;}#sk-container-id-4 input.sk-toggleable__control:checked~label.sk-toggleable__label-arrow:before {content: \"▾\";}#sk-container-id-4 div.sk-estimator input.sk-toggleable__control:checked~label.sk-toggleable__label {background-color: #d4ebff;}#sk-container-id-4 div.sk-label input.sk-toggleable__control:checked~label.sk-toggleable__label {background-color: #d4ebff;}#sk-container-id-4 input.sk-hidden--visually {border: 0;clip: rect(1px 1px 1px 1px);clip: rect(1px, 1px, 1px, 1px);height: 1px;margin: -1px;overflow: hidden;padding: 0;position: absolute;width: 1px;}#sk-container-id-4 div.sk-estimator {font-family: monospace;background-color: #f0f8ff;border: 1px dotted black;border-radius: 0.25em;box-sizing: border-box;margin-bottom: 0.5em;}#sk-container-id-4 div.sk-estimator:hover {background-color: #d4ebff;}#sk-container-id-4 div.sk-parallel-item::after {content: \"\";width: 100%;border-bottom: 1px solid gray;flex-grow: 1;}#sk-container-id-4 div.sk-label:hover label.sk-toggleable__label {background-color: #d4ebff;}#sk-container-id-4 div.sk-serial::before {content: \"\";position: absolute;border-left: 1px solid gray;box-sizing: border-box;top: 0;bottom: 0;left: 50%;z-index: 0;}#sk-container-id-4 div.sk-serial {display: flex;flex-direction: column;align-items: center;background-color: white;padding-right: 0.2em;padding-left: 0.2em;position: relative;}#sk-container-id-4 div.sk-item {position: relative;z-index: 1;}#sk-container-id-4 div.sk-parallel {display: flex;align-items: stretch;justify-content: center;background-color: white;position: relative;}#sk-container-id-4 div.sk-item::before, #sk-container-id-4 div.sk-parallel-item::before {content: \"\";position: absolute;border-left: 1px solid gray;box-sizing: border-box;top: 0;bottom: 0;left: 50%;z-index: -1;}#sk-container-id-4 div.sk-parallel-item {display: flex;flex-direction: column;z-index: 1;position: relative;background-color: white;}#sk-container-id-4 div.sk-parallel-item:first-child::after {align-self: flex-end;width: 50%;}#sk-container-id-4 div.sk-parallel-item:last-child::after {align-self: flex-start;width: 50%;}#sk-container-id-4 div.sk-parallel-item:only-child::after {width: 0;}#sk-container-id-4 div.sk-dashed-wrapped {border: 1px dashed gray;margin: 0 0.4em 0.5em 0.4em;box-sizing: border-box;padding-bottom: 0.4em;background-color: white;}#sk-container-id-4 div.sk-label label {font-family: monospace;font-weight: bold;display: inline-block;line-height: 1.2em;}#sk-container-id-4 div.sk-label-container {text-align: center;}#sk-container-id-4 div.sk-container {/* jupyter's `normalize.less` sets `[hidden] { display: none; }` but bootstrap.min.css set `[hidden] { display: none !important; }` so we also need the `!important` here to be able to override the default hidden behavior on the sphinx rendered scikit-learn.org. See: https://github.com/scikit-learn/scikit-learn/issues/21755 */display: inline-block !important;position: relative;}#sk-container-id-4 div.sk-text-repr-fallback {display: none;}</style><div id=\"sk-container-id-4\" class=\"sk-top-container\"><div class=\"sk-text-repr-fallback\"><pre>LogisticRegression(random_state=1)</pre><b>In a Jupyter environment, please rerun this cell to show the HTML representation or trust the notebook. <br />On GitHub, the HTML representation is unable to render, please try loading this page with nbviewer.org.</b></div><div class=\"sk-container\" hidden><div class=\"sk-item\"><div class=\"sk-estimator sk-toggleable\"><input class=\"sk-toggleable__control sk-hidden--visually\" id=\"sk-estimator-id-4\" type=\"checkbox\" checked><label for=\"sk-estimator-id-4\" class=\"sk-toggleable__label sk-toggleable__label-arrow\">LogisticRegression</label><div class=\"sk-toggleable__content\"><pre>LogisticRegression(random_state=1)</pre></div></div></div></div></div>"
      ],
      "text/plain": [
       "LogisticRegression(random_state=1)"
      ]
     },
     "execution_count": 39,
     "metadata": {},
     "output_type": "execute_result"
    }
   ],
   "source": [
    "# Train the Logistic Regression model using the resampled data\n",
    "model_2 = LogisticRegression(solver='lbfgs', random_state=1)\n",
    "model_2.fit(X_resampled, y_resampled)"
   ]
  },
  {
   "cell_type": "code",
   "execution_count": 40,
   "metadata": {},
   "outputs": [
    {
     "data": {
      "text/plain": [
       "0.9898733040190257"
      ]
     },
     "execution_count": 40,
     "metadata": {},
     "output_type": "execute_result"
    }
   ],
   "source": [
    "# Calculated the balanced accuracy score\n",
    "y_pred = model.predict(X_test)\n",
    "balanced_accuracy_score(y_test, y_pred)"
   ]
  },
  {
   "cell_type": "code",
   "execution_count": 41,
   "metadata": {},
   "outputs": [
    {
     "data": {
      "text/plain": [
       "array([[5831,   77],\n",
       "       [   2,  275]])"
      ]
     },
     "execution_count": 41,
     "metadata": {},
     "output_type": "execute_result"
    }
   ],
   "source": [
    "# Display the confusion matrix\n",
    "confusion_matrix(y_test, y_pred)"
   ]
  },
  {
   "cell_type": "code",
   "execution_count": 42,
   "metadata": {},
   "outputs": [
    {
     "name": "stdout",
     "output_type": "stream",
     "text": [
      "                   pre       rec       spe        f1       geo       iba       sup\n",
      "\n",
      "  bad_score       1.00      0.99      0.99      0.99      0.99      0.98      5908\n",
      " good_score       0.78      0.99      0.99      0.87      0.99      0.98       277\n",
      "\n",
      "avg / total       0.99      0.99      0.99      0.99      0.99      0.98      6185\n",
      "\n"
     ]
    }
   ],
   "source": [
    "# Print the imbalanced classification report\n",
    "print(classification_report_imbalanced(y_test, y_pred))"
   ]
  },
  {
   "cell_type": "markdown",
   "metadata": {},
   "source": [
    "SMOTEEEN"
   ]
  },
  {
   "cell_type": "code",
   "execution_count": 43,
   "metadata": {},
   "outputs": [
    {
     "data": {
      "text/plain": [
       "Counter({'bad_score': 23626, 'good_score': 23630})"
      ]
     },
     "execution_count": 43,
     "metadata": {},
     "output_type": "execute_result"
    }
   ],
   "source": [
    "# Resample the training data with SMOTEENN\n",
    "# Warning: This is a large dataset, and this step may take some time to complete\n",
    "from imblearn.combine import SMOTEENN\n",
    "\n",
    "smote_enn = SMOTEENN(random_state=1)\n",
    "X_resampled, y_resampled = smote_enn.fit_resample(X, y)\n",
    "Counter(y_resampled)"
   ]
  },
  {
   "cell_type": "code",
   "execution_count": 44,
   "metadata": {},
   "outputs": [
    {
     "data": {
      "text/html": [
       "<style>#sk-container-id-5 {color: black;background-color: white;}#sk-container-id-5 pre{padding: 0;}#sk-container-id-5 div.sk-toggleable {background-color: white;}#sk-container-id-5 label.sk-toggleable__label {cursor: pointer;display: block;width: 100%;margin-bottom: 0;padding: 0.3em;box-sizing: border-box;text-align: center;}#sk-container-id-5 label.sk-toggleable__label-arrow:before {content: \"▸\";float: left;margin-right: 0.25em;color: #696969;}#sk-container-id-5 label.sk-toggleable__label-arrow:hover:before {color: black;}#sk-container-id-5 div.sk-estimator:hover label.sk-toggleable__label-arrow:before {color: black;}#sk-container-id-5 div.sk-toggleable__content {max-height: 0;max-width: 0;overflow: hidden;text-align: left;background-color: #f0f8ff;}#sk-container-id-5 div.sk-toggleable__content pre {margin: 0.2em;color: black;border-radius: 0.25em;background-color: #f0f8ff;}#sk-container-id-5 input.sk-toggleable__control:checked~div.sk-toggleable__content {max-height: 200px;max-width: 100%;overflow: auto;}#sk-container-id-5 input.sk-toggleable__control:checked~label.sk-toggleable__label-arrow:before {content: \"▾\";}#sk-container-id-5 div.sk-estimator input.sk-toggleable__control:checked~label.sk-toggleable__label {background-color: #d4ebff;}#sk-container-id-5 div.sk-label input.sk-toggleable__control:checked~label.sk-toggleable__label {background-color: #d4ebff;}#sk-container-id-5 input.sk-hidden--visually {border: 0;clip: rect(1px 1px 1px 1px);clip: rect(1px, 1px, 1px, 1px);height: 1px;margin: -1px;overflow: hidden;padding: 0;position: absolute;width: 1px;}#sk-container-id-5 div.sk-estimator {font-family: monospace;background-color: #f0f8ff;border: 1px dotted black;border-radius: 0.25em;box-sizing: border-box;margin-bottom: 0.5em;}#sk-container-id-5 div.sk-estimator:hover {background-color: #d4ebff;}#sk-container-id-5 div.sk-parallel-item::after {content: \"\";width: 100%;border-bottom: 1px solid gray;flex-grow: 1;}#sk-container-id-5 div.sk-label:hover label.sk-toggleable__label {background-color: #d4ebff;}#sk-container-id-5 div.sk-serial::before {content: \"\";position: absolute;border-left: 1px solid gray;box-sizing: border-box;top: 0;bottom: 0;left: 50%;z-index: 0;}#sk-container-id-5 div.sk-serial {display: flex;flex-direction: column;align-items: center;background-color: white;padding-right: 0.2em;padding-left: 0.2em;position: relative;}#sk-container-id-5 div.sk-item {position: relative;z-index: 1;}#sk-container-id-5 div.sk-parallel {display: flex;align-items: stretch;justify-content: center;background-color: white;position: relative;}#sk-container-id-5 div.sk-item::before, #sk-container-id-5 div.sk-parallel-item::before {content: \"\";position: absolute;border-left: 1px solid gray;box-sizing: border-box;top: 0;bottom: 0;left: 50%;z-index: -1;}#sk-container-id-5 div.sk-parallel-item {display: flex;flex-direction: column;z-index: 1;position: relative;background-color: white;}#sk-container-id-5 div.sk-parallel-item:first-child::after {align-self: flex-end;width: 50%;}#sk-container-id-5 div.sk-parallel-item:last-child::after {align-self: flex-start;width: 50%;}#sk-container-id-5 div.sk-parallel-item:only-child::after {width: 0;}#sk-container-id-5 div.sk-dashed-wrapped {border: 1px dashed gray;margin: 0 0.4em 0.5em 0.4em;box-sizing: border-box;padding-bottom: 0.4em;background-color: white;}#sk-container-id-5 div.sk-label label {font-family: monospace;font-weight: bold;display: inline-block;line-height: 1.2em;}#sk-container-id-5 div.sk-label-container {text-align: center;}#sk-container-id-5 div.sk-container {/* jupyter's `normalize.less` sets `[hidden] { display: none; }` but bootstrap.min.css set `[hidden] { display: none !important; }` so we also need the `!important` here to be able to override the default hidden behavior on the sphinx rendered scikit-learn.org. See: https://github.com/scikit-learn/scikit-learn/issues/21755 */display: inline-block !important;position: relative;}#sk-container-id-5 div.sk-text-repr-fallback {display: none;}</style><div id=\"sk-container-id-5\" class=\"sk-top-container\"><div class=\"sk-text-repr-fallback\"><pre>LogisticRegression(random_state=1)</pre><b>In a Jupyter environment, please rerun this cell to show the HTML representation or trust the notebook. <br />On GitHub, the HTML representation is unable to render, please try loading this page with nbviewer.org.</b></div><div class=\"sk-container\" hidden><div class=\"sk-item\"><div class=\"sk-estimator sk-toggleable\"><input class=\"sk-toggleable__control sk-hidden--visually\" id=\"sk-estimator-id-5\" type=\"checkbox\" checked><label for=\"sk-estimator-id-5\" class=\"sk-toggleable__label sk-toggleable__label-arrow\">LogisticRegression</label><div class=\"sk-toggleable__content\"><pre>LogisticRegression(random_state=1)</pre></div></div></div></div></div>"
      ],
      "text/plain": [
       "LogisticRegression(random_state=1)"
      ]
     },
     "execution_count": 44,
     "metadata": {},
     "output_type": "execute_result"
    }
   ],
   "source": [
    "# Train the Logistic Regression model using the resampled data\n",
    "model = LogisticRegression(solver='lbfgs', random_state=1)\n",
    "model.fit(X_resampled, y_resampled)"
   ]
  },
  {
   "cell_type": "code",
   "execution_count": 45,
   "metadata": {},
   "outputs": [
    {
     "data": {
      "text/plain": [
       "0.9905503520894388"
      ]
     },
     "execution_count": 45,
     "metadata": {},
     "output_type": "execute_result"
    }
   ],
   "source": [
    "# Calculated the balanced accuracy score\n",
    "y_pred = model.predict(X_test)\n",
    "balanced_accuracy_score(y_test, y_pred)"
   ]
  },
  {
   "cell_type": "code",
   "execution_count": 46,
   "metadata": {},
   "outputs": [
    {
     "data": {
      "text/plain": [
       "array([[5839,   69],\n",
       "       [   2,  275]])"
      ]
     },
     "execution_count": 46,
     "metadata": {},
     "output_type": "execute_result"
    }
   ],
   "source": [
    "# Display the confusion matrix\n",
    "confusion_matrix(y_test, y_pred)"
   ]
  },
  {
   "cell_type": "code",
   "execution_count": 47,
   "metadata": {},
   "outputs": [
    {
     "name": "stdout",
     "output_type": "stream",
     "text": [
      "                   pre       rec       spe        f1       geo       iba       sup\n",
      "\n",
      "  bad_score       1.00      0.99      0.99      0.99      0.99      0.98      5908\n",
      " good_score       0.80      0.99      0.99      0.89      0.99      0.98       277\n",
      "\n",
      "avg / total       0.99      0.99      0.99      0.99      0.99      0.98      6185\n",
      "\n"
     ]
    }
   ],
   "source": [
    "# Print the imbalanced classification report\n",
    "print(classification_report_imbalanced(y_test, y_pred))"
   ]
  },
  {
   "cell_type": "code",
   "execution_count": null,
   "metadata": {},
   "outputs": [],
   "source": []
  }
 ],
 "metadata": {
  "kernelspec": {
   "display_name": "Python 3.10.5 ('slenv')",
   "language": "python",
   "name": "python3"
  },
  "language_info": {
   "codemirror_mode": {
    "name": "ipython",
    "version": 3
   },
   "file_extension": ".py",
   "mimetype": "text/x-python",
   "name": "python",
   "nbconvert_exporter": "python",
   "pygments_lexer": "ipython3",
   "version": "3.10.5"
  },
  "orig_nbformat": 4,
  "vscode": {
   "interpreter": {
    "hash": "21ebee6fb608fb39ef0c9ddae44eecc2eae626c5a31c4b090ae10897a3d4ee90"
   }
  }
 },
 "nbformat": 4,
 "nbformat_minor": 2
}
