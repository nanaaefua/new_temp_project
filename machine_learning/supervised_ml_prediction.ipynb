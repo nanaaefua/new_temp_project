{
  "cells": [
    {
      "cell_type": "code",
      "execution_count": 1,
      "metadata": {
        "id": "v9YnghNtSXpi"
      },
      "outputs": [],
      "source": [
        "import pandas as pd\n",
        "from pathlib import Path\n",
        "import matplotlib.pyplot as plt\n",
        "from sklearn.linear_model import LinearRegression\n",
        "from sklearn.model_selection import train_test_split\n",
        "from sklearn.metrics import confusion_matrix, accuracy_score, classification_report\n",
        "from sklearn.ensemble import RandomForestClassifier\n",
        "from sklearn.datasets import make_blobs\n",
        "import sklearn as skl\n",
        "import tensorflow as tf\n",
        "import numpy as np\n",
        "from sklearn.preprocessing import StandardScaler,OneHotEncoder\n",
        "from sklearn.metrics import balanced_accuracy_score"
      ]
    },
    {
      "cell_type": "code",
      "execution_count": 3,
      "metadata": {
        "id": "0M2LT-r-S0oP"
      },
      "outputs": [],
      "source": [
        "credits_df = pd.read_csv('../Resources/cleaned_credits.csv')"
      ]
    },
    {
      "cell_type": "code",
      "execution_count": 5,
      "metadata": {
        "id": "pzt4uTfCS-R6"
      },
      "outputs": [],
      "source": [
        "titles_df = pd.read_csv('../Resources/cleaned_movie_db.csv')"
      ]
    },
    {
      "cell_type": "code",
      "execution_count": 6,
      "metadata": {
        "colab": {
          "base_uri": "https://localhost:8080/",
          "height": 835
        },
        "id": "24y8VKoETHth",
        "outputId": "1d6dc9d6-0465-45a3-dc2c-67f7f13b1777"
      },
      "outputs": [
        {
          "data": {
            "text/html": [
              "<div>\n",
              "<style scoped>\n",
              "    .dataframe tbody tr th:only-of-type {\n",
              "        vertical-align: middle;\n",
              "    }\n",
              "\n",
              "    .dataframe tbody tr th {\n",
              "        vertical-align: top;\n",
              "    }\n",
              "\n",
              "    .dataframe thead th {\n",
              "        text-align: right;\n",
              "    }\n",
              "</style>\n",
              "<table border=\"1\" class=\"dataframe\">\n",
              "  <thead>\n",
              "    <tr style=\"text-align: right;\">\n",
              "      <th></th>\n",
              "      <th>index_x</th>\n",
              "      <th>person_id</th>\n",
              "      <th>id</th>\n",
              "      <th>name</th>\n",
              "      <th>role</th>\n",
              "      <th>index_y</th>\n",
              "      <th>title</th>\n",
              "      <th>movie</th>\n",
              "      <th>release_year</th>\n",
              "      <th>age_certification</th>\n",
              "      <th>runtime</th>\n",
              "      <th>genres</th>\n",
              "      <th>production_countries</th>\n",
              "      <th>imdb_id</th>\n",
              "      <th>imdb_score</th>\n",
              "      <th>imdb_votes</th>\n",
              "      <th>tmdb_popularity</th>\n",
              "      <th>tmdb_score</th>\n",
              "    </tr>\n",
              "  </thead>\n",
              "  <tbody>\n",
              "    <tr>\n",
              "      <th>0</th>\n",
              "      <td>0</td>\n",
              "      <td>3748</td>\n",
              "      <td>tm84618</td>\n",
              "      <td>Robert De Niro</td>\n",
              "      <td>ACTOR</td>\n",
              "      <td>1</td>\n",
              "      <td>Taxi Driver</td>\n",
              "      <td>MOVIE</td>\n",
              "      <td>1976</td>\n",
              "      <td>R</td>\n",
              "      <td>113</td>\n",
              "      <td>[''crime'', ''drama'']</td>\n",
              "      <td>['US']</td>\n",
              "      <td>tt0075314</td>\n",
              "      <td>8.3</td>\n",
              "      <td>795222.0</td>\n",
              "      <td>27.612</td>\n",
              "      <td>8.2</td>\n",
              "    </tr>\n",
              "    <tr>\n",
              "      <th>1</th>\n",
              "      <td>1</td>\n",
              "      <td>14658</td>\n",
              "      <td>tm84618</td>\n",
              "      <td>Jodie Foster</td>\n",
              "      <td>ACTOR</td>\n",
              "      <td>1</td>\n",
              "      <td>Taxi Driver</td>\n",
              "      <td>MOVIE</td>\n",
              "      <td>1976</td>\n",
              "      <td>R</td>\n",
              "      <td>113</td>\n",
              "      <td>[''crime'', ''drama'']</td>\n",
              "      <td>['US']</td>\n",
              "      <td>tt0075314</td>\n",
              "      <td>8.3</td>\n",
              "      <td>795222.0</td>\n",
              "      <td>27.612</td>\n",
              "      <td>8.2</td>\n",
              "    </tr>\n",
              "    <tr>\n",
              "      <th>2</th>\n",
              "      <td>2</td>\n",
              "      <td>7064</td>\n",
              "      <td>tm84618</td>\n",
              "      <td>Albert Brooks</td>\n",
              "      <td>ACTOR</td>\n",
              "      <td>1</td>\n",
              "      <td>Taxi Driver</td>\n",
              "      <td>MOVIE</td>\n",
              "      <td>1976</td>\n",
              "      <td>R</td>\n",
              "      <td>113</td>\n",
              "      <td>[''crime'', ''drama'']</td>\n",
              "      <td>['US']</td>\n",
              "      <td>tt0075314</td>\n",
              "      <td>8.3</td>\n",
              "      <td>795222.0</td>\n",
              "      <td>27.612</td>\n",
              "      <td>8.2</td>\n",
              "    </tr>\n",
              "    <tr>\n",
              "      <th>3</th>\n",
              "      <td>3</td>\n",
              "      <td>3739</td>\n",
              "      <td>tm84618</td>\n",
              "      <td>Harvey Keitel</td>\n",
              "      <td>ACTOR</td>\n",
              "      <td>1</td>\n",
              "      <td>Taxi Driver</td>\n",
              "      <td>MOVIE</td>\n",
              "      <td>1976</td>\n",
              "      <td>R</td>\n",
              "      <td>113</td>\n",
              "      <td>[''crime'', ''drama'']</td>\n",
              "      <td>['US']</td>\n",
              "      <td>tt0075314</td>\n",
              "      <td>8.3</td>\n",
              "      <td>795222.0</td>\n",
              "      <td>27.612</td>\n",
              "      <td>8.2</td>\n",
              "    </tr>\n",
              "    <tr>\n",
              "      <th>4</th>\n",
              "      <td>4</td>\n",
              "      <td>48933</td>\n",
              "      <td>tm84618</td>\n",
              "      <td>Cybill Shepherd</td>\n",
              "      <td>ACTOR</td>\n",
              "      <td>1</td>\n",
              "      <td>Taxi Driver</td>\n",
              "      <td>MOVIE</td>\n",
              "      <td>1976</td>\n",
              "      <td>R</td>\n",
              "      <td>113</td>\n",
              "      <td>[''crime'', ''drama'']</td>\n",
              "      <td>['US']</td>\n",
              "      <td>tt0075314</td>\n",
              "      <td>8.3</td>\n",
              "      <td>795222.0</td>\n",
              "      <td>27.612</td>\n",
              "      <td>8.2</td>\n",
              "    </tr>\n",
              "    <tr>\n",
              "      <th>...</th>\n",
              "      <td>...</td>\n",
              "      <td>...</td>\n",
              "      <td>...</td>\n",
              "      <td>...</td>\n",
              "      <td>...</td>\n",
              "      <td>...</td>\n",
              "      <td>...</td>\n",
              "      <td>...</td>\n",
              "      <td>...</td>\n",
              "      <td>...</td>\n",
              "      <td>...</td>\n",
              "      <td>...</td>\n",
              "      <td>...</td>\n",
              "      <td>...</td>\n",
              "      <td>...</td>\n",
              "      <td>...</td>\n",
              "      <td>...</td>\n",
              "      <td>...</td>\n",
              "    </tr>\n",
              "    <tr>\n",
              "      <th>34128</th>\n",
              "      <td>76497</td>\n",
              "      <td>1185475</td>\n",
              "      <td>tm1019084</td>\n",
              "      <td>Antonia Gentry</td>\n",
              "      <td>ACTOR</td>\n",
              "      <td>5720</td>\n",
              "      <td>Ginny &amp; Georgia - The Afterparty</td>\n",
              "      <td>MOVIE</td>\n",
              "      <td>2021</td>\n",
              "      <td>R</td>\n",
              "      <td>35</td>\n",
              "      <td>[]</td>\n",
              "      <td>[''US'', ''CA'']</td>\n",
              "      <td>NaN</td>\n",
              "      <td>NaN</td>\n",
              "      <td>NaN</td>\n",
              "      <td>7.610</td>\n",
              "      <td>7.8</td>\n",
              "    </tr>\n",
              "    <tr>\n",
              "      <th>34129</th>\n",
              "      <td>76498</td>\n",
              "      <td>57076</td>\n",
              "      <td>tm1019084</td>\n",
              "      <td>Jennifer Robertson</td>\n",
              "      <td>ACTOR</td>\n",
              "      <td>5720</td>\n",
              "      <td>Ginny &amp; Georgia - The Afterparty</td>\n",
              "      <td>MOVIE</td>\n",
              "      <td>2021</td>\n",
              "      <td>R</td>\n",
              "      <td>35</td>\n",
              "      <td>[]</td>\n",
              "      <td>[''US'', ''CA'']</td>\n",
              "      <td>NaN</td>\n",
              "      <td>NaN</td>\n",
              "      <td>NaN</td>\n",
              "      <td>7.610</td>\n",
              "      <td>7.8</td>\n",
              "    </tr>\n",
              "    <tr>\n",
              "      <th>34130</th>\n",
              "      <td>76499</td>\n",
              "      <td>85368</td>\n",
              "      <td>tm1019084</td>\n",
              "      <td>Sara Waisglass</td>\n",
              "      <td>ACTOR</td>\n",
              "      <td>5720</td>\n",
              "      <td>Ginny &amp; Georgia - The Afterparty</td>\n",
              "      <td>MOVIE</td>\n",
              "      <td>2021</td>\n",
              "      <td>R</td>\n",
              "      <td>35</td>\n",
              "      <td>[]</td>\n",
              "      <td>[''US'', ''CA'']</td>\n",
              "      <td>NaN</td>\n",
              "      <td>NaN</td>\n",
              "      <td>NaN</td>\n",
              "      <td>7.610</td>\n",
              "      <td>7.8</td>\n",
              "    </tr>\n",
              "    <tr>\n",
              "      <th>34131</th>\n",
              "      <td>77011</td>\n",
              "      <td>2040919</td>\n",
              "      <td>tm1094060</td>\n",
              "      <td>Robin Wiltshire</td>\n",
              "      <td>ACTOR</td>\n",
              "      <td>5777</td>\n",
              "      <td>My Heroes Were Cowboys</td>\n",
              "      <td>MOVIE</td>\n",
              "      <td>2021</td>\n",
              "      <td>PG</td>\n",
              "      <td>23</td>\n",
              "      <td>['documentation']</td>\n",
              "      <td>['US']</td>\n",
              "      <td>tt15084326</td>\n",
              "      <td>NaN</td>\n",
              "      <td>NaN</td>\n",
              "      <td>3.688</td>\n",
              "      <td>7.7</td>\n",
              "    </tr>\n",
              "    <tr>\n",
              "      <th>34132</th>\n",
              "      <td>77012</td>\n",
              "      <td>2044574</td>\n",
              "      <td>tm1094060</td>\n",
              "      <td>Tyler Greco</td>\n",
              "      <td>DIRECTOR</td>\n",
              "      <td>5777</td>\n",
              "      <td>My Heroes Were Cowboys</td>\n",
              "      <td>MOVIE</td>\n",
              "      <td>2021</td>\n",
              "      <td>PG</td>\n",
              "      <td>23</td>\n",
              "      <td>['documentation']</td>\n",
              "      <td>['US']</td>\n",
              "      <td>tt15084326</td>\n",
              "      <td>NaN</td>\n",
              "      <td>NaN</td>\n",
              "      <td>3.688</td>\n",
              "      <td>7.7</td>\n",
              "    </tr>\n",
              "  </tbody>\n",
              "</table>\n",
              "<p>34133 rows × 18 columns</p>\n",
              "</div>"
            ],
            "text/plain": [
              "       index_x  person_id         id                name      role  index_y  \\\n",
              "0            0       3748    tm84618      Robert De Niro     ACTOR        1   \n",
              "1            1      14658    tm84618        Jodie Foster     ACTOR        1   \n",
              "2            2       7064    tm84618       Albert Brooks     ACTOR        1   \n",
              "3            3       3739    tm84618       Harvey Keitel     ACTOR        1   \n",
              "4            4      48933    tm84618     Cybill Shepherd     ACTOR        1   \n",
              "...        ...        ...        ...                 ...       ...      ...   \n",
              "34128    76497    1185475  tm1019084      Antonia Gentry     ACTOR     5720   \n",
              "34129    76498      57076  tm1019084  Jennifer Robertson     ACTOR     5720   \n",
              "34130    76499      85368  tm1019084      Sara Waisglass     ACTOR     5720   \n",
              "34131    77011    2040919  tm1094060     Robin Wiltshire     ACTOR     5777   \n",
              "34132    77012    2044574  tm1094060         Tyler Greco  DIRECTOR     5777   \n",
              "\n",
              "                                  title  movie  release_year  \\\n",
              "0                           Taxi Driver  MOVIE          1976   \n",
              "1                           Taxi Driver  MOVIE          1976   \n",
              "2                           Taxi Driver  MOVIE          1976   \n",
              "3                           Taxi Driver  MOVIE          1976   \n",
              "4                           Taxi Driver  MOVIE          1976   \n",
              "...                                 ...    ...           ...   \n",
              "34128  Ginny & Georgia - The Afterparty  MOVIE          2021   \n",
              "34129  Ginny & Georgia - The Afterparty  MOVIE          2021   \n",
              "34130  Ginny & Georgia - The Afterparty  MOVIE          2021   \n",
              "34131            My Heroes Were Cowboys  MOVIE          2021   \n",
              "34132            My Heroes Were Cowboys  MOVIE          2021   \n",
              "\n",
              "      age_certification  runtime                  genres production_countries  \\\n",
              "0                     R      113  [''crime'', ''drama'']               ['US']   \n",
              "1                     R      113  [''crime'', ''drama'']               ['US']   \n",
              "2                     R      113  [''crime'', ''drama'']               ['US']   \n",
              "3                     R      113  [''crime'', ''drama'']               ['US']   \n",
              "4                     R      113  [''crime'', ''drama'']               ['US']   \n",
              "...                 ...      ...                     ...                  ...   \n",
              "34128                 R       35                      []     [''US'', ''CA'']   \n",
              "34129                 R       35                      []     [''US'', ''CA'']   \n",
              "34130                 R       35                      []     [''US'', ''CA'']   \n",
              "34131                PG       23       ['documentation']               ['US']   \n",
              "34132                PG       23       ['documentation']               ['US']   \n",
              "\n",
              "          imdb_id  imdb_score  imdb_votes  tmdb_popularity  tmdb_score  \n",
              "0       tt0075314         8.3    795222.0           27.612         8.2  \n",
              "1       tt0075314         8.3    795222.0           27.612         8.2  \n",
              "2       tt0075314         8.3    795222.0           27.612         8.2  \n",
              "3       tt0075314         8.3    795222.0           27.612         8.2  \n",
              "4       tt0075314         8.3    795222.0           27.612         8.2  \n",
              "...           ...         ...         ...              ...         ...  \n",
              "34128         NaN         NaN         NaN            7.610         7.8  \n",
              "34129         NaN         NaN         NaN            7.610         7.8  \n",
              "34130         NaN         NaN         NaN            7.610         7.8  \n",
              "34131  tt15084326         NaN         NaN            3.688         7.7  \n",
              "34132  tt15084326         NaN         NaN            3.688         7.7  \n",
              "\n",
              "[34133 rows x 18 columns]"
            ]
          },
          "execution_count": 6,
          "metadata": {},
          "output_type": "execute_result"
        }
      ],
      "source": [
        "merged_df = credits_df.merge(titles_df, on= \"id\")\n",
        "merged_df"
      ]
    },
    {
      "cell_type": "code",
      "execution_count": 7,
      "metadata": {
        "colab": {
          "base_uri": "https://localhost:8080/"
        },
        "id": "-ckdDTteeuou",
        "outputId": "f60d9bc3-89e2-46e3-db1e-28fc44454ea6"
      },
      "outputs": [
        {
          "data": {
            "text/plain": [
              "Fred Armisen                15\n",
              "Marcus Raboy                15\n",
              "Jay Karas                   15\n",
              "Fred Tatasciore             15\n",
              "Adam Sandler                14\n",
              "                            ..\n",
              "AnnaCorey                    1\n",
              "Moises Amaya                 1\n",
              "Natalie Stephany Aguilar     1\n",
              "Derek W. Adam                1\n",
              "Tyler Greco                  1\n",
              "Name: name, Length: 26012, dtype: int64"
            ]
          },
          "execution_count": 7,
          "metadata": {},
          "output_type": "execute_result"
        }
      ],
      "source": [
        "merged_df.name.value_counts()"
      ]
    },
    {
      "cell_type": "code",
      "execution_count": 8,
      "metadata": {
        "id": "TVrocVZkVbQB"
      },
      "outputs": [],
      "source": [
        "mdf= merged_df.drop(columns=[\"index_x\",\"index_y\", \"name\", \"role\", \"person_id\", \"movie\", \"release_year\", \"age_certification\", \"genres\", \"production_countries\"])"
      ]
    },
    {
      "cell_type": "code",
      "execution_count": 9,
      "metadata": {
        "colab": {
          "base_uri": "https://localhost:8080/",
          "height": 424
        },
        "id": "FGaDkyfUW8Ej",
        "outputId": "9c3abf0c-f042-4fea-e6ae-95221aec21d7"
      },
      "outputs": [
        {
          "data": {
            "text/html": [
              "<div>\n",
              "<style scoped>\n",
              "    .dataframe tbody tr th:only-of-type {\n",
              "        vertical-align: middle;\n",
              "    }\n",
              "\n",
              "    .dataframe tbody tr th {\n",
              "        vertical-align: top;\n",
              "    }\n",
              "\n",
              "    .dataframe thead th {\n",
              "        text-align: right;\n",
              "    }\n",
              "</style>\n",
              "<table border=\"1\" class=\"dataframe\">\n",
              "  <thead>\n",
              "    <tr style=\"text-align: right;\">\n",
              "      <th></th>\n",
              "      <th>id</th>\n",
              "      <th>title</th>\n",
              "      <th>runtime</th>\n",
              "      <th>imdb_id</th>\n",
              "      <th>imdb_score</th>\n",
              "      <th>imdb_votes</th>\n",
              "      <th>tmdb_popularity</th>\n",
              "      <th>tmdb_score</th>\n",
              "    </tr>\n",
              "  </thead>\n",
              "  <tbody>\n",
              "    <tr>\n",
              "      <th>0</th>\n",
              "      <td>tm84618</td>\n",
              "      <td>Taxi Driver</td>\n",
              "      <td>113</td>\n",
              "      <td>tt0075314</td>\n",
              "      <td>8.3</td>\n",
              "      <td>795222.0</td>\n",
              "      <td>27.612</td>\n",
              "      <td>8.2</td>\n",
              "    </tr>\n",
              "    <tr>\n",
              "      <th>1</th>\n",
              "      <td>tm84618</td>\n",
              "      <td>Taxi Driver</td>\n",
              "      <td>113</td>\n",
              "      <td>tt0075314</td>\n",
              "      <td>8.3</td>\n",
              "      <td>795222.0</td>\n",
              "      <td>27.612</td>\n",
              "      <td>8.2</td>\n",
              "    </tr>\n",
              "    <tr>\n",
              "      <th>2</th>\n",
              "      <td>tm84618</td>\n",
              "      <td>Taxi Driver</td>\n",
              "      <td>113</td>\n",
              "      <td>tt0075314</td>\n",
              "      <td>8.3</td>\n",
              "      <td>795222.0</td>\n",
              "      <td>27.612</td>\n",
              "      <td>8.2</td>\n",
              "    </tr>\n",
              "    <tr>\n",
              "      <th>3</th>\n",
              "      <td>tm84618</td>\n",
              "      <td>Taxi Driver</td>\n",
              "      <td>113</td>\n",
              "      <td>tt0075314</td>\n",
              "      <td>8.3</td>\n",
              "      <td>795222.0</td>\n",
              "      <td>27.612</td>\n",
              "      <td>8.2</td>\n",
              "    </tr>\n",
              "    <tr>\n",
              "      <th>4</th>\n",
              "      <td>tm84618</td>\n",
              "      <td>Taxi Driver</td>\n",
              "      <td>113</td>\n",
              "      <td>tt0075314</td>\n",
              "      <td>8.3</td>\n",
              "      <td>795222.0</td>\n",
              "      <td>27.612</td>\n",
              "      <td>8.2</td>\n",
              "    </tr>\n",
              "    <tr>\n",
              "      <th>...</th>\n",
              "      <td>...</td>\n",
              "      <td>...</td>\n",
              "      <td>...</td>\n",
              "      <td>...</td>\n",
              "      <td>...</td>\n",
              "      <td>...</td>\n",
              "      <td>...</td>\n",
              "      <td>...</td>\n",
              "    </tr>\n",
              "    <tr>\n",
              "      <th>34128</th>\n",
              "      <td>tm1019084</td>\n",
              "      <td>Ginny &amp; Georgia - The Afterparty</td>\n",
              "      <td>35</td>\n",
              "      <td>NaN</td>\n",
              "      <td>NaN</td>\n",
              "      <td>NaN</td>\n",
              "      <td>7.610</td>\n",
              "      <td>7.8</td>\n",
              "    </tr>\n",
              "    <tr>\n",
              "      <th>34129</th>\n",
              "      <td>tm1019084</td>\n",
              "      <td>Ginny &amp; Georgia - The Afterparty</td>\n",
              "      <td>35</td>\n",
              "      <td>NaN</td>\n",
              "      <td>NaN</td>\n",
              "      <td>NaN</td>\n",
              "      <td>7.610</td>\n",
              "      <td>7.8</td>\n",
              "    </tr>\n",
              "    <tr>\n",
              "      <th>34130</th>\n",
              "      <td>tm1019084</td>\n",
              "      <td>Ginny &amp; Georgia - The Afterparty</td>\n",
              "      <td>35</td>\n",
              "      <td>NaN</td>\n",
              "      <td>NaN</td>\n",
              "      <td>NaN</td>\n",
              "      <td>7.610</td>\n",
              "      <td>7.8</td>\n",
              "    </tr>\n",
              "    <tr>\n",
              "      <th>34131</th>\n",
              "      <td>tm1094060</td>\n",
              "      <td>My Heroes Were Cowboys</td>\n",
              "      <td>23</td>\n",
              "      <td>tt15084326</td>\n",
              "      <td>NaN</td>\n",
              "      <td>NaN</td>\n",
              "      <td>3.688</td>\n",
              "      <td>7.7</td>\n",
              "    </tr>\n",
              "    <tr>\n",
              "      <th>34132</th>\n",
              "      <td>tm1094060</td>\n",
              "      <td>My Heroes Were Cowboys</td>\n",
              "      <td>23</td>\n",
              "      <td>tt15084326</td>\n",
              "      <td>NaN</td>\n",
              "      <td>NaN</td>\n",
              "      <td>3.688</td>\n",
              "      <td>7.7</td>\n",
              "    </tr>\n",
              "  </tbody>\n",
              "</table>\n",
              "<p>34133 rows × 8 columns</p>\n",
              "</div>"
            ],
            "text/plain": [
              "              id                             title  runtime     imdb_id  \\\n",
              "0        tm84618                       Taxi Driver      113   tt0075314   \n",
              "1        tm84618                       Taxi Driver      113   tt0075314   \n",
              "2        tm84618                       Taxi Driver      113   tt0075314   \n",
              "3        tm84618                       Taxi Driver      113   tt0075314   \n",
              "4        tm84618                       Taxi Driver      113   tt0075314   \n",
              "...          ...                               ...      ...         ...   \n",
              "34128  tm1019084  Ginny & Georgia - The Afterparty       35         NaN   \n",
              "34129  tm1019084  Ginny & Georgia - The Afterparty       35         NaN   \n",
              "34130  tm1019084  Ginny & Georgia - The Afterparty       35         NaN   \n",
              "34131  tm1094060            My Heroes Were Cowboys       23  tt15084326   \n",
              "34132  tm1094060            My Heroes Were Cowboys       23  tt15084326   \n",
              "\n",
              "       imdb_score  imdb_votes  tmdb_popularity  tmdb_score  \n",
              "0             8.3    795222.0           27.612         8.2  \n",
              "1             8.3    795222.0           27.612         8.2  \n",
              "2             8.3    795222.0           27.612         8.2  \n",
              "3             8.3    795222.0           27.612         8.2  \n",
              "4             8.3    795222.0           27.612         8.2  \n",
              "...           ...         ...              ...         ...  \n",
              "34128         NaN         NaN            7.610         7.8  \n",
              "34129         NaN         NaN            7.610         7.8  \n",
              "34130         NaN         NaN            7.610         7.8  \n",
              "34131         NaN         NaN            3.688         7.7  \n",
              "34132         NaN         NaN            3.688         7.7  \n",
              "\n",
              "[34133 rows x 8 columns]"
            ]
          },
          "execution_count": 9,
          "metadata": {},
          "output_type": "execute_result"
        }
      ],
      "source": [
        "mdf"
      ]
    },
    {
      "cell_type": "code",
      "execution_count": 10,
      "metadata": {
        "id": "p-xcRJCPXNJ2"
      },
      "outputs": [],
      "source": [
        "cleaned_df = mdf.dropna()"
      ]
    },
    {
      "cell_type": "code",
      "execution_count": 11,
      "metadata": {
        "colab": {
          "base_uri": "https://localhost:8080/"
        },
        "id": "Sx31Y6tVT1ip",
        "outputId": "d5fd55fd-5db2-4245-aae1-e7d14ad28f8c"
      },
      "outputs": [
        {
          "data": {
            "text/plain": [
              "325132.0    208\n",
              "371209.0    174\n",
              "128190.0    150\n",
              "7013.0      139\n",
              "300074.0    137\n",
              "           ... \n",
              "124.0         1\n",
              "272.0         1\n",
              "117.0         1\n",
              "1502.0        1\n",
              "157.0         1\n",
              "Name: imdb_votes, Length: 1320, dtype: int64"
            ]
          },
          "execution_count": 11,
          "metadata": {},
          "output_type": "execute_result"
        }
      ],
      "source": [
        "imdb_counts = cleaned_df.imdb_votes.value_counts()\n",
        "imdb_counts"
      ]
    },
    {
      "cell_type": "code",
      "execution_count": 12,
      "metadata": {
        "colab": {
          "base_uri": "https://localhost:8080/",
          "height": 283
        },
        "id": "XTifq4EOU4JI",
        "outputId": "fb102147-34c1-431e-fbab-d1aa86038fd4"
      },
      "outputs": [
        {
          "data": {
            "text/plain": [
              "<AxesSubplot:ylabel='Density'>"
            ]
          },
          "execution_count": 12,
          "metadata": {},
          "output_type": "execute_result"
        },
        {
          "data": {
            "image/png": "[encoded data removed]",
            "text/plain": [
              "<Figure size 432x288 with 1 Axes>"
            ]
          },
          "metadata": {
            "needs_background": "light"
          },
          "output_type": "display_data"
        }
      ],
      "source": [
        "imdb_counts.plot.density()"
      ]
    },
    {
      "cell_type": "code",
      "execution_count": 13,
      "metadata": {
        "colab": {
          "base_uri": "https://localhost:8080/"
        },
        "id": "HfBh2om1Uks4",
        "outputId": "4f3126b1-c9e7-4b51-c6b3-d321b468fb6d"
      },
      "outputs": [
        {
          "name": "stderr",
          "output_type": "stream",
          "text": [
            "c:\\Users\\equan\\anaconda3\\lib\\site-packages\\pandas\\core\\generic.py:5516: SettingWithCopyWarning: \n",
            "A value is trying to be set on a copy of a slice from a DataFrame.\n",
            "Try using .loc[row_indexer,col_indexer] = value instead\n",
            "\n",
            "See the caveats in the documentation: https://pandas.pydata.org/pandas-docs/stable/user_guide/indexing.html#returning-a-view-versus-a-copy\n",
            "  self[name] = value\n"
          ]
        },
        {
          "data": {
            "text/plain": [
              "Less than 50000    17774\n",
              "50000-99999         4704\n",
              "100000-149999       3550\n",
              "350000+             2401\n",
              "150000-199999       1359\n",
              "250000-299999       1054\n",
              "200000-249999        944\n",
              "300000-349999        839\n",
              "Name: imdb_votes, dtype: int64"
            ]
          },
          "execution_count": 13,
          "metadata": {},
          "output_type": "execute_result"
        }
      ],
      "source": [
        "from numpy import NaN\n",
        "# Determine which values to replace if greater than 1000.\n",
        "replace_votes = list(imdb_counts[imdb_counts < 10000].index)\n",
        "\n",
        "# Replace in DataFrame\n",
        "for votes in replace_votes:\n",
        "  if votes <= 50000:\n",
        "    cleaned_df.imdb_votes = cleaned_df.imdb_votes.replace(votes,str(\"Less than 50000\"))\n",
        "  elif votes < 100000:\n",
        "    cleaned_df.imdb_votes = cleaned_df.imdb_votes.replace(votes,str(\"50000-99999\"))\n",
        "  elif votes < 150000:\n",
        "    cleaned_df.imdb_votes = cleaned_df.imdb_votes.replace(votes,str(\"100000-149999\"))\n",
        "  elif votes < 200000:\n",
        "    cleaned_df.imdb_votes = cleaned_df.imdb_votes.replace(votes,str(\"150000-199999\"))\n",
        "  elif votes < 250000:\n",
        "    cleaned_df.imdb_votes = cleaned_df.imdb_votes.replace(votes,str(\"200000-249999\"))\n",
        "  elif votes < 300000:\n",
        "    cleaned_df.imdb_votes = cleaned_df.imdb_votes.replace(votes,str(\"250000-299999\"))\n",
        "  elif votes < 350000:\n",
        "    cleaned_df.imdb_votes = cleaned_df.imdb_votes.replace(votes,str(\"300000-349999\"))\n",
        "  else:\n",
        "    cleaned_df.imdb_votes = cleaned_df.imdb_votes.replace(votes,str(\"350000+\"))\n",
        "\n",
        "# mdf.imdb_votes = mdf.imdb_votes.astype(str)\n",
        "\n",
        "# Check if binning was successful\n",
        "cleaned_df.imdb_votes.value_counts()\n",
        "\n"
      ]
    },
    {
      "cell_type": "code",
      "execution_count": 14,
      "metadata": {
        "colab": {
          "base_uri": "https://localhost:8080/",
          "height": 424
        },
        "id": "_JLhB6Ly3xIp",
        "outputId": "3c827b99-c6d6-4465-b2f7-d44003ba9af6"
      },
      "outputs": [
        {
          "data": {
            "text/html": [
              "<div>\n",
              "<style scoped>\n",
              "    .dataframe tbody tr th:only-of-type {\n",
              "        vertical-align: middle;\n",
              "    }\n",
              "\n",
              "    .dataframe tbody tr th {\n",
              "        vertical-align: top;\n",
              "    }\n",
              "\n",
              "    .dataframe thead th {\n",
              "        text-align: right;\n",
              "    }\n",
              "</style>\n",
              "<table border=\"1\" class=\"dataframe\">\n",
              "  <thead>\n",
              "    <tr style=\"text-align: right;\">\n",
              "      <th></th>\n",
              "      <th>id</th>\n",
              "      <th>title</th>\n",
              "      <th>runtime</th>\n",
              "      <th>imdb_id</th>\n",
              "      <th>imdb_score</th>\n",
              "      <th>imdb_votes</th>\n",
              "      <th>tmdb_popularity</th>\n",
              "      <th>tmdb_score</th>\n",
              "    </tr>\n",
              "  </thead>\n",
              "  <tbody>\n",
              "    <tr>\n",
              "      <th>0</th>\n",
              "      <td>tm84618</td>\n",
              "      <td>Taxi Driver</td>\n",
              "      <td>113</td>\n",
              "      <td>tt0075314</td>\n",
              "      <td>8.3</td>\n",
              "      <td>350000+</td>\n",
              "      <td>27.612</td>\n",
              "      <td>8.2</td>\n",
              "    </tr>\n",
              "    <tr>\n",
              "      <th>1</th>\n",
              "      <td>tm84618</td>\n",
              "      <td>Taxi Driver</td>\n",
              "      <td>113</td>\n",
              "      <td>tt0075314</td>\n",
              "      <td>8.3</td>\n",
              "      <td>350000+</td>\n",
              "      <td>27.612</td>\n",
              "      <td>8.2</td>\n",
              "    </tr>\n",
              "    <tr>\n",
              "      <th>2</th>\n",
              "      <td>tm84618</td>\n",
              "      <td>Taxi Driver</td>\n",
              "      <td>113</td>\n",
              "      <td>tt0075314</td>\n",
              "      <td>8.3</td>\n",
              "      <td>350000+</td>\n",
              "      <td>27.612</td>\n",
              "      <td>8.2</td>\n",
              "    </tr>\n",
              "    <tr>\n",
              "      <th>3</th>\n",
              "      <td>tm84618</td>\n",
              "      <td>Taxi Driver</td>\n",
              "      <td>113</td>\n",
              "      <td>tt0075314</td>\n",
              "      <td>8.3</td>\n",
              "      <td>350000+</td>\n",
              "      <td>27.612</td>\n",
              "      <td>8.2</td>\n",
              "    </tr>\n",
              "    <tr>\n",
              "      <th>4</th>\n",
              "      <td>tm84618</td>\n",
              "      <td>Taxi Driver</td>\n",
              "      <td>113</td>\n",
              "      <td>tt0075314</td>\n",
              "      <td>8.3</td>\n",
              "      <td>350000+</td>\n",
              "      <td>27.612</td>\n",
              "      <td>8.2</td>\n",
              "    </tr>\n",
              "    <tr>\n",
              "      <th>...</th>\n",
              "      <td>...</td>\n",
              "      <td>...</td>\n",
              "      <td>...</td>\n",
              "      <td>...</td>\n",
              "      <td>...</td>\n",
              "      <td>...</td>\n",
              "      <td>...</td>\n",
              "      <td>...</td>\n",
              "    </tr>\n",
              "    <tr>\n",
              "      <th>34119</th>\n",
              "      <td>tm1080114</td>\n",
              "      <td>Hostage House</td>\n",
              "      <td>90</td>\n",
              "      <td>tt13033790</td>\n",
              "      <td>3.9</td>\n",
              "      <td>Less than 50000</td>\n",
              "      <td>5.541</td>\n",
              "      <td>6.8</td>\n",
              "    </tr>\n",
              "    <tr>\n",
              "      <th>34120</th>\n",
              "      <td>tm1099320</td>\n",
              "      <td>Convergence: Courage in a Crisis</td>\n",
              "      <td>113</td>\n",
              "      <td>tt15398694</td>\n",
              "      <td>5.4</td>\n",
              "      <td>Less than 50000</td>\n",
              "      <td>9.258</td>\n",
              "      <td>5.2</td>\n",
              "    </tr>\n",
              "    <tr>\n",
              "      <th>34121</th>\n",
              "      <td>tm1099320</td>\n",
              "      <td>Convergence: Courage in a Crisis</td>\n",
              "      <td>113</td>\n",
              "      <td>tt15398694</td>\n",
              "      <td>5.4</td>\n",
              "      <td>Less than 50000</td>\n",
              "      <td>9.258</td>\n",
              "      <td>5.2</td>\n",
              "    </tr>\n",
              "    <tr>\n",
              "      <th>34122</th>\n",
              "      <td>tm1099320</td>\n",
              "      <td>Convergence: Courage in a Crisis</td>\n",
              "      <td>113</td>\n",
              "      <td>tt15398694</td>\n",
              "      <td>5.4</td>\n",
              "      <td>Less than 50000</td>\n",
              "      <td>9.258</td>\n",
              "      <td>5.2</td>\n",
              "    </tr>\n",
              "    <tr>\n",
              "      <th>34123</th>\n",
              "      <td>tm1099320</td>\n",
              "      <td>Convergence: Courage in a Crisis</td>\n",
              "      <td>113</td>\n",
              "      <td>tt15398694</td>\n",
              "      <td>5.4</td>\n",
              "      <td>Less than 50000</td>\n",
              "      <td>9.258</td>\n",
              "      <td>5.2</td>\n",
              "    </tr>\n",
              "  </tbody>\n",
              "</table>\n",
              "<p>32625 rows × 8 columns</p>\n",
              "</div>"
            ],
            "text/plain": [
              "              id                             title  runtime     imdb_id  \\\n",
              "0        tm84618                       Taxi Driver      113   tt0075314   \n",
              "1        tm84618                       Taxi Driver      113   tt0075314   \n",
              "2        tm84618                       Taxi Driver      113   tt0075314   \n",
              "3        tm84618                       Taxi Driver      113   tt0075314   \n",
              "4        tm84618                       Taxi Driver      113   tt0075314   \n",
              "...          ...                               ...      ...         ...   \n",
              "34119  tm1080114                     Hostage House       90  tt13033790   \n",
              "34120  tm1099320  Convergence: Courage in a Crisis      113  tt15398694   \n",
              "34121  tm1099320  Convergence: Courage in a Crisis      113  tt15398694   \n",
              "34122  tm1099320  Convergence: Courage in a Crisis      113  tt15398694   \n",
              "34123  tm1099320  Convergence: Courage in a Crisis      113  tt15398694   \n",
              "\n",
              "       imdb_score       imdb_votes  tmdb_popularity  tmdb_score  \n",
              "0             8.3          350000+           27.612         8.2  \n",
              "1             8.3          350000+           27.612         8.2  \n",
              "2             8.3          350000+           27.612         8.2  \n",
              "3             8.3          350000+           27.612         8.2  \n",
              "4             8.3          350000+           27.612         8.2  \n",
              "...           ...              ...              ...         ...  \n",
              "34119         3.9  Less than 50000            5.541         6.8  \n",
              "34120         5.4  Less than 50000            9.258         5.2  \n",
              "34121         5.4  Less than 50000            9.258         5.2  \n",
              "34122         5.4  Less than 50000            9.258         5.2  \n",
              "34123         5.4  Less than 50000            9.258         5.2  \n",
              "\n",
              "[32625 rows x 8 columns]"
            ]
          },
          "execution_count": 14,
          "metadata": {},
          "output_type": "execute_result"
        }
      ],
      "source": [
        "cleaned_df"
      ]
    },
    {
      "cell_type": "code",
      "execution_count": 15,
      "metadata": {
        "colab": {
          "base_uri": "https://localhost:8080/",
          "height": 336
        },
        "id": "0e179wz4ZHGo",
        "outputId": "9308f550-8b28-4058-8f6a-f04f8d94b1d9"
      },
      "outputs": [
        {
          "data": {
            "image/png": "[encoded data removed]",
            "text/plain": [
              "<Figure size 432x288 with 1 Axes>"
            ]
          },
          "metadata": {
            "needs_background": "light"
          },
          "output_type": "display_data"
        }
      ],
      "source": [
        "plt.scatter(cleaned_df['imdb_votes'], cleaned_df['imdb_score'])\n",
        "plt.xlabel('imdb_votes')\n",
        "plt.ylabel(\"imdb_score\")\n",
        "plt.xticks(rotation=45)\n",
        "plt.show()"
      ]
    },
    {
      "cell_type": "code",
      "execution_count": 16,
      "metadata": {
        "colab": {
          "base_uri": "https://localhost:8080/",
          "height": 280
        },
        "id": "VlYZEBciGeaI",
        "outputId": "c63f8c41-ae5f-4eb0-d904-1f9117e85705"
      },
      "outputs": [
        {
          "data": {
            "image/png": "[encoded data removed]",
            "text/plain": [
              "<Figure size 432x288 with 1 Axes>"
            ]
          },
          "metadata": {
            "needs_background": "light"
          },
          "output_type": "display_data"
        }
      ],
      "source": [
        "plt.scatter(cleaned_df['imdb_score'], cleaned_df['runtime'])\n",
        "plt.xlabel('imdb_score')\n",
        "plt.ylabel('runtime')\n",
        "plt.show()"
      ]
    },
    {
      "cell_type": "code",
      "execution_count": 17,
      "metadata": {
        "colab": {
          "base_uri": "https://localhost:8080/",
          "height": 280
        },
        "id": "jYvYCJBtGyxy",
        "outputId": "748f66fc-9bbf-407a-e762-b87fbf6df0d6"
      },
      "outputs": [
        {
          "data": {
            "image/png": "[encoded data removed]",
            "text/plain": [
              "<Figure size 432x288 with 1 Axes>"
            ]
          },
          "metadata": {
            "needs_background": "light"
          },
          "output_type": "display_data"
        }
      ],
      "source": [
        "plt.scatter(cleaned_df['imdb_score'], cleaned_df['tmdb_popularity'])\n",
        "plt.xlabel('imdb_score')\n",
        "plt.ylabel('tmdb_popularity')\n",
        "plt.show()"
      ]
    },
    {
      "cell_type": "code",
      "execution_count": 18,
      "metadata": {
        "colab": {
          "base_uri": "https://localhost:8080/",
          "height": 280
        },
        "id": "SQqyFWGDG6Nz",
        "outputId": "c9d652e3-fd9c-4e0c-8b41-80693ce1da09"
      },
      "outputs": [
        {
          "data": {
            "image/png": "[encoded data removed]",
            "text/plain": [
              "<Figure size 432x288 with 1 Axes>"
            ]
          },
          "metadata": {
            "needs_background": "light"
          },
          "output_type": "display_data"
        }
      ],
      "source": [
        "plt.scatter(cleaned_df['tmdb_score'], cleaned_df['imdb_score'])\n",
        "plt.xlabel('tmdb_score')\n",
        "plt.ylabel('imdb_score')\n",
        "plt.show()"
      ]
    },
    {
      "cell_type": "code",
      "execution_count": 19,
      "metadata": {
        "colab": {
          "base_uri": "https://localhost:8080/",
          "height": 496
        },
        "id": "luGKt5RyHLYg",
        "outputId": "681d92d4-2ed7-4b7b-fd08-f7e95c97d4f7"
      },
      "outputs": [
        {
          "data": {
            "image/png": "[encoded data removed]",
            "text/plain": [
              "<Figure size 432x288 with 1 Axes>"
            ]
          },
          "metadata": {
            "needs_background": "light"
          },
          "output_type": "display_data"
        }
      ],
      "source": [
        "plt.scatter(merged_df['production_countries'], merged_df['imdb_score'])\n",
        "plt.xlabel('production_country')\n",
        "plt.ylabel('imdb_score')\n",
        "plt.xticks(rotation=90)\n",
        "plt.show()"
      ]
    },
    {
      "cell_type": "code",
      "execution_count": 20,
      "metadata": {
        "id": "a2lki6eTevqW"
      },
      "outputs": [],
      "source": [
        "X = cleaned_df.drop(columns=\"imdb_score\")\n",
        "X = pd.get_dummies(cleaned_df, columns=[\"id\", \"title\", \"imdb_id\", \"imdb_votes\"])\n",
        "y = cleaned_df[\"imdb_score\"]"
      ]
    },
    {
      "cell_type": "code",
      "execution_count": 21,
      "metadata": {
        "colab": {
          "base_uri": "https://localhost:8080/"
        },
        "id": "imMRDxyYhAUB",
        "outputId": "52da1bba-c70b-430b-95ad-2b7e1fbe9dfb"
      },
      "outputs": [
        {
          "data": {
            "text/plain": [
              "(24468, 4129)"
            ]
          },
          "execution_count": 21,
          "metadata": {},
          "output_type": "execute_result"
        }
      ],
      "source": [
        "X_train, X_test, y_train, y_test = train_test_split(X,\n",
        "    y, random_state=1, stratify=y)\n",
        "X_train.shape"
      ]
    },
    {
      "cell_type": "code",
      "execution_count": 22,
      "metadata": {
        "colab": {
          "base_uri": "https://localhost:8080/",
          "height": 411
        },
        "id": "pBzluzXohVrh",
        "outputId": "7b36009a-4d87-4f6f-f1b1-c49b2cec55ee"
      },
      "outputs": [
        {
          "data": {
            "text/html": [
              "<div>\n",
              "<style scoped>\n",
              "    .dataframe tbody tr th:only-of-type {\n",
              "        vertical-align: middle;\n",
              "    }\n",
              "\n",
              "    .dataframe tbody tr th {\n",
              "        vertical-align: top;\n",
              "    }\n",
              "\n",
              "    .dataframe thead th {\n",
              "        text-align: right;\n",
              "    }\n",
              "</style>\n",
              "<table border=\"1\" class=\"dataframe\">\n",
              "  <thead>\n",
              "    <tr style=\"text-align: right;\">\n",
              "      <th></th>\n",
              "      <th>runtime</th>\n",
              "      <th>imdb_score</th>\n",
              "      <th>tmdb_popularity</th>\n",
              "      <th>tmdb_score</th>\n",
              "      <th>id_tm1001108</th>\n",
              "      <th>id_tm1001267</th>\n",
              "      <th>id_tm1002815</th>\n",
              "      <th>id_tm1003034</th>\n",
              "      <th>id_tm1003261</th>\n",
              "      <th>id_tm1003353</th>\n",
              "      <th>...</th>\n",
              "      <th>imdb_id_tt9893250</th>\n",
              "      <th>imdb_id_tt9898858</th>\n",
              "      <th>imdb_votes_100000-149999</th>\n",
              "      <th>imdb_votes_150000-199999</th>\n",
              "      <th>imdb_votes_200000-249999</th>\n",
              "      <th>imdb_votes_250000-299999</th>\n",
              "      <th>imdb_votes_300000-349999</th>\n",
              "      <th>imdb_votes_350000+</th>\n",
              "      <th>imdb_votes_50000-99999</th>\n",
              "      <th>imdb_votes_Less than 50000</th>\n",
              "    </tr>\n",
              "  </thead>\n",
              "  <tbody>\n",
              "    <tr>\n",
              "      <th>count</th>\n",
              "      <td>32625.000000</td>\n",
              "      <td>32625.000000</td>\n",
              "      <td>32625.000000</td>\n",
              "      <td>32625.000000</td>\n",
              "      <td>32625.000000</td>\n",
              "      <td>32625.000000</td>\n",
              "      <td>32625.00000</td>\n",
              "      <td>32625.000000</td>\n",
              "      <td>32625.000000</td>\n",
              "      <td>32625.000000</td>\n",
              "      <td>...</td>\n",
              "      <td>32625.000000</td>\n",
              "      <td>32625.000000</td>\n",
              "      <td>32625.000000</td>\n",
              "      <td>32625.000000</td>\n",
              "      <td>32625.000000</td>\n",
              "      <td>32625.000000</td>\n",
              "      <td>32625.000000</td>\n",
              "      <td>32625.000000</td>\n",
              "      <td>32625.000000</td>\n",
              "      <td>32625.000000</td>\n",
              "    </tr>\n",
              "    <tr>\n",
              "      <th>mean</th>\n",
              "      <td>106.238866</td>\n",
              "      <td>6.363215</td>\n",
              "      <td>29.803480</td>\n",
              "      <td>6.525588</td>\n",
              "      <td>0.001471</td>\n",
              "      <td>0.000215</td>\n",
              "      <td>0.00049</td>\n",
              "      <td>0.000889</td>\n",
              "      <td>0.000061</td>\n",
              "      <td>0.000736</td>\n",
              "      <td>...</td>\n",
              "      <td>0.000613</td>\n",
              "      <td>0.000613</td>\n",
              "      <td>0.108812</td>\n",
              "      <td>0.041655</td>\n",
              "      <td>0.028935</td>\n",
              "      <td>0.032307</td>\n",
              "      <td>0.025716</td>\n",
              "      <td>0.073594</td>\n",
              "      <td>0.144184</td>\n",
              "      <td>0.544797</td>\n",
              "    </tr>\n",
              "    <tr>\n",
              "      <th>std</th>\n",
              "      <td>23.515243</td>\n",
              "      <td>1.029581</td>\n",
              "      <td>45.532805</td>\n",
              "      <td>0.823876</td>\n",
              "      <td>0.038329</td>\n",
              "      <td>0.014646</td>\n",
              "      <td>0.02214</td>\n",
              "      <td>0.029801</td>\n",
              "      <td>0.007829</td>\n",
              "      <td>0.027113</td>\n",
              "      <td>...</td>\n",
              "      <td>0.024752</td>\n",
              "      <td>0.024752</td>\n",
              "      <td>0.311408</td>\n",
              "      <td>0.199803</td>\n",
              "      <td>0.167626</td>\n",
              "      <td>0.176816</td>\n",
              "      <td>0.158291</td>\n",
              "      <td>0.261113</td>\n",
              "      <td>0.351281</td>\n",
              "      <td>0.497997</td>\n",
              "    </tr>\n",
              "    <tr>\n",
              "      <th>min</th>\n",
              "      <td>13.000000</td>\n",
              "      <td>2.000000</td>\n",
              "      <td>0.600000</td>\n",
              "      <td>2.000000</td>\n",
              "      <td>0.000000</td>\n",
              "      <td>0.000000</td>\n",
              "      <td>0.00000</td>\n",
              "      <td>0.000000</td>\n",
              "      <td>0.000000</td>\n",
              "      <td>0.000000</td>\n",
              "      <td>...</td>\n",
              "      <td>0.000000</td>\n",
              "      <td>0.000000</td>\n",
              "      <td>0.000000</td>\n",
              "      <td>0.000000</td>\n",
              "      <td>0.000000</td>\n",
              "      <td>0.000000</td>\n",
              "      <td>0.000000</td>\n",
              "      <td>0.000000</td>\n",
              "      <td>0.000000</td>\n",
              "      <td>0.000000</td>\n",
              "    </tr>\n",
              "    <tr>\n",
              "      <th>25%</th>\n",
              "      <td>93.000000</td>\n",
              "      <td>5.700000</td>\n",
              "      <td>10.970000</td>\n",
              "      <td>6.000000</td>\n",
              "      <td>0.000000</td>\n",
              "      <td>0.000000</td>\n",
              "      <td>0.00000</td>\n",
              "      <td>0.000000</td>\n",
              "      <td>0.000000</td>\n",
              "      <td>0.000000</td>\n",
              "      <td>...</td>\n",
              "      <td>0.000000</td>\n",
              "      <td>0.000000</td>\n",
              "      <td>0.000000</td>\n",
              "      <td>0.000000</td>\n",
              "      <td>0.000000</td>\n",
              "      <td>0.000000</td>\n",
              "      <td>0.000000</td>\n",
              "      <td>0.000000</td>\n",
              "      <td>0.000000</td>\n",
              "      <td>0.000000</td>\n",
              "    </tr>\n",
              "    <tr>\n",
              "      <th>50%</th>\n",
              "      <td>103.000000</td>\n",
              "      <td>6.500000</td>\n",
              "      <td>16.841000</td>\n",
              "      <td>6.600000</td>\n",
              "      <td>0.000000</td>\n",
              "      <td>0.000000</td>\n",
              "      <td>0.00000</td>\n",
              "      <td>0.000000</td>\n",
              "      <td>0.000000</td>\n",
              "      <td>0.000000</td>\n",
              "      <td>...</td>\n",
              "      <td>0.000000</td>\n",
              "      <td>0.000000</td>\n",
              "      <td>0.000000</td>\n",
              "      <td>0.000000</td>\n",
              "      <td>0.000000</td>\n",
              "      <td>0.000000</td>\n",
              "      <td>0.000000</td>\n",
              "      <td>0.000000</td>\n",
              "      <td>0.000000</td>\n",
              "      <td>1.000000</td>\n",
              "    </tr>\n",
              "    <tr>\n",
              "      <th>75%</th>\n",
              "      <td>119.000000</td>\n",
              "      <td>7.100000</td>\n",
              "      <td>31.774000</td>\n",
              "      <td>7.100000</td>\n",
              "      <td>0.000000</td>\n",
              "      <td>0.000000</td>\n",
              "      <td>0.00000</td>\n",
              "      <td>0.000000</td>\n",
              "      <td>0.000000</td>\n",
              "      <td>0.000000</td>\n",
              "      <td>...</td>\n",
              "      <td>0.000000</td>\n",
              "      <td>0.000000</td>\n",
              "      <td>0.000000</td>\n",
              "      <td>0.000000</td>\n",
              "      <td>0.000000</td>\n",
              "      <td>0.000000</td>\n",
              "      <td>0.000000</td>\n",
              "      <td>0.000000</td>\n",
              "      <td>0.000000</td>\n",
              "      <td>1.000000</td>\n",
              "    </tr>\n",
              "    <tr>\n",
              "      <th>max</th>\n",
              "      <td>229.000000</td>\n",
              "      <td>8.800000</td>\n",
              "      <td>919.599000</td>\n",
              "      <td>8.500000</td>\n",
              "      <td>1.000000</td>\n",
              "      <td>1.000000</td>\n",
              "      <td>1.00000</td>\n",
              "      <td>1.000000</td>\n",
              "      <td>1.000000</td>\n",
              "      <td>1.000000</td>\n",
              "      <td>...</td>\n",
              "      <td>1.000000</td>\n",
              "      <td>1.000000</td>\n",
              "      <td>1.000000</td>\n",
              "      <td>1.000000</td>\n",
              "      <td>1.000000</td>\n",
              "      <td>1.000000</td>\n",
              "      <td>1.000000</td>\n",
              "      <td>1.000000</td>\n",
              "      <td>1.000000</td>\n",
              "      <td>1.000000</td>\n",
              "    </tr>\n",
              "  </tbody>\n",
              "</table>\n",
              "<p>8 rows × 4129 columns</p>\n",
              "</div>"
            ],
            "text/plain": [
              "            runtime    imdb_score  tmdb_popularity    tmdb_score  \\\n",
              "count  32625.000000  32625.000000     32625.000000  32625.000000   \n",
              "mean     106.238866      6.363215        29.803480      6.525588   \n",
              "std       23.515243      1.029581        45.532805      0.823876   \n",
              "min       13.000000      2.000000         0.600000      2.000000   \n",
              "25%       93.000000      5.700000        10.970000      6.000000   \n",
              "50%      103.000000      6.500000        16.841000      6.600000   \n",
              "75%      119.000000      7.100000        31.774000      7.100000   \n",
              "max      229.000000      8.800000       919.599000      8.500000   \n",
              "\n",
              "       id_tm1001108  id_tm1001267  id_tm1002815  id_tm1003034  id_tm1003261  \\\n",
              "count  32625.000000  32625.000000   32625.00000  32625.000000  32625.000000   \n",
              "mean       0.001471      0.000215       0.00049      0.000889      0.000061   \n",
              "std        0.038329      0.014646       0.02214      0.029801      0.007829   \n",
              "min        0.000000      0.000000       0.00000      0.000000      0.000000   \n",
              "25%        0.000000      0.000000       0.00000      0.000000      0.000000   \n",
              "50%        0.000000      0.000000       0.00000      0.000000      0.000000   \n",
              "75%        0.000000      0.000000       0.00000      0.000000      0.000000   \n",
              "max        1.000000      1.000000       1.00000      1.000000      1.000000   \n",
              "\n",
              "       id_tm1003353  ...  imdb_id_tt9893250  imdb_id_tt9898858  \\\n",
              "count  32625.000000  ...       32625.000000       32625.000000   \n",
              "mean       0.000736  ...           0.000613           0.000613   \n",
              "std        0.027113  ...           0.024752           0.024752   \n",
              "min        0.000000  ...           0.000000           0.000000   \n",
              "25%        0.000000  ...           0.000000           0.000000   \n",
              "50%        0.000000  ...           0.000000           0.000000   \n",
              "75%        0.000000  ...           0.000000           0.000000   \n",
              "max        1.000000  ...           1.000000           1.000000   \n",
              "\n",
              "       imdb_votes_100000-149999  imdb_votes_150000-199999  \\\n",
              "count              32625.000000              32625.000000   \n",
              "mean                   0.108812                  0.041655   \n",
              "std                    0.311408                  0.199803   \n",
              "min                    0.000000                  0.000000   \n",
              "25%                    0.000000                  0.000000   \n",
              "50%                    0.000000                  0.000000   \n",
              "75%                    0.000000                  0.000000   \n",
              "max                    1.000000                  1.000000   \n",
              "\n",
              "       imdb_votes_200000-249999  imdb_votes_250000-299999  \\\n",
              "count              32625.000000              32625.000000   \n",
              "mean                   0.028935                  0.032307   \n",
              "std                    0.167626                  0.176816   \n",
              "min                    0.000000                  0.000000   \n",
              "25%                    0.000000                  0.000000   \n",
              "50%                    0.000000                  0.000000   \n",
              "75%                    0.000000                  0.000000   \n",
              "max                    1.000000                  1.000000   \n",
              "\n",
              "       imdb_votes_300000-349999  imdb_votes_350000+  imdb_votes_50000-99999  \\\n",
              "count              32625.000000        32625.000000            32625.000000   \n",
              "mean                   0.025716            0.073594                0.144184   \n",
              "std                    0.158291            0.261113                0.351281   \n",
              "min                    0.000000            0.000000                0.000000   \n",
              "25%                    0.000000            0.000000                0.000000   \n",
              "50%                    0.000000            0.000000                0.000000   \n",
              "75%                    0.000000            0.000000                0.000000   \n",
              "max                    1.000000            1.000000                1.000000   \n",
              "\n",
              "       imdb_votes_Less than 50000  \n",
              "count                32625.000000  \n",
              "mean                     0.544797  \n",
              "std                      0.497997  \n",
              "min                      0.000000  \n",
              "25%                      0.000000  \n",
              "50%                      1.000000  \n",
              "75%                      1.000000  \n",
              "max                      1.000000  \n",
              "\n",
              "[8 rows x 4129 columns]"
            ]
          },
          "execution_count": 22,
          "metadata": {},
          "output_type": "execute_result"
        }
      ],
      "source": [
        "X.describe()"
      ]
    },
    {
      "cell_type": "code",
      "execution_count": 23,
      "metadata": {
        "colab": {
          "base_uri": "https://localhost:8080/"
        },
        "id": "cz76VoojLfsl",
        "outputId": "41c7c1ee-3922-4f67-904f-4e5d9ac8c67f"
      },
      "outputs": [
        {
          "data": {
            "text/plain": [
              "6.5    1544\n",
              "6.7    1396\n",
              "6.3    1356\n",
              "6.6    1342\n",
              "6.8    1241\n",
              "       ... \n",
              "2.0      16\n",
              "2.4      13\n",
              "2.7      12\n",
              "8.7       9\n",
              "8.5       3\n",
              "Name: imdb_score, Length: 65, dtype: int64"
            ]
          },
          "execution_count": 23,
          "metadata": {},
          "output_type": "execute_result"
        }
      ],
      "source": [
        "y.value_counts()"
      ]
    },
    {
      "cell_type": "code",
      "execution_count": 24,
      "metadata": {
        "colab": {
          "base_uri": "https://localhost:8080/"
        },
        "id": "tjLtop5MZjqC",
        "outputId": "8b5830c7-f241-442d-cf8e-654691bbdd91"
      },
      "outputs": [
        {
          "data": {
            "text/plain": [
              "LinearRegression()"
            ]
          },
          "execution_count": 24,
          "metadata": {},
          "output_type": "execute_result"
        }
      ],
      "source": [
        "model = LinearRegression()\n",
        "model.fit(X_train, y_train)\n"
      ]
    },
    {
      "cell_type": "code",
      "execution_count": 25,
      "metadata": {
        "colab": {
          "base_uri": "https://localhost:8080/"
        },
        "id": "aJLTHRnGDI0X",
        "outputId": "e41a3c2c-3e5d-4bd7-e467-bb9b57a80652"
      },
      "outputs": [
        {
          "name": "stdout",
          "output_type": "stream",
          "text": [
            "R-squared: 1.0000\n"
          ]
        }
      ],
      "source": [
        "print('R-squared: {:.4f}'.format(model.score(X, y)))"
      ]
    },
    {
      "cell_type": "code",
      "execution_count": 26,
      "metadata": {
        "colab": {
          "base_uri": "https://localhost:8080/"
        },
        "id": "16FbYEFh9XXk",
        "outputId": "cf9e84fc-4533-453f-c7ba-c9edad4cdf03"
      },
      "outputs": [
        {
          "name": "stdout",
          "output_type": "stream",
          "text": [
            "(24468,)\n"
          ]
        }
      ],
      "source": [
        "\n",
        "y_pred = model.predict(X_train)\n",
        "print(y_pred.shape)\n"
      ]
    },
    {
      "cell_type": "code",
      "execution_count": 27,
      "metadata": {
        "id": "gA54ovuvEtbY"
      },
      "outputs": [],
      "source": [
        "# X_train=np.arange(0,len(X_train),1)"
      ]
    },
    {
      "cell_type": "code",
      "execution_count": 28,
      "metadata": {
        "colab": {
          "base_uri": "https://localhost:8080/",
          "height": 541
        },
        "id": "JtD90aTY999X",
        "outputId": "2a2abae0-940e-43cf-f1ce-f82eff78bf9a"
      },
      "outputs": [
        {
          "data": {
            "image/png": "[encoded data removed]",
            "text/plain": [
              "<Figure size 432x288 with 1 Axes>"
            ]
          },
          "metadata": {
            "needs_background": "light"
          },
          "output_type": "display_data"
        },
        {
          "data": {
            "image/png": "[encoded data removed]",
            "text/plain": [
              "<Figure size 432x288 with 1 Axes>"
            ]
          },
          "metadata": {
            "needs_background": "light"
          },
          "output_type": "display_data"
        }
      ],
      "source": [
        "plt.figure(2)\n",
        "plt.scatter(y_test, X_test.iloc[:,0].values)\n",
        "plt.xlabel(\"IMDB Score\")\n",
        "plt.ylabel(\"Data\")\n",
        "\n",
        "plt.figure(3)\n",
        "plt.scatter(y_test, X_test.iloc[:,1].values)\n",
        "plt.xlabel(\"IMDB Score\")\n",
        "plt.ylabel(\"Data\")\n",
        "\n",
        "plt.show()\n"
      ]
    },
    {
      "cell_type": "code",
      "execution_count": 29,
      "metadata": {
        "id": "ZkovxWwdgYSd"
      },
      "outputs": [],
      "source": [
        "X_scaler = skl.preprocessing.StandardScaler()\n",
        "\n",
        "X_scaler.fit(X_train)\n",
        "\n",
        "X_train_scaled = X_scaler.transform(X_train)\n",
        "X_test_scaled = X_scaler.transform(X_test)"
      ]
    },
    {
      "cell_type": "markdown",
      "metadata": {
        "id": "j3wieFnySpuD"
      },
      "source": [
        "Merged DF Linear Regression\n"
      ]
    },
    {
      "cell_type": "code",
      "execution_count": 30,
      "metadata": {
        "id": "ZubRUeE7gm2i"
      },
      "outputs": [],
      "source": [
        "mdf2 = merged_df.drop(columns=[\"index_x\",\"index_y\", \"name\", \"movie\"])"
      ]
    },
    {
      "cell_type": "code",
      "execution_count": 31,
      "metadata": {
        "colab": {
          "base_uri": "https://localhost:8080/",
          "height": 835
        },
        "id": "MKYjcX1PhlRu",
        "outputId": "864d5f3a-06b9-4e25-ecaa-ffd3d60ab73f"
      },
      "outputs": [
        {
          "data": {
            "text/html": [
              "<div>\n",
              "<style scoped>\n",
              "    .dataframe tbody tr th:only-of-type {\n",
              "        vertical-align: middle;\n",
              "    }\n",
              "\n",
              "    .dataframe tbody tr th {\n",
              "        vertical-align: top;\n",
              "    }\n",
              "\n",
              "    .dataframe thead th {\n",
              "        text-align: right;\n",
              "    }\n",
              "</style>\n",
              "<table border=\"1\" class=\"dataframe\">\n",
              "  <thead>\n",
              "    <tr style=\"text-align: right;\">\n",
              "      <th></th>\n",
              "      <th>person_id</th>\n",
              "      <th>id</th>\n",
              "      <th>role</th>\n",
              "      <th>title</th>\n",
              "      <th>release_year</th>\n",
              "      <th>age_certification</th>\n",
              "      <th>runtime</th>\n",
              "      <th>genres</th>\n",
              "      <th>production_countries</th>\n",
              "      <th>imdb_id</th>\n",
              "      <th>imdb_score</th>\n",
              "      <th>imdb_votes</th>\n",
              "      <th>tmdb_popularity</th>\n",
              "      <th>tmdb_score</th>\n",
              "    </tr>\n",
              "  </thead>\n",
              "  <tbody>\n",
              "    <tr>\n",
              "      <th>0</th>\n",
              "      <td>3748</td>\n",
              "      <td>tm84618</td>\n",
              "      <td>ACTOR</td>\n",
              "      <td>Taxi Driver</td>\n",
              "      <td>1976</td>\n",
              "      <td>R</td>\n",
              "      <td>113</td>\n",
              "      <td>[''crime'', ''drama'']</td>\n",
              "      <td>['US']</td>\n",
              "      <td>tt0075314</td>\n",
              "      <td>8.3</td>\n",
              "      <td>795222.0</td>\n",
              "      <td>27.612</td>\n",
              "      <td>8.2</td>\n",
              "    </tr>\n",
              "    <tr>\n",
              "      <th>1</th>\n",
              "      <td>14658</td>\n",
              "      <td>tm84618</td>\n",
              "      <td>ACTOR</td>\n",
              "      <td>Taxi Driver</td>\n",
              "      <td>1976</td>\n",
              "      <td>R</td>\n",
              "      <td>113</td>\n",
              "      <td>[''crime'', ''drama'']</td>\n",
              "      <td>['US']</td>\n",
              "      <td>tt0075314</td>\n",
              "      <td>8.3</td>\n",
              "      <td>795222.0</td>\n",
              "      <td>27.612</td>\n",
              "      <td>8.2</td>\n",
              "    </tr>\n",
              "    <tr>\n",
              "      <th>2</th>\n",
              "      <td>7064</td>\n",
              "      <td>tm84618</td>\n",
              "      <td>ACTOR</td>\n",
              "      <td>Taxi Driver</td>\n",
              "      <td>1976</td>\n",
              "      <td>R</td>\n",
              "      <td>113</td>\n",
              "      <td>[''crime'', ''drama'']</td>\n",
              "      <td>['US']</td>\n",
              "      <td>tt0075314</td>\n",
              "      <td>8.3</td>\n",
              "      <td>795222.0</td>\n",
              "      <td>27.612</td>\n",
              "      <td>8.2</td>\n",
              "    </tr>\n",
              "    <tr>\n",
              "      <th>3</th>\n",
              "      <td>3739</td>\n",
              "      <td>tm84618</td>\n",
              "      <td>ACTOR</td>\n",
              "      <td>Taxi Driver</td>\n",
              "      <td>1976</td>\n",
              "      <td>R</td>\n",
              "      <td>113</td>\n",
              "      <td>[''crime'', ''drama'']</td>\n",
              "      <td>['US']</td>\n",
              "      <td>tt0075314</td>\n",
              "      <td>8.3</td>\n",
              "      <td>795222.0</td>\n",
              "      <td>27.612</td>\n",
              "      <td>8.2</td>\n",
              "    </tr>\n",
              "    <tr>\n",
              "      <th>4</th>\n",
              "      <td>48933</td>\n",
              "      <td>tm84618</td>\n",
              "      <td>ACTOR</td>\n",
              "      <td>Taxi Driver</td>\n",
              "      <td>1976</td>\n",
              "      <td>R</td>\n",
              "      <td>113</td>\n",
              "      <td>[''crime'', ''drama'']</td>\n",
              "      <td>['US']</td>\n",
              "      <td>tt0075314</td>\n",
              "      <td>8.3</td>\n",
              "      <td>795222.0</td>\n",
              "      <td>27.612</td>\n",
              "      <td>8.2</td>\n",
              "    </tr>\n",
              "    <tr>\n",
              "      <th>...</th>\n",
              "      <td>...</td>\n",
              "      <td>...</td>\n",
              "      <td>...</td>\n",
              "      <td>...</td>\n",
              "      <td>...</td>\n",
              "      <td>...</td>\n",
              "      <td>...</td>\n",
              "      <td>...</td>\n",
              "      <td>...</td>\n",
              "      <td>...</td>\n",
              "      <td>...</td>\n",
              "      <td>...</td>\n",
              "      <td>...</td>\n",
              "      <td>...</td>\n",
              "    </tr>\n",
              "    <tr>\n",
              "      <th>34128</th>\n",
              "      <td>1185475</td>\n",
              "      <td>tm1019084</td>\n",
              "      <td>ACTOR</td>\n",
              "      <td>Ginny &amp; Georgia - The Afterparty</td>\n",
              "      <td>2021</td>\n",
              "      <td>R</td>\n",
              "      <td>35</td>\n",
              "      <td>[]</td>\n",
              "      <td>[''US'', ''CA'']</td>\n",
              "      <td>NaN</td>\n",
              "      <td>NaN</td>\n",
              "      <td>NaN</td>\n",
              "      <td>7.610</td>\n",
              "      <td>7.8</td>\n",
              "    </tr>\n",
              "    <tr>\n",
              "      <th>34129</th>\n",
              "      <td>57076</td>\n",
              "      <td>tm1019084</td>\n",
              "      <td>ACTOR</td>\n",
              "      <td>Ginny &amp; Georgia - The Afterparty</td>\n",
              "      <td>2021</td>\n",
              "      <td>R</td>\n",
              "      <td>35</td>\n",
              "      <td>[]</td>\n",
              "      <td>[''US'', ''CA'']</td>\n",
              "      <td>NaN</td>\n",
              "      <td>NaN</td>\n",
              "      <td>NaN</td>\n",
              "      <td>7.610</td>\n",
              "      <td>7.8</td>\n",
              "    </tr>\n",
              "    <tr>\n",
              "      <th>34130</th>\n",
              "      <td>85368</td>\n",
              "      <td>tm1019084</td>\n",
              "      <td>ACTOR</td>\n",
              "      <td>Ginny &amp; Georgia - The Afterparty</td>\n",
              "      <td>2021</td>\n",
              "      <td>R</td>\n",
              "      <td>35</td>\n",
              "      <td>[]</td>\n",
              "      <td>[''US'', ''CA'']</td>\n",
              "      <td>NaN</td>\n",
              "      <td>NaN</td>\n",
              "      <td>NaN</td>\n",
              "      <td>7.610</td>\n",
              "      <td>7.8</td>\n",
              "    </tr>\n",
              "    <tr>\n",
              "      <th>34131</th>\n",
              "      <td>2040919</td>\n",
              "      <td>tm1094060</td>\n",
              "      <td>ACTOR</td>\n",
              "      <td>My Heroes Were Cowboys</td>\n",
              "      <td>2021</td>\n",
              "      <td>PG</td>\n",
              "      <td>23</td>\n",
              "      <td>['documentation']</td>\n",
              "      <td>['US']</td>\n",
              "      <td>tt15084326</td>\n",
              "      <td>NaN</td>\n",
              "      <td>NaN</td>\n",
              "      <td>3.688</td>\n",
              "      <td>7.7</td>\n",
              "    </tr>\n",
              "    <tr>\n",
              "      <th>34132</th>\n",
              "      <td>2044574</td>\n",
              "      <td>tm1094060</td>\n",
              "      <td>DIRECTOR</td>\n",
              "      <td>My Heroes Were Cowboys</td>\n",
              "      <td>2021</td>\n",
              "      <td>PG</td>\n",
              "      <td>23</td>\n",
              "      <td>['documentation']</td>\n",
              "      <td>['US']</td>\n",
              "      <td>tt15084326</td>\n",
              "      <td>NaN</td>\n",
              "      <td>NaN</td>\n",
              "      <td>3.688</td>\n",
              "      <td>7.7</td>\n",
              "    </tr>\n",
              "  </tbody>\n",
              "</table>\n",
              "<p>34133 rows × 14 columns</p>\n",
              "</div>"
            ],
            "text/plain": [
              "       person_id         id      role                             title  \\\n",
              "0           3748    tm84618     ACTOR                       Taxi Driver   \n",
              "1          14658    tm84618     ACTOR                       Taxi Driver   \n",
              "2           7064    tm84618     ACTOR                       Taxi Driver   \n",
              "3           3739    tm84618     ACTOR                       Taxi Driver   \n",
              "4          48933    tm84618     ACTOR                       Taxi Driver   \n",
              "...          ...        ...       ...                               ...   \n",
              "34128    1185475  tm1019084     ACTOR  Ginny & Georgia - The Afterparty   \n",
              "34129      57076  tm1019084     ACTOR  Ginny & Georgia - The Afterparty   \n",
              "34130      85368  tm1019084     ACTOR  Ginny & Georgia - The Afterparty   \n",
              "34131    2040919  tm1094060     ACTOR            My Heroes Were Cowboys   \n",
              "34132    2044574  tm1094060  DIRECTOR            My Heroes Were Cowboys   \n",
              "\n",
              "       release_year age_certification  runtime                  genres  \\\n",
              "0              1976                 R      113  [''crime'', ''drama'']   \n",
              "1              1976                 R      113  [''crime'', ''drama'']   \n",
              "2              1976                 R      113  [''crime'', ''drama'']   \n",
              "3              1976                 R      113  [''crime'', ''drama'']   \n",
              "4              1976                 R      113  [''crime'', ''drama'']   \n",
              "...             ...               ...      ...                     ...   \n",
              "34128          2021                 R       35                      []   \n",
              "34129          2021                 R       35                      []   \n",
              "34130          2021                 R       35                      []   \n",
              "34131          2021                PG       23       ['documentation']   \n",
              "34132          2021                PG       23       ['documentation']   \n",
              "\n",
              "      production_countries     imdb_id  imdb_score  imdb_votes  \\\n",
              "0                   ['US']   tt0075314         8.3    795222.0   \n",
              "1                   ['US']   tt0075314         8.3    795222.0   \n",
              "2                   ['US']   tt0075314         8.3    795222.0   \n",
              "3                   ['US']   tt0075314         8.3    795222.0   \n",
              "4                   ['US']   tt0075314         8.3    795222.0   \n",
              "...                    ...         ...         ...         ...   \n",
              "34128     [''US'', ''CA'']         NaN         NaN         NaN   \n",
              "34129     [''US'', ''CA'']         NaN         NaN         NaN   \n",
              "34130     [''US'', ''CA'']         NaN         NaN         NaN   \n",
              "34131               ['US']  tt15084326         NaN         NaN   \n",
              "34132               ['US']  tt15084326         NaN         NaN   \n",
              "\n",
              "       tmdb_popularity  tmdb_score  \n",
              "0               27.612         8.2  \n",
              "1               27.612         8.2  \n",
              "2               27.612         8.2  \n",
              "3               27.612         8.2  \n",
              "4               27.612         8.2  \n",
              "...                ...         ...  \n",
              "34128            7.610         7.8  \n",
              "34129            7.610         7.8  \n",
              "34130            7.610         7.8  \n",
              "34131            3.688         7.7  \n",
              "34132            3.688         7.7  \n",
              "\n",
              "[34133 rows x 14 columns]"
            ]
          },
          "execution_count": 31,
          "metadata": {},
          "output_type": "execute_result"
        }
      ],
      "source": [
        "mdf2"
      ]
    },
    {
      "cell_type": "code",
      "execution_count": 32,
      "metadata": {
        "id": "Sn2PxnsThlUb"
      },
      "outputs": [],
      "source": [
        "cleaned_df2 = mdf2.dropna()"
      ]
    },
    {
      "cell_type": "code",
      "execution_count": 33,
      "metadata": {
        "colab": {
          "base_uri": "https://localhost:8080/"
        },
        "id": "Yyu734fehzt9",
        "outputId": "918eb73f-17a0-41bb-a9f7-f8ba47cbe179"
      },
      "outputs": [
        {
          "name": "stderr",
          "output_type": "stream",
          "text": [
            "c:\\Users\\equan\\anaconda3\\lib\\site-packages\\pandas\\core\\generic.py:5516: SettingWithCopyWarning: \n",
            "A value is trying to be set on a copy of a slice from a DataFrame.\n",
            "Try using .loc[row_indexer,col_indexer] = value instead\n",
            "\n",
            "See the caveats in the documentation: https://pandas.pydata.org/pandas-docs/stable/user_guide/indexing.html#returning-a-view-versus-a-copy\n",
            "  self[name] = value\n"
          ]
        },
        {
          "data": {
            "text/plain": [
              "Less than 50000    10418\n",
              "50000-99999         4393\n",
              "100000-149999       3511\n",
              "350000+             2294\n",
              "150000-199999       1359\n",
              "250000-299999        981\n",
              "200000-249999        944\n",
              "300000-349999        839\n",
              "Name: imdb_votes, dtype: int64"
            ]
          },
          "execution_count": 33,
          "metadata": {},
          "output_type": "execute_result"
        }
      ],
      "source": [
        "# Determine which values to replace if greater than 1000.\n",
        "replace_votes = list(imdb_counts[imdb_counts < 10000].index)\n",
        "\n",
        "# Replace in DataFrame\n",
        "for votes in replace_votes:\n",
        "  if votes <= 50000:\n",
        "    cleaned_df2.imdb_votes = cleaned_df2.imdb_votes.replace(votes,str(\"Less than 50000\"))\n",
        "  elif votes < 100000:\n",
        "    cleaned_df2.imdb_votes = cleaned_df2.imdb_votes.replace(votes,str(\"50000-99999\"))\n",
        "  elif votes < 150000:\n",
        "    cleaned_df2.imdb_votes = cleaned_df2.imdb_votes.replace(votes,str(\"100000-149999\"))\n",
        "  elif votes < 200000:\n",
        "    cleaned_df2.imdb_votes = cleaned_df2.imdb_votes.replace(votes,str(\"150000-199999\"))\n",
        "  elif votes < 250000:\n",
        "    cleaned_df2.imdb_votes = cleaned_df2.imdb_votes.replace(votes,str(\"200000-249999\"))\n",
        "  elif votes < 300000:\n",
        "    cleaned_df2.imdb_votes = cleaned_df2.imdb_votes.replace(votes,str(\"250000-299999\"))\n",
        "  elif votes < 350000:\n",
        "    cleaned_df2.imdb_votes = cleaned_df2.imdb_votes.replace(votes,str(\"300000-349999\"))\n",
        "  else:\n",
        "    cleaned_df2.imdb_votes = cleaned_df2.imdb_votes.replace(votes,str(\"350000+\"))\n",
        "\n",
        "# mdf.imdb_votes = mdf.imdb_votes.astype(str)\n",
        "\n",
        "# Check if binning was successful\n",
        "cleaned_df2.imdb_votes.value_counts()"
      ]
    },
    {
      "cell_type": "code",
      "execution_count": 34,
      "metadata": {
        "colab": {
          "base_uri": "https://localhost:8080/"
        },
        "id": "Dalg0IUikE6m",
        "outputId": "69f67cba-599a-4b30-8f1e-9ae91f23162c"
      },
      "outputs": [
        {
          "name": "stderr",
          "output_type": "stream",
          "text": [
            "C:\\Users\\equan\\AppData\\Local\\Temp/ipykernel_21384/3923908852.py:6: SettingWithCopyWarning: \n",
            "A value is trying to be set on a copy of a slice from a DataFrame.\n",
            "Try using .loc[row_indexer,col_indexer] = value instead\n",
            "\n",
            "See the caveats in the documentation: https://pandas.pydata.org/pandas-docs/stable/user_guide/indexing.html#returning-a-view-versus-a-copy\n",
            "  cleaned_df2[\"imdb_score\"] = cleaned_df2.imdb_score.replace(score,str(\"good_score\"))\n",
            "C:\\Users\\equan\\AppData\\Local\\Temp/ipykernel_21384/3923908852.py:8: SettingWithCopyWarning: \n",
            "A value is trying to be set on a copy of a slice from a DataFrame.\n",
            "Try using .loc[row_indexer,col_indexer] = value instead\n",
            "\n",
            "See the caveats in the documentation: https://pandas.pydata.org/pandas-docs/stable/user_guide/indexing.html#returning-a-view-versus-a-copy\n",
            "  cleaned_df2[\"imdb_score\"] = cleaned_df2.imdb_score.replace(score,str(\"bad_score\"))\n"
          ]
        },
        {
          "data": {
            "text/plain": [
              "6.5    1544\n",
              "6.7    1396\n",
              "6.3    1356\n",
              "6.6    1342\n",
              "6.8    1241\n",
              "       ... \n",
              "2.0      16\n",
              "2.4      13\n",
              "2.7      12\n",
              "8.7       9\n",
              "8.5       3\n",
              "Name: imdb_score, Length: 65, dtype: int64"
            ]
          },
          "execution_count": 34,
          "metadata": {},
          "output_type": "execute_result"
        }
      ],
      "source": [
        "# bin imdb_scores with a cutoff of 8.0 for score\n",
        "scores = cleaned_df2['imdb_score'].copy()\n",
        "\n",
        "for score in scores:\n",
        "  if score >= 8.0:\n",
        "    cleaned_df2[\"imdb_score\"] = cleaned_df2.imdb_score.replace(score,str(\"good_score\"))\n",
        "  else:\n",
        "    cleaned_df2[\"imdb_score\"] = cleaned_df2.imdb_score.replace(score,str(\"bad_score\"))\n",
        "\n",
        "# check to see if binning was successful\n",
        "cleaned_df.imdb_score.value_counts()"
      ]
    },
    {
      "cell_type": "code",
      "execution_count": 35,
      "metadata": {
        "colab": {
          "base_uri": "https://localhost:8080/",
          "height": 731
        },
        "id": "6vDEsU1ZiC1Y",
        "outputId": "98b9770e-2a56-418f-dacb-11d8936131e5"
      },
      "outputs": [
        {
          "data": {
            "text/html": [
              "<div>\n",
              "<style scoped>\n",
              "    .dataframe tbody tr th:only-of-type {\n",
              "        vertical-align: middle;\n",
              "    }\n",
              "\n",
              "    .dataframe tbody tr th {\n",
              "        vertical-align: top;\n",
              "    }\n",
              "\n",
              "    .dataframe thead th {\n",
              "        text-align: right;\n",
              "    }\n",
              "</style>\n",
              "<table border=\"1\" class=\"dataframe\">\n",
              "  <thead>\n",
              "    <tr style=\"text-align: right;\">\n",
              "      <th></th>\n",
              "      <th>person_id</th>\n",
              "      <th>id</th>\n",
              "      <th>role</th>\n",
              "      <th>title</th>\n",
              "      <th>release_year</th>\n",
              "      <th>age_certification</th>\n",
              "      <th>runtime</th>\n",
              "      <th>genres</th>\n",
              "      <th>production_countries</th>\n",
              "      <th>imdb_id</th>\n",
              "      <th>imdb_score</th>\n",
              "      <th>imdb_votes</th>\n",
              "      <th>tmdb_popularity</th>\n",
              "      <th>tmdb_score</th>\n",
              "    </tr>\n",
              "  </thead>\n",
              "  <tbody>\n",
              "    <tr>\n",
              "      <th>0</th>\n",
              "      <td>3748</td>\n",
              "      <td>tm84618</td>\n",
              "      <td>ACTOR</td>\n",
              "      <td>Taxi Driver</td>\n",
              "      <td>1976</td>\n",
              "      <td>R</td>\n",
              "      <td>113</td>\n",
              "      <td>[''crime'', ''drama'']</td>\n",
              "      <td>['US']</td>\n",
              "      <td>tt0075314</td>\n",
              "      <td>good_score</td>\n",
              "      <td>350000+</td>\n",
              "      <td>27.612</td>\n",
              "      <td>8.2</td>\n",
              "    </tr>\n",
              "    <tr>\n",
              "      <th>1</th>\n",
              "      <td>14658</td>\n",
              "      <td>tm84618</td>\n",
              "      <td>ACTOR</td>\n",
              "      <td>Taxi Driver</td>\n",
              "      <td>1976</td>\n",
              "      <td>R</td>\n",
              "      <td>113</td>\n",
              "      <td>[''crime'', ''drama'']</td>\n",
              "      <td>['US']</td>\n",
              "      <td>tt0075314</td>\n",
              "      <td>good_score</td>\n",
              "      <td>350000+</td>\n",
              "      <td>27.612</td>\n",
              "      <td>8.2</td>\n",
              "    </tr>\n",
              "    <tr>\n",
              "      <th>2</th>\n",
              "      <td>7064</td>\n",
              "      <td>tm84618</td>\n",
              "      <td>ACTOR</td>\n",
              "      <td>Taxi Driver</td>\n",
              "      <td>1976</td>\n",
              "      <td>R</td>\n",
              "      <td>113</td>\n",
              "      <td>[''crime'', ''drama'']</td>\n",
              "      <td>['US']</td>\n",
              "      <td>tt0075314</td>\n",
              "      <td>good_score</td>\n",
              "      <td>350000+</td>\n",
              "      <td>27.612</td>\n",
              "      <td>8.2</td>\n",
              "    </tr>\n",
              "    <tr>\n",
              "      <th>3</th>\n",
              "      <td>3739</td>\n",
              "      <td>tm84618</td>\n",
              "      <td>ACTOR</td>\n",
              "      <td>Taxi Driver</td>\n",
              "      <td>1976</td>\n",
              "      <td>R</td>\n",
              "      <td>113</td>\n",
              "      <td>[''crime'', ''drama'']</td>\n",
              "      <td>['US']</td>\n",
              "      <td>tt0075314</td>\n",
              "      <td>good_score</td>\n",
              "      <td>350000+</td>\n",
              "      <td>27.612</td>\n",
              "      <td>8.2</td>\n",
              "    </tr>\n",
              "    <tr>\n",
              "      <th>4</th>\n",
              "      <td>48933</td>\n",
              "      <td>tm84618</td>\n",
              "      <td>ACTOR</td>\n",
              "      <td>Taxi Driver</td>\n",
              "      <td>1976</td>\n",
              "      <td>R</td>\n",
              "      <td>113</td>\n",
              "      <td>[''crime'', ''drama'']</td>\n",
              "      <td>['US']</td>\n",
              "      <td>tt0075314</td>\n",
              "      <td>good_score</td>\n",
              "      <td>350000+</td>\n",
              "      <td>27.612</td>\n",
              "      <td>8.2</td>\n",
              "    </tr>\n",
              "    <tr>\n",
              "      <th>...</th>\n",
              "      <td>...</td>\n",
              "      <td>...</td>\n",
              "      <td>...</td>\n",
              "      <td>...</td>\n",
              "      <td>...</td>\n",
              "      <td>...</td>\n",
              "      <td>...</td>\n",
              "      <td>...</td>\n",
              "      <td>...</td>\n",
              "      <td>...</td>\n",
              "      <td>...</td>\n",
              "      <td>...</td>\n",
              "      <td>...</td>\n",
              "      <td>...</td>\n",
              "    </tr>\n",
              "    <tr>\n",
              "      <th>34109</th>\n",
              "      <td>184181</td>\n",
              "      <td>tm1033635</td>\n",
              "      <td>DIRECTOR</td>\n",
              "      <td>Sisters on Track</td>\n",
              "      <td>2021</td>\n",
              "      <td>PG</td>\n",
              "      <td>96</td>\n",
              "      <td>[''documentation'', ''sport'']</td>\n",
              "      <td>['US']</td>\n",
              "      <td>tt9337574</td>\n",
              "      <td>bad_score</td>\n",
              "      <td>Less than 50000</td>\n",
              "      <td>15.497</td>\n",
              "      <td>7.2</td>\n",
              "    </tr>\n",
              "    <tr>\n",
              "      <th>34120</th>\n",
              "      <td>2054167</td>\n",
              "      <td>tm1099320</td>\n",
              "      <td>ACTOR</td>\n",
              "      <td>Convergence: Courage in a Crisis</td>\n",
              "      <td>2021</td>\n",
              "      <td>R</td>\n",
              "      <td>113</td>\n",
              "      <td>['documentation']</td>\n",
              "      <td>[''US'', ''GB'']</td>\n",
              "      <td>tt15398694</td>\n",
              "      <td>bad_score</td>\n",
              "      <td>Less than 50000</td>\n",
              "      <td>9.258</td>\n",
              "      <td>5.2</td>\n",
              "    </tr>\n",
              "    <tr>\n",
              "      <th>34121</th>\n",
              "      <td>1016583</td>\n",
              "      <td>tm1099320</td>\n",
              "      <td>ACTOR</td>\n",
              "      <td>Convergence: Courage in a Crisis</td>\n",
              "      <td>2021</td>\n",
              "      <td>R</td>\n",
              "      <td>113</td>\n",
              "      <td>['documentation']</td>\n",
              "      <td>[''US'', ''GB'']</td>\n",
              "      <td>tt15398694</td>\n",
              "      <td>bad_score</td>\n",
              "      <td>Less than 50000</td>\n",
              "      <td>9.258</td>\n",
              "      <td>5.2</td>\n",
              "    </tr>\n",
              "    <tr>\n",
              "      <th>34122</th>\n",
              "      <td>2061132</td>\n",
              "      <td>tm1099320</td>\n",
              "      <td>ACTOR</td>\n",
              "      <td>Convergence: Courage in a Crisis</td>\n",
              "      <td>2021</td>\n",
              "      <td>R</td>\n",
              "      <td>113</td>\n",
              "      <td>['documentation']</td>\n",
              "      <td>[''US'', ''GB'']</td>\n",
              "      <td>tt15398694</td>\n",
              "      <td>bad_score</td>\n",
              "      <td>Less than 50000</td>\n",
              "      <td>9.258</td>\n",
              "      <td>5.2</td>\n",
              "    </tr>\n",
              "    <tr>\n",
              "      <th>34123</th>\n",
              "      <td>52006</td>\n",
              "      <td>tm1099320</td>\n",
              "      <td>DIRECTOR</td>\n",
              "      <td>Convergence: Courage in a Crisis</td>\n",
              "      <td>2021</td>\n",
              "      <td>R</td>\n",
              "      <td>113</td>\n",
              "      <td>['documentation']</td>\n",
              "      <td>[''US'', ''GB'']</td>\n",
              "      <td>tt15398694</td>\n",
              "      <td>bad_score</td>\n",
              "      <td>Less than 50000</td>\n",
              "      <td>9.258</td>\n",
              "      <td>5.2</td>\n",
              "    </tr>\n",
              "  </tbody>\n",
              "</table>\n",
              "<p>24739 rows × 14 columns</p>\n",
              "</div>"
            ],
            "text/plain": [
              "       person_id         id      role                             title  \\\n",
              "0           3748    tm84618     ACTOR                       Taxi Driver   \n",
              "1          14658    tm84618     ACTOR                       Taxi Driver   \n",
              "2           7064    tm84618     ACTOR                       Taxi Driver   \n",
              "3           3739    tm84618     ACTOR                       Taxi Driver   \n",
              "4          48933    tm84618     ACTOR                       Taxi Driver   \n",
              "...          ...        ...       ...                               ...   \n",
              "34109     184181  tm1033635  DIRECTOR                  Sisters on Track   \n",
              "34120    2054167  tm1099320     ACTOR  Convergence: Courage in a Crisis   \n",
              "34121    1016583  tm1099320     ACTOR  Convergence: Courage in a Crisis   \n",
              "34122    2061132  tm1099320     ACTOR  Convergence: Courage in a Crisis   \n",
              "34123      52006  tm1099320  DIRECTOR  Convergence: Courage in a Crisis   \n",
              "\n",
              "       release_year age_certification  runtime  \\\n",
              "0              1976                 R      113   \n",
              "1              1976                 R      113   \n",
              "2              1976                 R      113   \n",
              "3              1976                 R      113   \n",
              "4              1976                 R      113   \n",
              "...             ...               ...      ...   \n",
              "34109          2021                PG       96   \n",
              "34120          2021                 R      113   \n",
              "34121          2021                 R      113   \n",
              "34122          2021                 R      113   \n",
              "34123          2021                 R      113   \n",
              "\n",
              "                               genres production_countries     imdb_id  \\\n",
              "0              [''crime'', ''drama'']               ['US']   tt0075314   \n",
              "1              [''crime'', ''drama'']               ['US']   tt0075314   \n",
              "2              [''crime'', ''drama'']               ['US']   tt0075314   \n",
              "3              [''crime'', ''drama'']               ['US']   tt0075314   \n",
              "4              [''crime'', ''drama'']               ['US']   tt0075314   \n",
              "...                               ...                  ...         ...   \n",
              "34109  [''documentation'', ''sport'']               ['US']   tt9337574   \n",
              "34120               ['documentation']     [''US'', ''GB'']  tt15398694   \n",
              "34121               ['documentation']     [''US'', ''GB'']  tt15398694   \n",
              "34122               ['documentation']     [''US'', ''GB'']  tt15398694   \n",
              "34123               ['documentation']     [''US'', ''GB'']  tt15398694   \n",
              "\n",
              "       imdb_score       imdb_votes  tmdb_popularity  tmdb_score  \n",
              "0      good_score          350000+           27.612         8.2  \n",
              "1      good_score          350000+           27.612         8.2  \n",
              "2      good_score          350000+           27.612         8.2  \n",
              "3      good_score          350000+           27.612         8.2  \n",
              "4      good_score          350000+           27.612         8.2  \n",
              "...           ...              ...              ...         ...  \n",
              "34109   bad_score  Less than 50000           15.497         7.2  \n",
              "34120   bad_score  Less than 50000            9.258         5.2  \n",
              "34121   bad_score  Less than 50000            9.258         5.2  \n",
              "34122   bad_score  Less than 50000            9.258         5.2  \n",
              "34123   bad_score  Less than 50000            9.258         5.2  \n",
              "\n",
              "[24739 rows x 14 columns]"
            ]
          },
          "execution_count": 35,
          "metadata": {},
          "output_type": "execute_result"
        }
      ],
      "source": [
        "cleaned_df2"
      ]
    },
    {
      "cell_type": "code",
      "execution_count": 36,
      "metadata": {
        "id": "81_lntKPiEI4"
      },
      "outputs": [],
      "source": [
        "X = cleaned_df2.drop(columns=\"imdb_score\")\n",
        "X = pd.get_dummies(cleaned_df2, columns=[\"id\", \"role\", \"title\", \"age_certification\", \"genres\", \"production_countries\", \"imdb_id\", \"imdb_score\", \"imdb_votes\"])\n",
        "y = cleaned_df2[\"imdb_score\"]"
      ]
    },
    {
      "cell_type": "code",
      "execution_count": 37,
      "metadata": {
        "colab": {
          "base_uri": "https://localhost:8080/"
        },
        "id": "cNU8g9kqiELs",
        "outputId": "929d13aa-3818-4ce6-e951-64c0192ebc53"
      },
      "outputs": [
        {
          "data": {
            "text/plain": [
              "(18554, 2861)"
            ]
          },
          "execution_count": 37,
          "metadata": {},
          "output_type": "execute_result"
        }
      ],
      "source": [
        "X_train, X_test, y_train, y_test = train_test_split(X,\n",
        "    y, random_state=1, stratify=y)\n",
        "X_train.shape"
      ]
    },
    {
      "cell_type": "code",
      "execution_count": 38,
      "metadata": {
        "colab": {
          "base_uri": "https://localhost:8080/",
          "height": 411
        },
        "id": "ZezcOv9fivRX",
        "outputId": "f95b470f-8cbb-4175-a181-9ee34039fb73"
      },
      "outputs": [
        {
          "data": {
            "text/html": [
              "<div>\n",
              "<style scoped>\n",
              "    .dataframe tbody tr th:only-of-type {\n",
              "        vertical-align: middle;\n",
              "    }\n",
              "\n",
              "    .dataframe tbody tr th {\n",
              "        vertical-align: top;\n",
              "    }\n",
              "\n",
              "    .dataframe thead th {\n",
              "        text-align: right;\n",
              "    }\n",
              "</style>\n",
              "<table border=\"1\" class=\"dataframe\">\n",
              "  <thead>\n",
              "    <tr style=\"text-align: right;\">\n",
              "      <th></th>\n",
              "      <th>person_id</th>\n",
              "      <th>release_year</th>\n",
              "      <th>runtime</th>\n",
              "      <th>tmdb_popularity</th>\n",
              "      <th>tmdb_score</th>\n",
              "      <th>id_tm1001108</th>\n",
              "      <th>id_tm1003353</th>\n",
              "      <th>id_tm1003630</th>\n",
              "      <th>id_tm101249</th>\n",
              "      <th>id_tm101334</th>\n",
              "      <th>...</th>\n",
              "      <th>imdb_score_bad_score</th>\n",
              "      <th>imdb_score_good_score</th>\n",
              "      <th>imdb_votes_100000-149999</th>\n",
              "      <th>imdb_votes_150000-199999</th>\n",
              "      <th>imdb_votes_200000-249999</th>\n",
              "      <th>imdb_votes_250000-299999</th>\n",
              "      <th>imdb_votes_300000-349999</th>\n",
              "      <th>imdb_votes_350000+</th>\n",
              "      <th>imdb_votes_50000-99999</th>\n",
              "      <th>imdb_votes_Less than 50000</th>\n",
              "    </tr>\n",
              "  </thead>\n",
              "  <tbody>\n",
              "    <tr>\n",
              "      <th>count</th>\n",
              "      <td>2.473900e+04</td>\n",
              "      <td>24739.000000</td>\n",
              "      <td>24739.000000</td>\n",
              "      <td>24739.000000</td>\n",
              "      <td>24739.000000</td>\n",
              "      <td>24739.000000</td>\n",
              "      <td>24739.000000</td>\n",
              "      <td>24739.000000</td>\n",
              "      <td>24739.000000</td>\n",
              "      <td>24739.000000</td>\n",
              "      <td>...</td>\n",
              "      <td>24739.000000</td>\n",
              "      <td>24739.000000</td>\n",
              "      <td>24739.000000</td>\n",
              "      <td>24739.000000</td>\n",
              "      <td>24739.000000</td>\n",
              "      <td>24739.000000</td>\n",
              "      <td>24739.000000</td>\n",
              "      <td>24739.000000</td>\n",
              "      <td>24739.000000</td>\n",
              "      <td>24739.000000</td>\n",
              "    </tr>\n",
              "    <tr>\n",
              "      <th>mean</th>\n",
              "      <td>4.135006e+05</td>\n",
              "      <td>2012.120538</td>\n",
              "      <td>110.534581</td>\n",
              "      <td>33.952299</td>\n",
              "      <td>6.571717</td>\n",
              "      <td>0.001940</td>\n",
              "      <td>0.000970</td>\n",
              "      <td>0.000849</td>\n",
              "      <td>0.001011</td>\n",
              "      <td>0.000808</td>\n",
              "      <td>...</td>\n",
              "      <td>0.955172</td>\n",
              "      <td>0.044828</td>\n",
              "      <td>0.141922</td>\n",
              "      <td>0.054934</td>\n",
              "      <td>0.038158</td>\n",
              "      <td>0.039654</td>\n",
              "      <td>0.033914</td>\n",
              "      <td>0.092728</td>\n",
              "      <td>0.177574</td>\n",
              "      <td>0.421116</td>\n",
              "    </tr>\n",
              "    <tr>\n",
              "      <th>std</th>\n",
              "      <td>5.816080e+05</td>\n",
              "      <td>9.290887</td>\n",
              "      <td>22.491052</td>\n",
              "      <td>49.237333</td>\n",
              "      <td>0.809428</td>\n",
              "      <td>0.044006</td>\n",
              "      <td>0.031132</td>\n",
              "      <td>0.029123</td>\n",
              "      <td>0.031774</td>\n",
              "      <td>0.028422</td>\n",
              "      <td>...</td>\n",
              "      <td>0.206930</td>\n",
              "      <td>0.206930</td>\n",
              "      <td>0.348977</td>\n",
              "      <td>0.227855</td>\n",
              "      <td>0.191582</td>\n",
              "      <td>0.195149</td>\n",
              "      <td>0.181012</td>\n",
              "      <td>0.290057</td>\n",
              "      <td>0.382161</td>\n",
              "      <td>0.493748</td>\n",
              "    </tr>\n",
              "    <tr>\n",
              "      <th>min</th>\n",
              "      <td>7.000000e+00</td>\n",
              "      <td>1964.000000</td>\n",
              "      <td>13.000000</td>\n",
              "      <td>0.600000</td>\n",
              "      <td>2.000000</td>\n",
              "      <td>0.000000</td>\n",
              "      <td>0.000000</td>\n",
              "      <td>0.000000</td>\n",
              "      <td>0.000000</td>\n",
              "      <td>0.000000</td>\n",
              "      <td>...</td>\n",
              "      <td>0.000000</td>\n",
              "      <td>0.000000</td>\n",
              "      <td>0.000000</td>\n",
              "      <td>0.000000</td>\n",
              "      <td>0.000000</td>\n",
              "      <td>0.000000</td>\n",
              "      <td>0.000000</td>\n",
              "      <td>0.000000</td>\n",
              "      <td>0.000000</td>\n",
              "      <td>0.000000</td>\n",
              "    </tr>\n",
              "    <tr>\n",
              "      <th>25%</th>\n",
              "      <td>1.498900e+04</td>\n",
              "      <td>2008.000000</td>\n",
              "      <td>95.000000</td>\n",
              "      <td>13.293000</td>\n",
              "      <td>6.000000</td>\n",
              "      <td>0.000000</td>\n",
              "      <td>0.000000</td>\n",
              "      <td>0.000000</td>\n",
              "      <td>0.000000</td>\n",
              "      <td>0.000000</td>\n",
              "      <td>...</td>\n",
              "      <td>1.000000</td>\n",
              "      <td>0.000000</td>\n",
              "      <td>0.000000</td>\n",
              "      <td>0.000000</td>\n",
              "      <td>0.000000</td>\n",
              "      <td>0.000000</td>\n",
              "      <td>0.000000</td>\n",
              "      <td>0.000000</td>\n",
              "      <td>0.000000</td>\n",
              "      <td>0.000000</td>\n",
              "    </tr>\n",
              "    <tr>\n",
              "      <th>50%</th>\n",
              "      <td>7.947100e+04</td>\n",
              "      <td>2015.000000</td>\n",
              "      <td>107.000000</td>\n",
              "      <td>19.682000</td>\n",
              "      <td>6.600000</td>\n",
              "      <td>0.000000</td>\n",
              "      <td>0.000000</td>\n",
              "      <td>0.000000</td>\n",
              "      <td>0.000000</td>\n",
              "      <td>0.000000</td>\n",
              "      <td>...</td>\n",
              "      <td>1.000000</td>\n",
              "      <td>0.000000</td>\n",
              "      <td>0.000000</td>\n",
              "      <td>0.000000</td>\n",
              "      <td>0.000000</td>\n",
              "      <td>0.000000</td>\n",
              "      <td>0.000000</td>\n",
              "      <td>0.000000</td>\n",
              "      <td>0.000000</td>\n",
              "      <td>0.000000</td>\n",
              "    </tr>\n",
              "    <tr>\n",
              "      <th>75%</th>\n",
              "      <td>6.998740e+05</td>\n",
              "      <td>2019.000000</td>\n",
              "      <td>122.000000</td>\n",
              "      <td>38.136000</td>\n",
              "      <td>7.200000</td>\n",
              "      <td>0.000000</td>\n",
              "      <td>0.000000</td>\n",
              "      <td>0.000000</td>\n",
              "      <td>0.000000</td>\n",
              "      <td>0.000000</td>\n",
              "      <td>...</td>\n",
              "      <td>1.000000</td>\n",
              "      <td>0.000000</td>\n",
              "      <td>0.000000</td>\n",
              "      <td>0.000000</td>\n",
              "      <td>0.000000</td>\n",
              "      <td>0.000000</td>\n",
              "      <td>0.000000</td>\n",
              "      <td>0.000000</td>\n",
              "      <td>0.000000</td>\n",
              "      <td>1.000000</td>\n",
              "    </tr>\n",
              "    <tr>\n",
              "      <th>max</th>\n",
              "      <td>2.361651e+06</td>\n",
              "      <td>2022.000000</td>\n",
              "      <td>229.000000</td>\n",
              "      <td>919.599000</td>\n",
              "      <td>8.500000</td>\n",
              "      <td>1.000000</td>\n",
              "      <td>1.000000</td>\n",
              "      <td>1.000000</td>\n",
              "      <td>1.000000</td>\n",
              "      <td>1.000000</td>\n",
              "      <td>...</td>\n",
              "      <td>1.000000</td>\n",
              "      <td>1.000000</td>\n",
              "      <td>1.000000</td>\n",
              "      <td>1.000000</td>\n",
              "      <td>1.000000</td>\n",
              "      <td>1.000000</td>\n",
              "      <td>1.000000</td>\n",
              "      <td>1.000000</td>\n",
              "      <td>1.000000</td>\n",
              "      <td>1.000000</td>\n",
              "    </tr>\n",
              "  </tbody>\n",
              "</table>\n",
              "<p>8 rows × 2861 columns</p>\n",
              "</div>"
            ],
            "text/plain": [
              "          person_id  release_year       runtime  tmdb_popularity  \\\n",
              "count  2.473900e+04  24739.000000  24739.000000     24739.000000   \n",
              "mean   4.135006e+05   2012.120538    110.534581        33.952299   \n",
              "std    5.816080e+05      9.290887     22.491052        49.237333   \n",
              "min    7.000000e+00   1964.000000     13.000000         0.600000   \n",
              "25%    1.498900e+04   2008.000000     95.000000        13.293000   \n",
              "50%    7.947100e+04   2015.000000    107.000000        19.682000   \n",
              "75%    6.998740e+05   2019.000000    122.000000        38.136000   \n",
              "max    2.361651e+06   2022.000000    229.000000       919.599000   \n",
              "\n",
              "         tmdb_score  id_tm1001108  id_tm1003353  id_tm1003630   id_tm101249  \\\n",
              "count  24739.000000  24739.000000  24739.000000  24739.000000  24739.000000   \n",
              "mean       6.571717      0.001940      0.000970      0.000849      0.001011   \n",
              "std        0.809428      0.044006      0.031132      0.029123      0.031774   \n",
              "min        2.000000      0.000000      0.000000      0.000000      0.000000   \n",
              "25%        6.000000      0.000000      0.000000      0.000000      0.000000   \n",
              "50%        6.600000      0.000000      0.000000      0.000000      0.000000   \n",
              "75%        7.200000      0.000000      0.000000      0.000000      0.000000   \n",
              "max        8.500000      1.000000      1.000000      1.000000      1.000000   \n",
              "\n",
              "        id_tm101334  ...  imdb_score_bad_score  imdb_score_good_score  \\\n",
              "count  24739.000000  ...          24739.000000           24739.000000   \n",
              "mean       0.000808  ...              0.955172               0.044828   \n",
              "std        0.028422  ...              0.206930               0.206930   \n",
              "min        0.000000  ...              0.000000               0.000000   \n",
              "25%        0.000000  ...              1.000000               0.000000   \n",
              "50%        0.000000  ...              1.000000               0.000000   \n",
              "75%        0.000000  ...              1.000000               0.000000   \n",
              "max        1.000000  ...              1.000000               1.000000   \n",
              "\n",
              "       imdb_votes_100000-149999  imdb_votes_150000-199999  \\\n",
              "count              24739.000000              24739.000000   \n",
              "mean                   0.141922                  0.054934   \n",
              "std                    0.348977                  0.227855   \n",
              "min                    0.000000                  0.000000   \n",
              "25%                    0.000000                  0.000000   \n",
              "50%                    0.000000                  0.000000   \n",
              "75%                    0.000000                  0.000000   \n",
              "max                    1.000000                  1.000000   \n",
              "\n",
              "       imdb_votes_200000-249999  imdb_votes_250000-299999  \\\n",
              "count              24739.000000              24739.000000   \n",
              "mean                   0.038158                  0.039654   \n",
              "std                    0.191582                  0.195149   \n",
              "min                    0.000000                  0.000000   \n",
              "25%                    0.000000                  0.000000   \n",
              "50%                    0.000000                  0.000000   \n",
              "75%                    0.000000                  0.000000   \n",
              "max                    1.000000                  1.000000   \n",
              "\n",
              "       imdb_votes_300000-349999  imdb_votes_350000+  imdb_votes_50000-99999  \\\n",
              "count              24739.000000        24739.000000            24739.000000   \n",
              "mean                   0.033914            0.092728                0.177574   \n",
              "std                    0.181012            0.290057                0.382161   \n",
              "min                    0.000000            0.000000                0.000000   \n",
              "25%                    0.000000            0.000000                0.000000   \n",
              "50%                    0.000000            0.000000                0.000000   \n",
              "75%                    0.000000            0.000000                0.000000   \n",
              "max                    1.000000            1.000000                1.000000   \n",
              "\n",
              "       imdb_votes_Less than 50000  \n",
              "count                24739.000000  \n",
              "mean                     0.421116  \n",
              "std                      0.493748  \n",
              "min                      0.000000  \n",
              "25%                      0.000000  \n",
              "50%                      0.000000  \n",
              "75%                      1.000000  \n",
              "max                      1.000000  \n",
              "\n",
              "[8 rows x 2861 columns]"
            ]
          },
          "execution_count": 38,
          "metadata": {},
          "output_type": "execute_result"
        }
      ],
      "source": [
        "X.describe()"
      ]
    },
    {
      "cell_type": "code",
      "execution_count": 39,
      "metadata": {
        "colab": {
          "base_uri": "https://localhost:8080/"
        },
        "id": "08mMswU_i1su",
        "outputId": "4a37fa51-6408-4cb8-f148-45c1761f9a76"
      },
      "outputs": [
        {
          "data": {
            "text/plain": [
              "bad_score     23630\n",
              "good_score     1109\n",
              "Name: imdb_score, dtype: int64"
            ]
          },
          "execution_count": 39,
          "metadata": {},
          "output_type": "execute_result"
        }
      ],
      "source": [
        "y.value_counts()"
      ]
    },
    {
      "cell_type": "code",
      "execution_count": 40,
      "metadata": {
        "colab": {
          "base_uri": "https://localhost:8080/"
        },
        "id": "92IcwfgGkwOw",
        "outputId": "d1b61d45-81dc-4e49-c355-bfae013a28e9"
      },
      "outputs": [
        {
          "ename": "ModuleNotFoundError",
          "evalue": "No module named 'imblearn'",
          "output_type": "error",
          "traceback": [
            "\u001b[1;31m---------------------------------------------------------------------------\u001b[0m",
            "\u001b[1;31mModuleNotFoundError\u001b[0m                       Traceback (most recent call last)",
            "\u001b[1;32m~\\AppData\\Local\\Temp/ipykernel_21384/52097166.py\u001b[0m in \u001b[0;36m<module>\u001b[1;34m\u001b[0m\n\u001b[0;32m      1\u001b[0m \u001b[1;31m# Resample the training data with the BalancedRandomForestClassifier\u001b[0m\u001b[1;33m\u001b[0m\u001b[1;33m\u001b[0m\u001b[0m\n\u001b[1;32m----> 2\u001b[1;33m \u001b[1;32mfrom\u001b[0m \u001b[0mimblearn\u001b[0m\u001b[1;33m.\u001b[0m\u001b[0mensemble\u001b[0m \u001b[1;32mimport\u001b[0m \u001b[0mBalancedRandomForestClassifier\u001b[0m\u001b[1;33m\u001b[0m\u001b[1;33m\u001b[0m\u001b[0m\n\u001b[0m\u001b[0;32m      3\u001b[0m \u001b[0mbrfc\u001b[0m \u001b[1;33m=\u001b[0m \u001b[0mBalancedRandomForestClassifier\u001b[0m\u001b[1;33m(\u001b[0m\u001b[1;33m)\u001b[0m\u001b[1;33m\u001b[0m\u001b[1;33m\u001b[0m\u001b[0m\n\u001b[0;32m      4\u001b[0m \u001b[0mbrfc\u001b[0m\u001b[1;33m.\u001b[0m\u001b[0mfit\u001b[0m\u001b[1;33m(\u001b[0m\u001b[0mX_train\u001b[0m\u001b[1;33m,\u001b[0m \u001b[0my_train\u001b[0m\u001b[1;33m)\u001b[0m\u001b[1;33m\u001b[0m\u001b[1;33m\u001b[0m\u001b[0m\n",
            "\u001b[1;31mModuleNotFoundError\u001b[0m: No module named 'imblearn'"
          ]
        }
      ],
      "source": [
        "# Resample the training data with the BalancedRandomForestClassifier\n",
        "from imblearn.ensemble import BalancedRandomForestClassifier\n",
        "brfc = BalancedRandomForestClassifier()\n",
        "brfc.fit(X_train, y_train)"
      ]
    },
    {
      "cell_type": "code",
      "execution_count": 43,
      "metadata": {
        "colab": {
          "base_uri": "https://localhost:8080/"
        },
        "id": "nrW7w7-ek3iS",
        "outputId": "a407de1d-d7f0-4ae6-c38b-24b31c0a5222"
      },
      "outputs": [
        {
          "data": {
            "text/plain": [
              "1.0"
            ]
          },
          "execution_count": 43,
          "metadata": {},
          "output_type": "execute_result"
        }
      ],
      "source": [
        "# Calculated the balanced accuracy score\n",
        "# YOUR CODE HEREfrom sklearn.metrics import balanced_accuracy_score\n",
        "y_pred = brfc.predict(X_test)\n",
        "balanced_accuracy_score(y_test, y_pred)"
      ]
    },
    {
      "cell_type": "code",
      "execution_count": 44,
      "metadata": {
        "colab": {
          "base_uri": "https://localhost:8080/"
        },
        "id": "inzyMAd0lKYE",
        "outputId": "816de6e2-1c30-4762-c80e-d0ef822ab1c0"
      },
      "outputs": [
        {
          "data": {
            "text/plain": [
              "array([[5908,    0],\n",
              "       [   0,  277]])"
            ]
          },
          "execution_count": 44,
          "metadata": {},
          "output_type": "execute_result"
        }
      ],
      "source": [
        "# Display the confusion matrix\n",
        "from sklearn.metrics import confusion_matrix\n",
        "confusion_matrix(y_test, y_pred)"
      ]
    },
    {
      "cell_type": "code",
      "execution_count": 45,
      "metadata": {
        "colab": {
          "base_uri": "https://localhost:8080/"
        },
        "id": "bLkLKBvylPRE",
        "outputId": "ea430466-1c2a-4e5a-cc3c-8f94d04d9eda"
      },
      "outputs": [
        {
          "name": "stdout",
          "output_type": "stream",
          "text": [
            "                   pre       rec       spe        f1       geo       iba       sup\n",
            "\n",
            "  bad_score       1.00      1.00      1.00      1.00      1.00      1.00      5908\n",
            " good_score       1.00      1.00      1.00      1.00      1.00      1.00       277\n",
            "\n",
            "avg / total       1.00      1.00      1.00      1.00      1.00      1.00      6185\n",
            "\n"
          ]
        }
      ],
      "source": [
        "# Print the imbalanced classification report\n",
        "from imblearn.metrics import classification_report_imbalanced\n",
        "print(classification_report_imbalanced(y_test, y_pred))"
      ]
    },
    {
      "cell_type": "code",
      "execution_count": 46,
      "metadata": {
        "colab": {
          "base_uri": "https://localhost:8080/"
        },
        "id": "zZpSt0sqlToi",
        "outputId": "e204be26-c685-460c-93ae-36c9c870a38a"
      },
      "outputs": [
        {
          "name": "stdout",
          "output_type": "stream",
          "text": [
            "imdb_score_good_score              0.204248\n",
            "imdb_score_bad_score               0.132358\n",
            "tmdb_score                         0.107558\n",
            "imdb_votes_350000+                 0.086007\n",
            "runtime                            0.060086\n",
            "                                     ...   \n",
            "title_Monster High: Electrified    0.000000\n",
            "title_Monster                      0.000000\n",
            "title_Miss Americana               0.000000\n",
            "title_Midnight Sun                 0.000000\n",
            "title_The Prom                     0.000000\n",
            "Length: 2861, dtype: float64\n"
          ]
        }
      ],
      "source": [
        "# List the features sorted in descending order by feature importance\n",
        "priority_features = pd.Series(data=brfc.feature_importances_,index=X.columns)\n",
        "priority_features.sort_values(ascending=False,inplace=True)\n",
        "print(priority_features)"
      ]
    },
    {
      "cell_type": "markdown",
      "metadata": {
        "id": "z2LZrUa8oxCw"
      },
      "source": [
        "Naive Random Oversampling"
      ]
    },
    {
      "cell_type": "code",
      "execution_count": 47,
      "metadata": {
        "colab": {
          "base_uri": "https://localhost:8080/"
        },
        "id": "QaoCjt_Flb1q",
        "outputId": "a10e4026-c253-4925-87c1-bc287b62a745"
      },
      "outputs": [
        {
          "data": {
            "text/plain": [
              "Counter({'bad_score': 17722, 'good_score': 17722})"
            ]
          },
          "execution_count": 47,
          "metadata": {},
          "output_type": "execute_result"
        }
      ],
      "source": [
        "from collections import Counter\n",
        "# Resample the training data with the RandomOversampler\n",
        "from imblearn.over_sampling import RandomOverSampler\n",
        "ros = RandomOverSampler(random_state=1)\n",
        "X_resampled, y_resampled = ros.fit_resample(X_train, y_train)\n",
        "\n",
        "Counter(y_resampled)"
      ]
    },
    {
      "cell_type": "code",
      "execution_count": 48,
      "metadata": {
        "colab": {
          "base_uri": "https://localhost:8080/"
        },
        "id": "v6jB_gnaoPOB",
        "outputId": "3cc601fa-77e0-416b-eedd-222b94abda9e"
      },
      "outputs": [
        {
          "data": {
            "text/plain": [
              "LogisticRegression(random_state=1)"
            ]
          },
          "execution_count": 48,
          "metadata": {},
          "output_type": "execute_result"
        }
      ],
      "source": [
        "# Train the Logistic Regression model using the resampled data\n",
        "from sklearn.linear_model import LogisticRegression\n",
        "\n",
        "model = LogisticRegression(solver='lbfgs', random_state=1)\n",
        "model.fit(X_resampled, y_resampled)"
      ]
    },
    {
      "cell_type": "code",
      "execution_count": 49,
      "metadata": {
        "colab": {
          "base_uri": "https://localhost:8080/"
        },
        "id": "9MPT4E_FoYd4",
        "outputId": "93fcdef7-f169-4be1-f271-f2221c46bde2"
      },
      "outputs": [
        {
          "data": {
            "text/plain": [
              "0.7383019781047053"
            ]
          },
          "execution_count": 49,
          "metadata": {},
          "output_type": "execute_result"
        }
      ],
      "source": [
        "y_pred = model.predict(X_test)\n",
        "\n",
        "balanced_accuracy_score(y_test, y_pred)"
      ]
    },
    {
      "cell_type": "code",
      "execution_count": 50,
      "metadata": {
        "colab": {
          "base_uri": "https://localhost:8080/"
        },
        "id": "lPpTnajjodzC",
        "outputId": "4999f25e-15b4-4e03-eca1-a733df5074c5"
      },
      "outputs": [
        {
          "data": {
            "text/plain": [
              "array([[4778, 1130],\n",
              "       [  92,  185]])"
            ]
          },
          "execution_count": 50,
          "metadata": {},
          "output_type": "execute_result"
        }
      ],
      "source": [
        "confusion_matrix(y_test, y_pred)"
      ]
    },
    {
      "cell_type": "code",
      "execution_count": 51,
      "metadata": {
        "colab": {
          "base_uri": "https://localhost:8080/"
        },
        "id": "7hYsQkamom-S",
        "outputId": "85bdc50d-990d-4de8-a4e1-622c11813896"
      },
      "outputs": [
        {
          "name": "stdout",
          "output_type": "stream",
          "text": [
            "                   pre       rec       spe        f1       geo       iba       sup\n",
            "\n",
            "  bad_score       0.98      0.81      0.67      0.89      0.73      0.55      5908\n",
            " good_score       0.14      0.67      0.81      0.23      0.73      0.53       277\n",
            "\n",
            "avg / total       0.94      0.80      0.67      0.86      0.73      0.55      6185\n",
            "\n"
          ]
        }
      ],
      "source": [
        "print(classification_report_imbalanced(y_test, y_pred))"
      ]
    },
    {
      "cell_type": "markdown",
      "metadata": {
        "id": "8JiKc3sVo3ea"
      },
      "source": [
        "SMOTE Oversampling"
      ]
    },
    {
      "cell_type": "code",
      "execution_count": 52,
      "metadata": {
        "colab": {
          "base_uri": "https://localhost:8080/"
        },
        "id": "Zo-6RhcKpR3r",
        "outputId": "1c53fc1f-75f4-415e-8f0b-4e0396d5afc6"
      },
      "outputs": [
        {
          "data": {
            "text/plain": [
              "Counter({'bad_score': 17722, 'good_score': 17722})"
            ]
          },
          "execution_count": 52,
          "metadata": {},
          "output_type": "execute_result"
        }
      ],
      "source": [
        "# Resample the training data with SMOTE\n",
        "from imblearn.over_sampling import SMOTE\n",
        "X_resampled, y_resampled = SMOTE(random_state=1, sampling_strategy='auto').fit_resample(\n",
        "    X_train, y_train\n",
        ")\n",
        "Counter(y_resampled)"
      ]
    },
    {
      "cell_type": "code",
      "execution_count": 53,
      "metadata": {
        "colab": {
          "base_uri": "https://localhost:8080/"
        },
        "id": "ve5FJaZVpXu9",
        "outputId": "c5ecc61d-f0ff-470f-81fc-c4ab760a43d6"
      },
      "outputs": [
        {
          "data": {
            "text/plain": [
              "LogisticRegression(random_state=1)"
            ]
          },
          "execution_count": 53,
          "metadata": {},
          "output_type": "execute_result"
        }
      ],
      "source": [
        "# Train the Logistic Regression model using the resampled data\n",
        "model_2 = LogisticRegression(solver='lbfgs', random_state=1)\n",
        "model_2.fit(X_resampled, y_resampled)"
      ]
    },
    {
      "cell_type": "code",
      "execution_count": 54,
      "metadata": {
        "colab": {
          "base_uri": "https://localhost:8080/"
        },
        "id": "agSHbSa7pX39",
        "outputId": "7a05f76b-7bb8-4646-9e6e-956fd58fc61c"
      },
      "outputs": [
        {
          "data": {
            "text/plain": [
              "0.7383019781047053"
            ]
          },
          "execution_count": 54,
          "metadata": {},
          "output_type": "execute_result"
        }
      ],
      "source": [
        "# Calculated the balanced accuracy score\n",
        "y_pred = model.predict(X_test)\n",
        "balanced_accuracy_score(y_test, y_pred)"
      ]
    },
    {
      "cell_type": "code",
      "execution_count": 55,
      "metadata": {
        "colab": {
          "base_uri": "https://localhost:8080/"
        },
        "id": "XpWWUeHHpnBQ",
        "outputId": "655f3476-aeb4-4090-e793-311ef917e768"
      },
      "outputs": [
        {
          "data": {
            "text/plain": [
              "array([[4778, 1130],\n",
              "       [  92,  185]])"
            ]
          },
          "execution_count": 55,
          "metadata": {},
          "output_type": "execute_result"
        }
      ],
      "source": [
        "# Display the confusion matrix\n",
        "confusion_matrix(y_test, y_pred)"
      ]
    },
    {
      "cell_type": "code",
      "execution_count": 56,
      "metadata": {
        "colab": {
          "base_uri": "https://localhost:8080/"
        },
        "id": "uYfknLxZpzv8",
        "outputId": "03c7e1fa-9d16-4195-d5d5-bb2244beafbd"
      },
      "outputs": [
        {
          "name": "stdout",
          "output_type": "stream",
          "text": [
            "                   pre       rec       spe        f1       geo       iba       sup\n",
            "\n",
            "  bad_score       0.98      0.81      0.67      0.89      0.73      0.55      5908\n",
            " good_score       0.14      0.67      0.81      0.23      0.73      0.53       277\n",
            "\n",
            "avg / total       0.94      0.80      0.67      0.86      0.73      0.55      6185\n",
            "\n"
          ]
        }
      ],
      "source": [
        "# Print the imbalanced classification report\n",
        "print(classification_report_imbalanced(y_test, y_pred))"
      ]
    },
    {
      "cell_type": "markdown",
      "metadata": {
        "id": "7D3toVK1p1pY"
      },
      "source": [
        "Undersampling"
      ]
    },
    {
      "cell_type": "code",
      "execution_count": 57,
      "metadata": {
        "colab": {
          "base_uri": "https://localhost:8080/"
        },
        "id": "9no5q7GPqAQf",
        "outputId": "823d6fd8-cf84-4979-d210-a270ea8a805e"
      },
      "outputs": [
        {
          "data": {
            "text/plain": [
              "Counter({'bad_score': 832, 'good_score': 832})"
            ]
          },
          "execution_count": 57,
          "metadata": {},
          "output_type": "execute_result"
        }
      ],
      "source": [
        "# Resample the data using the ClusterCentroids resampler\n",
        "# Warning: This is a large dataset, and this step may take some time to complete\n",
        "from imblearn.under_sampling import ClusterCentroids\n",
        "cc = ClusterCentroids(random_state=1)\n",
        "X_resampled, y_resampled = cc.fit_resample(X_train, y_train)\n",
        "Counter(y_resampled)"
      ]
    },
    {
      "cell_type": "code",
      "execution_count": 58,
      "metadata": {
        "colab": {
          "base_uri": "https://localhost:8080/"
        },
        "id": "LmuQqlF2qAbA",
        "outputId": "88c6224b-ddc3-4923-ab9d-8c7f512bdc27"
      },
      "outputs": [
        {
          "data": {
            "text/plain": [
              "LogisticRegression(random_state=1)"
            ]
          },
          "execution_count": 58,
          "metadata": {},
          "output_type": "execute_result"
        }
      ],
      "source": [
        "# Train the Logistic Regression model using the resampled data\n",
        "model = LogisticRegression(solver='lbfgs', random_state=1)\n",
        "model.fit(X_resampled, y_resampled)"
      ]
    },
    {
      "cell_type": "code",
      "execution_count": 59,
      "metadata": {
        "colab": {
          "base_uri": "https://localhost:8080/"
        },
        "id": "_jtC2VP0q5i3",
        "outputId": "bb06afa0-f954-4d17-9367-0bf871dabb80"
      },
      "outputs": [
        {
          "data": {
            "text/plain": [
              "0.7577197534274032"
            ]
          },
          "execution_count": 59,
          "metadata": {},
          "output_type": "execute_result"
        }
      ],
      "source": [
        "# Calculated the balanced accuracy score\n",
        "y_pred = model.predict(X_test)\n",
        "balanced_accuracy_score(y_test, y_pred)"
      ]
    },
    {
      "cell_type": "code",
      "execution_count": 60,
      "metadata": {
        "colab": {
          "base_uri": "https://localhost:8080/"
        },
        "id": "8k8u08bBq83h",
        "outputId": "b6f0159a-ee04-4e73-edc4-6fc4bffbacca"
      },
      "outputs": [
        {
          "data": {
            "text/plain": [
              "array([[4005, 1903],\n",
              "       [  45,  232]])"
            ]
          },
          "execution_count": 60,
          "metadata": {},
          "output_type": "execute_result"
        }
      ],
      "source": [
        "\n",
        "# Display the confusion matrix\n",
        "confusion_matrix(y_test, y_pred)"
      ]
    },
    {
      "cell_type": "code",
      "execution_count": 61,
      "metadata": {
        "colab": {
          "base_uri": "https://localhost:8080/"
        },
        "id": "02CsLu89rAd3",
        "outputId": "fd7c03d2-47e4-491f-8ada-0a323dd4c5dc"
      },
      "outputs": [
        {
          "name": "stdout",
          "output_type": "stream",
          "text": [
            "                   pre       rec       spe        f1       geo       iba       sup\n",
            "\n",
            "  bad_score       0.99      0.68      0.84      0.80      0.75      0.56      5908\n",
            " good_score       0.11      0.84      0.68      0.19      0.75      0.58       277\n",
            "\n",
            "avg / total       0.95      0.69      0.83      0.78      0.75      0.56      6185\n",
            "\n"
          ]
        }
      ],
      "source": [
        "# Print the imbalanced classification report\n",
        "print(classification_report_imbalanced(y_test, y_pred))"
      ]
    },
    {
      "cell_type": "code",
      "execution_count": null,
      "metadata": {},
      "outputs": [],
      "source": [
        "# Exxporting unique Dataframe from the notebook to a csv. Movies with top IMDB Scores\n",
        "imdb_votes.to_csv('grouped votes')\n",
        "\n",
        "\n",
        "# Exporting Top Actors to CSV\n",
        "actors2.to_csv('Top Actors')\n",
        "\n",
        "\n",
        "# Exporting Top Directors to CSV\n",
        "directors2.to_csv('Top Directors')"
      ]
    }
  ],
  "metadata": {
    "colab": {
      "collapsed_sections": [],
      "name": "supervised_ml_prediction.ipynb",
      "provenance": []
    },
    "kernelspec": {
      "display_name": "mlenv",
      "language": "python",
      "name": "mlenv"
    },
    "language_info": {
      "codemirror_mode": {
        "name": "ipython",
        "version": 3
      },
      "file_extension": ".py",
      "mimetype": "text/x-python",
      "name": "python",
      "nbconvert_exporter": "python",
      "pygments_lexer": "ipython3",
      "version": "3.9.7"
    },
    "vscode": {
      "interpreter": {
        "hash": "fcbd1d899e2589b09a17554031c32842e524957600f5946fe1e3ecf77021f783"
      }
    }
  },
  "nbformat": 4,
  "nbformat_minor": 0
}
